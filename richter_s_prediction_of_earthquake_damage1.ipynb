{
  "nbformat": 4,
  "nbformat_minor": 0,
  "metadata": {
    "kernelspec": {
      "language": "python",
      "display_name": "Python 3",
      "name": "python3"
    },
    "language_info": {
      "pygments_lexer": "ipython3",
      "nbconvert_exporter": "python",
      "version": "3.6.4",
      "file_extension": ".py",
      "codemirror_mode": {
        "name": "ipython",
        "version": 3
      },
      "name": "python",
      "mimetype": "text/x-python"
    },
    "colab": {
      "name": "richter-s-prediction-of-earthquake-damage1.ipynb",
      "provenance": []
    }
  },
  "cells": [
    {
      "cell_type": "code",
      "metadata": {
        "_uuid": "8f2839f25d086af736a60e9eeb907d3b93b6e0e5",
        "_cell_guid": "b1076dfc-b9ad-4769-8c92-a6c4dae69d19",
        "trusted": true,
        "id": "rD_6CsvANfM6",
        "colab_type": "code",
        "colab": {}
      },
      "source": [
        "# # This Python 3 environment comes with many helpful analytics libraries installed\n",
        "# # It is defined by the kaggle/python Docker image: https://github.com/kaggle/docker-python\n",
        "# # For example, here's several helpful packages to load\n",
        "\n",
        "# import numpy as np # linear algebra\n",
        "# import pandas as pd # data processing, CSV file I/O (e.g. pd.read_csv)\n",
        "\n",
        "# # Input data files are available in the read-only \"../input/\" directory\n",
        "# # For example, running this (by clicking run or pressing Shift+Enter) will list all files under the input directory\n",
        "\n",
        "# import os\n",
        "# for dirname, _, filenames in os.walk('/kaggle/input'):\n",
        "#     for filename in filenames:\n",
        "#         print(os.path.join(dirname, filename))\n",
        "\n",
        "\n",
        "# # You can write up to 5GB to the current directory (/kaggle/working/) that gets preserved as output when you create a version using \"Save & Run All\" \n",
        "# # You can also write temporary files to /kaggle/temp/, but they won't be saved outside of the current session"
      ],
      "execution_count": null,
      "outputs": []
    },
    {
      "cell_type": "code",
      "metadata": {
        "trusted": true,
        "id": "_Ng4bpG0NfNL",
        "colab_type": "code",
        "colab": {
          "base_uri": "https://localhost:8080/",
          "height": 139
        },
        "outputId": "5be3c73f-929a-4158-bef2-5c45c6874c37"
      },
      "source": [
        "import matplotlib.pyplot as plt\n",
        "import numpy as np\n",
        "import pandas as pd\n",
        "import seaborn as sns\n",
        "import warnings\n",
        "from sklearn.metrics import fbeta_score, make_scorer\n",
        "from imblearn.over_sampling import SMOTE\n",
        "from imblearn.pipeline import make_pipeline\n",
        "from pylab import rcParams\n",
        "from sklearn.linear_model import LogisticRegression\n",
        "from sklearn.metrics import accuracy_score\n",
        "from sklearn.metrics import precision_score, recall_score\n",
        "from sklearn.metrics import f1_score, roc_auc_score, roc_curve\n",
        "from sklearn.model_selection import train_test_split\n",
        "from sklearn.model_selection import GridSearchCV\n",
        "from sklearn.metrics import hamming_loss\n",
        "from sklearn.metrics import precision_recall_curve\n",
        "from sklearn.metrics import plot_precision_recall_curve\n",
        "from sklearn.metrics import cohen_kappa_score\n",
        "from sklearn.metrics import classification_report\n",
        "from sklearn import metrics\n",
        "from sklearn.metrics import jaccard_score\n",
        "from sklearn.metrics import log_loss\n",
        "from sklearn.metrics import matthews_corrcoef\n",
        "from sklearn.metrics import zero_one_loss\n",
        "from sklearn.metrics import brier_score_loss\n",
        "from sklearn.metrics import balanced_accuracy_score"
      ],
      "execution_count": null,
      "outputs": [
        {
          "output_type": "stream",
          "text": [
            "/usr/local/lib/python3.6/dist-packages/statsmodels/tools/_testing.py:19: FutureWarning: pandas.util.testing is deprecated. Use the functions in the public API at pandas.testing instead.\n",
            "  import pandas.util.testing as tm\n",
            "/usr/local/lib/python3.6/dist-packages/sklearn/externals/six.py:31: FutureWarning: The module is deprecated in version 0.21 and will be removed in version 0.23 since we've dropped support for Python 2.7. Please rely on the official version of six (https://pypi.org/project/six/).\n",
            "  \"(https://pypi.org/project/six/).\", FutureWarning)\n",
            "/usr/local/lib/python3.6/dist-packages/sklearn/utils/deprecation.py:144: FutureWarning: The sklearn.neighbors.base module is  deprecated in version 0.22 and will be removed in version 0.24. The corresponding classes / functions should instead be imported from sklearn.neighbors. Anything that cannot be imported from sklearn.neighbors is now part of the private API.\n",
            "  warnings.warn(message, FutureWarning)\n"
          ],
          "name": "stderr"
        }
      ]
    },
    {
      "cell_type": "code",
      "metadata": {
        "_uuid": "d629ff2d2480ee46fbb7e2d37f6b5fab8052498a",
        "_cell_guid": "79c7e3d0-c299-4dcb-8224-4455121ee9b0",
        "trusted": true,
        "id": "rVr35JAENfNW",
        "colab_type": "code",
        "colab": {}
      },
      "source": [
        "df = pd.read_csv(\"train_values.csv\")"
      ],
      "execution_count": null,
      "outputs": []
    },
    {
      "cell_type": "code",
      "metadata": {
        "id": "rYUVMwSyPfz1",
        "colab_type": "code",
        "colab": {}
      },
      "source": [
        ""
      ],
      "execution_count": null,
      "outputs": []
    },
    {
      "cell_type": "code",
      "metadata": {
        "trusted": true,
        "id": "UdcajnONNfNn",
        "colab_type": "code",
        "colab": {
          "base_uri": "https://localhost:8080/",
          "height": 224
        },
        "outputId": "0e70b890-eb8c-4f99-9046-4378348c0ee0"
      },
      "source": [
        "df.head()"
      ],
      "execution_count": null,
      "outputs": [
        {
          "output_type": "execute_result",
          "data": {
            "text/html": [
              "<div>\n",
              "<style scoped>\n",
              "    .dataframe tbody tr th:only-of-type {\n",
              "        vertical-align: middle;\n",
              "    }\n",
              "\n",
              "    .dataframe tbody tr th {\n",
              "        vertical-align: top;\n",
              "    }\n",
              "\n",
              "    .dataframe thead th {\n",
              "        text-align: right;\n",
              "    }\n",
              "</style>\n",
              "<table border=\"1\" class=\"dataframe\">\n",
              "  <thead>\n",
              "    <tr style=\"text-align: right;\">\n",
              "      <th></th>\n",
              "      <th>building_id</th>\n",
              "      <th>geo_level_1_id</th>\n",
              "      <th>geo_level_2_id</th>\n",
              "      <th>geo_level_3_id</th>\n",
              "      <th>count_floors_pre_eq</th>\n",
              "      <th>age</th>\n",
              "      <th>area_percentage</th>\n",
              "      <th>height_percentage</th>\n",
              "      <th>land_surface_condition</th>\n",
              "      <th>foundation_type</th>\n",
              "      <th>roof_type</th>\n",
              "      <th>ground_floor_type</th>\n",
              "      <th>other_floor_type</th>\n",
              "      <th>position</th>\n",
              "      <th>plan_configuration</th>\n",
              "      <th>has_superstructure_adobe_mud</th>\n",
              "      <th>has_superstructure_mud_mortar_stone</th>\n",
              "      <th>has_superstructure_stone_flag</th>\n",
              "      <th>has_superstructure_cement_mortar_stone</th>\n",
              "      <th>has_superstructure_mud_mortar_brick</th>\n",
              "      <th>has_superstructure_cement_mortar_brick</th>\n",
              "      <th>has_superstructure_timber</th>\n",
              "      <th>has_superstructure_bamboo</th>\n",
              "      <th>has_superstructure_rc_non_engineered</th>\n",
              "      <th>has_superstructure_rc_engineered</th>\n",
              "      <th>has_superstructure_other</th>\n",
              "      <th>legal_ownership_status</th>\n",
              "      <th>count_families</th>\n",
              "      <th>has_secondary_use</th>\n",
              "      <th>has_secondary_use_agriculture</th>\n",
              "      <th>has_secondary_use_hotel</th>\n",
              "      <th>has_secondary_use_rental</th>\n",
              "      <th>has_secondary_use_institution</th>\n",
              "      <th>has_secondary_use_school</th>\n",
              "      <th>has_secondary_use_industry</th>\n",
              "      <th>has_secondary_use_health_post</th>\n",
              "      <th>has_secondary_use_gov_office</th>\n",
              "      <th>has_secondary_use_use_police</th>\n",
              "      <th>has_secondary_use_other</th>\n",
              "    </tr>\n",
              "  </thead>\n",
              "  <tbody>\n",
              "    <tr>\n",
              "      <th>0</th>\n",
              "      <td>802906</td>\n",
              "      <td>6</td>\n",
              "      <td>487</td>\n",
              "      <td>12198</td>\n",
              "      <td>2</td>\n",
              "      <td>30</td>\n",
              "      <td>6</td>\n",
              "      <td>5</td>\n",
              "      <td>t</td>\n",
              "      <td>r</td>\n",
              "      <td>n</td>\n",
              "      <td>f</td>\n",
              "      <td>q</td>\n",
              "      <td>t</td>\n",
              "      <td>d</td>\n",
              "      <td>1</td>\n",
              "      <td>1</td>\n",
              "      <td>0</td>\n",
              "      <td>0</td>\n",
              "      <td>0</td>\n",
              "      <td>0</td>\n",
              "      <td>0</td>\n",
              "      <td>0</td>\n",
              "      <td>0</td>\n",
              "      <td>0</td>\n",
              "      <td>0</td>\n",
              "      <td>v</td>\n",
              "      <td>1</td>\n",
              "      <td>0</td>\n",
              "      <td>0</td>\n",
              "      <td>0</td>\n",
              "      <td>0</td>\n",
              "      <td>0</td>\n",
              "      <td>0</td>\n",
              "      <td>0</td>\n",
              "      <td>0</td>\n",
              "      <td>0</td>\n",
              "      <td>0</td>\n",
              "      <td>0</td>\n",
              "    </tr>\n",
              "    <tr>\n",
              "      <th>1</th>\n",
              "      <td>28830</td>\n",
              "      <td>8</td>\n",
              "      <td>900</td>\n",
              "      <td>2812</td>\n",
              "      <td>2</td>\n",
              "      <td>10</td>\n",
              "      <td>8</td>\n",
              "      <td>7</td>\n",
              "      <td>o</td>\n",
              "      <td>r</td>\n",
              "      <td>n</td>\n",
              "      <td>x</td>\n",
              "      <td>q</td>\n",
              "      <td>s</td>\n",
              "      <td>d</td>\n",
              "      <td>0</td>\n",
              "      <td>1</td>\n",
              "      <td>0</td>\n",
              "      <td>0</td>\n",
              "      <td>0</td>\n",
              "      <td>0</td>\n",
              "      <td>0</td>\n",
              "      <td>0</td>\n",
              "      <td>0</td>\n",
              "      <td>0</td>\n",
              "      <td>0</td>\n",
              "      <td>v</td>\n",
              "      <td>1</td>\n",
              "      <td>0</td>\n",
              "      <td>0</td>\n",
              "      <td>0</td>\n",
              "      <td>0</td>\n",
              "      <td>0</td>\n",
              "      <td>0</td>\n",
              "      <td>0</td>\n",
              "      <td>0</td>\n",
              "      <td>0</td>\n",
              "      <td>0</td>\n",
              "      <td>0</td>\n",
              "    </tr>\n",
              "    <tr>\n",
              "      <th>2</th>\n",
              "      <td>94947</td>\n",
              "      <td>21</td>\n",
              "      <td>363</td>\n",
              "      <td>8973</td>\n",
              "      <td>2</td>\n",
              "      <td>10</td>\n",
              "      <td>5</td>\n",
              "      <td>5</td>\n",
              "      <td>t</td>\n",
              "      <td>r</td>\n",
              "      <td>n</td>\n",
              "      <td>f</td>\n",
              "      <td>x</td>\n",
              "      <td>t</td>\n",
              "      <td>d</td>\n",
              "      <td>0</td>\n",
              "      <td>1</td>\n",
              "      <td>0</td>\n",
              "      <td>0</td>\n",
              "      <td>0</td>\n",
              "      <td>0</td>\n",
              "      <td>0</td>\n",
              "      <td>0</td>\n",
              "      <td>0</td>\n",
              "      <td>0</td>\n",
              "      <td>0</td>\n",
              "      <td>v</td>\n",
              "      <td>1</td>\n",
              "      <td>0</td>\n",
              "      <td>0</td>\n",
              "      <td>0</td>\n",
              "      <td>0</td>\n",
              "      <td>0</td>\n",
              "      <td>0</td>\n",
              "      <td>0</td>\n",
              "      <td>0</td>\n",
              "      <td>0</td>\n",
              "      <td>0</td>\n",
              "      <td>0</td>\n",
              "    </tr>\n",
              "    <tr>\n",
              "      <th>3</th>\n",
              "      <td>590882</td>\n",
              "      <td>22</td>\n",
              "      <td>418</td>\n",
              "      <td>10694</td>\n",
              "      <td>2</td>\n",
              "      <td>10</td>\n",
              "      <td>6</td>\n",
              "      <td>5</td>\n",
              "      <td>t</td>\n",
              "      <td>r</td>\n",
              "      <td>n</td>\n",
              "      <td>f</td>\n",
              "      <td>x</td>\n",
              "      <td>s</td>\n",
              "      <td>d</td>\n",
              "      <td>0</td>\n",
              "      <td>1</td>\n",
              "      <td>0</td>\n",
              "      <td>0</td>\n",
              "      <td>0</td>\n",
              "      <td>0</td>\n",
              "      <td>1</td>\n",
              "      <td>1</td>\n",
              "      <td>0</td>\n",
              "      <td>0</td>\n",
              "      <td>0</td>\n",
              "      <td>v</td>\n",
              "      <td>1</td>\n",
              "      <td>0</td>\n",
              "      <td>0</td>\n",
              "      <td>0</td>\n",
              "      <td>0</td>\n",
              "      <td>0</td>\n",
              "      <td>0</td>\n",
              "      <td>0</td>\n",
              "      <td>0</td>\n",
              "      <td>0</td>\n",
              "      <td>0</td>\n",
              "      <td>0</td>\n",
              "    </tr>\n",
              "    <tr>\n",
              "      <th>4</th>\n",
              "      <td>201944</td>\n",
              "      <td>11</td>\n",
              "      <td>131</td>\n",
              "      <td>1488</td>\n",
              "      <td>3</td>\n",
              "      <td>30</td>\n",
              "      <td>8</td>\n",
              "      <td>9</td>\n",
              "      <td>t</td>\n",
              "      <td>r</td>\n",
              "      <td>n</td>\n",
              "      <td>f</td>\n",
              "      <td>x</td>\n",
              "      <td>s</td>\n",
              "      <td>d</td>\n",
              "      <td>1</td>\n",
              "      <td>0</td>\n",
              "      <td>0</td>\n",
              "      <td>0</td>\n",
              "      <td>0</td>\n",
              "      <td>0</td>\n",
              "      <td>0</td>\n",
              "      <td>0</td>\n",
              "      <td>0</td>\n",
              "      <td>0</td>\n",
              "      <td>0</td>\n",
              "      <td>v</td>\n",
              "      <td>1</td>\n",
              "      <td>0</td>\n",
              "      <td>0</td>\n",
              "      <td>0</td>\n",
              "      <td>0</td>\n",
              "      <td>0</td>\n",
              "      <td>0</td>\n",
              "      <td>0</td>\n",
              "      <td>0</td>\n",
              "      <td>0</td>\n",
              "      <td>0</td>\n",
              "      <td>0</td>\n",
              "    </tr>\n",
              "  </tbody>\n",
              "</table>\n",
              "</div>"
            ],
            "text/plain": [
              "   building_id  ...  has_secondary_use_other\n",
              "0       802906  ...                        0\n",
              "1        28830  ...                        0\n",
              "2        94947  ...                        0\n",
              "3       590882  ...                        0\n",
              "4       201944  ...                        0\n",
              "\n",
              "[5 rows x 39 columns]"
            ]
          },
          "metadata": {
            "tags": []
          },
          "execution_count": 6
        }
      ]
    },
    {
      "cell_type": "code",
      "metadata": {
        "trusted": true,
        "id": "IMGoA4T2NfN0",
        "colab_type": "code",
        "colab": {
          "base_uri": "https://localhost:8080/",
          "height": 323
        },
        "outputId": "ef9e872a-7bd9-4a28-dabf-aa11c62ff438"
      },
      "source": [
        "df.columns"
      ],
      "execution_count": null,
      "outputs": [
        {
          "output_type": "execute_result",
          "data": {
            "text/plain": [
              "Index(['building_id', 'geo_level_1_id', 'geo_level_2_id', 'geo_level_3_id',\n",
              "       'count_floors_pre_eq', 'age', 'area_percentage', 'height_percentage',\n",
              "       'land_surface_condition', 'foundation_type', 'roof_type',\n",
              "       'ground_floor_type', 'other_floor_type', 'position',\n",
              "       'plan_configuration', 'has_superstructure_adobe_mud',\n",
              "       'has_superstructure_mud_mortar_stone', 'has_superstructure_stone_flag',\n",
              "       'has_superstructure_cement_mortar_stone',\n",
              "       'has_superstructure_mud_mortar_brick',\n",
              "       'has_superstructure_cement_mortar_brick', 'has_superstructure_timber',\n",
              "       'has_superstructure_bamboo', 'has_superstructure_rc_non_engineered',\n",
              "       'has_superstructure_rc_engineered', 'has_superstructure_other',\n",
              "       'legal_ownership_status', 'count_families', 'has_secondary_use',\n",
              "       'has_secondary_use_agriculture', 'has_secondary_use_hotel',\n",
              "       'has_secondary_use_rental', 'has_secondary_use_institution',\n",
              "       'has_secondary_use_school', 'has_secondary_use_industry',\n",
              "       'has_secondary_use_health_post', 'has_secondary_use_gov_office',\n",
              "       'has_secondary_use_use_police', 'has_secondary_use_other'],\n",
              "      dtype='object')"
            ]
          },
          "metadata": {
            "tags": []
          },
          "execution_count": 7
        }
      ]
    },
    {
      "cell_type": "markdown",
      "metadata": {
        "id": "qKJHQ4O_NfOA",
        "colab_type": "text"
      },
      "source": [
        "> #  Description\n",
        "* > geo_level_1_id, geo_level_2_id, geo_level_3_id (type: int): geographic region in which building exists, from largest (level 1) to most specific sub-region (level 3). Possible values: level 1: 0-30, level 2: 0-1427, level 3: 0-12567.\n",
        "* > count_floors_pre_eq (type: int): number of floors in the building before the earthquake.\n",
        "* > age (type: int): age of the building in years.\n",
        "* > area_percentage (type: int): normalized area of the building footprint.\n",
        "* > height_percentage (type: int): normalized height of the building footprint.\n",
        "* > land_surface_condition (type: categorical): surface condition of the land where the building was built. Possible values: n, o, t.\n",
        "* > foundation_type (type: categorical): type of foundation used while building. Possible values: h, i, r, u, w.\n",
        "* > roof_type (type: categorical): type of roof used while building. Possible values: n, q, x.\n",
        "* > ground_floor_type (type: categorical): type of the ground floor. Possible values: f, m, v, x, z.\n",
        "* > other_floor_type (type: categorical): type of constructions used in higher than the ground floors (except of roof). Possible values: j, q, s, x.\n",
        "* > position (type: categorical): position of the building. Possible values: j, o, s, t.\n",
        "* > plan_configuration (type: categorical): building plan configuration. Possible values: a, c, d, f, m, n, o, q, s, u.\n",
        "* > has_superstructure_adobe_mud (type: binary): flag variable that indicates if the superstructure was made of Adobe/Mud.\n",
        "* > has_superstructure_mud_mortar_stone (type: binary): flag variable that indicates if the superstructure was made of Mud Mortar - Stone.\n",
        "*  > has_superstructure_stone_flag (type: binary): flag variable that indicates if the superstructure was made of Stone.\n",
        "*   > has_superstructure_cement_mortar_stone (type: binary): flag variable that indicates if the superstructure was made of Cement Mortar - Stone.\n",
        "*   > has_superstructure_mud_mortar_brick (type: binary): flag variable that indicates if the superstructure was made of Mud Mortar - Brick.\n",
        "*   > has_superstructure_cement_mortar_brick (type: binary): flag variable that indicates if the superstructure was made of Cement Mortar - Brick.\n",
        "*   > has_superstructure_timber (type: binary): flag variable that indicates if the superstructure was made of Timber.\n",
        "*   > has_superstructure_bamboo (type: binary): flag variable that indicates if the superstructure was made of Bamboo.\n",
        "*   > has_superstructure_rc_non_engineered (type: binary): flag variable that indicates if the superstructure was made of non-engineered reinforced concrete.\n",
        "*   > has_superstructure_rc_engineered (type: binary): flag variable that indicates if the superstructure was made of engineered reinforced concrete.\n",
        "*   > has_superstructure_other (type: binary): flag variable that indicates if the superstructure was made of any other material.\n",
        "*   > legal_ownership_status (type: categorical): legal ownership status of the land where building was built. Possible values: a, r, v, w.\n",
        "*   > count_families (type: int): number of families that live in the building.\n",
        "*   > has_secondary_use (type: binary): flag variable that indicates if the building was used for any secondary purpose.\n",
        "*   > has_secondary_use_agriculture (type: binary): flag variable that indicates if the building was used for agricultural purposes.\n",
        "*   > has_secondary_use_hotel (type: binary): flag variable that indicates if the building was used as a hotel.\n",
        "*   > has_secondary_use_rental (type: binary): flag variable that indicates if the building was used for rental purposes.\n",
        "*   > has_secondary_use_institution (type: binary): flag variable that indicates if the building was used as a location of any institution.\n",
        "*   > has_secondary_use_school (type: binary): flag variable that indicates if the building was used as a school.\n",
        "*   > has_secondary_use_industry (type: binary): flag variable that indicates if the building was used for industrial purposes.\n",
        "*   > has_secondary_use_health_post (type: binary): flag variable that indicates if the building was used as a health post.\n",
        "*   > has_secondary_use_gov_office (type: binary): flag variable that indicates if the building was used fas a government office.\n",
        "*   > has_secondary_use_use_police (type: binary): flag variable that indicates if the building was used as a police station.\n",
        "*   > has_secondary_use_other (type: binary): flag variable that indicates if the building was secondarily used for other purposes."
      ]
    },
    {
      "cell_type": "code",
      "metadata": {
        "trusted": true,
        "id": "2t633H33NfOC",
        "colab_type": "code",
        "colab": {
          "base_uri": "https://localhost:8080/",
          "height": 34
        },
        "outputId": "84ee708e-8831-436b-ec13-1214dc692e20"
      },
      "source": [
        "df.shape"
      ],
      "execution_count": null,
      "outputs": [
        {
          "output_type": "execute_result",
          "data": {
            "text/plain": [
              "(260601, 39)"
            ]
          },
          "metadata": {
            "tags": []
          },
          "execution_count": 8
        }
      ]
    },
    {
      "cell_type": "code",
      "metadata": {
        "trusted": true,
        "id": "C26rZST_NfON",
        "colab_type": "code",
        "colab": {}
      },
      "source": [
        "df2 = pd.read_csv(\"train_labels.csv\")"
      ],
      "execution_count": null,
      "outputs": []
    },
    {
      "cell_type": "code",
      "metadata": {
        "trusted": true,
        "id": "118QFFLLNfOa",
        "colab_type": "code",
        "colab": {
          "base_uri": "https://localhost:8080/",
          "height": 204
        },
        "outputId": "5f65ce2f-8be1-4de0-97a9-c552f7915697"
      },
      "source": [
        "df2.head()"
      ],
      "execution_count": null,
      "outputs": [
        {
          "output_type": "execute_result",
          "data": {
            "text/html": [
              "<div>\n",
              "<style scoped>\n",
              "    .dataframe tbody tr th:only-of-type {\n",
              "        vertical-align: middle;\n",
              "    }\n",
              "\n",
              "    .dataframe tbody tr th {\n",
              "        vertical-align: top;\n",
              "    }\n",
              "\n",
              "    .dataframe thead th {\n",
              "        text-align: right;\n",
              "    }\n",
              "</style>\n",
              "<table border=\"1\" class=\"dataframe\">\n",
              "  <thead>\n",
              "    <tr style=\"text-align: right;\">\n",
              "      <th></th>\n",
              "      <th>building_id</th>\n",
              "      <th>damage_grade</th>\n",
              "    </tr>\n",
              "  </thead>\n",
              "  <tbody>\n",
              "    <tr>\n",
              "      <th>0</th>\n",
              "      <td>802906</td>\n",
              "      <td>3</td>\n",
              "    </tr>\n",
              "    <tr>\n",
              "      <th>1</th>\n",
              "      <td>28830</td>\n",
              "      <td>2</td>\n",
              "    </tr>\n",
              "    <tr>\n",
              "      <th>2</th>\n",
              "      <td>94947</td>\n",
              "      <td>3</td>\n",
              "    </tr>\n",
              "    <tr>\n",
              "      <th>3</th>\n",
              "      <td>590882</td>\n",
              "      <td>2</td>\n",
              "    </tr>\n",
              "    <tr>\n",
              "      <th>4</th>\n",
              "      <td>201944</td>\n",
              "      <td>3</td>\n",
              "    </tr>\n",
              "  </tbody>\n",
              "</table>\n",
              "</div>"
            ],
            "text/plain": [
              "   building_id  damage_grade\n",
              "0       802906             3\n",
              "1        28830             2\n",
              "2        94947             3\n",
              "3       590882             2\n",
              "4       201944             3"
            ]
          },
          "metadata": {
            "tags": []
          },
          "execution_count": 10
        }
      ]
    },
    {
      "cell_type": "code",
      "metadata": {
        "trusted": true,
        "id": "hGd-yvoTNfOp",
        "colab_type": "code",
        "colab": {
          "base_uri": "https://localhost:8080/",
          "height": 34
        },
        "outputId": "e2950984-d434-4918-cb53-d59312437014"
      },
      "source": [
        "df2.shape"
      ],
      "execution_count": null,
      "outputs": [
        {
          "output_type": "execute_result",
          "data": {
            "text/plain": [
              "(260601, 2)"
            ]
          },
          "metadata": {
            "tags": []
          },
          "execution_count": 11
        }
      ]
    },
    {
      "cell_type": "code",
      "metadata": {
        "trusted": true,
        "id": "ndK77J4FNfO1",
        "colab_type": "code",
        "colab": {
          "base_uri": "https://localhost:8080/",
          "height": 224
        },
        "outputId": "acf1ba92-2c25-4db4-8563-ae3897366b18"
      },
      "source": [
        "# df['damage_grade'] = df2['damage_grade']\n",
        "df.head()"
      ],
      "execution_count": null,
      "outputs": [
        {
          "output_type": "execute_result",
          "data": {
            "text/html": [
              "<div>\n",
              "<style scoped>\n",
              "    .dataframe tbody tr th:only-of-type {\n",
              "        vertical-align: middle;\n",
              "    }\n",
              "\n",
              "    .dataframe tbody tr th {\n",
              "        vertical-align: top;\n",
              "    }\n",
              "\n",
              "    .dataframe thead th {\n",
              "        text-align: right;\n",
              "    }\n",
              "</style>\n",
              "<table border=\"1\" class=\"dataframe\">\n",
              "  <thead>\n",
              "    <tr style=\"text-align: right;\">\n",
              "      <th></th>\n",
              "      <th>building_id</th>\n",
              "      <th>geo_level_1_id</th>\n",
              "      <th>geo_level_2_id</th>\n",
              "      <th>geo_level_3_id</th>\n",
              "      <th>count_floors_pre_eq</th>\n",
              "      <th>age</th>\n",
              "      <th>area_percentage</th>\n",
              "      <th>height_percentage</th>\n",
              "      <th>land_surface_condition</th>\n",
              "      <th>foundation_type</th>\n",
              "      <th>roof_type</th>\n",
              "      <th>ground_floor_type</th>\n",
              "      <th>other_floor_type</th>\n",
              "      <th>position</th>\n",
              "      <th>plan_configuration</th>\n",
              "      <th>has_superstructure_adobe_mud</th>\n",
              "      <th>has_superstructure_mud_mortar_stone</th>\n",
              "      <th>has_superstructure_stone_flag</th>\n",
              "      <th>has_superstructure_cement_mortar_stone</th>\n",
              "      <th>has_superstructure_mud_mortar_brick</th>\n",
              "      <th>has_superstructure_cement_mortar_brick</th>\n",
              "      <th>has_superstructure_timber</th>\n",
              "      <th>has_superstructure_bamboo</th>\n",
              "      <th>has_superstructure_rc_non_engineered</th>\n",
              "      <th>has_superstructure_rc_engineered</th>\n",
              "      <th>has_superstructure_other</th>\n",
              "      <th>legal_ownership_status</th>\n",
              "      <th>count_families</th>\n",
              "      <th>has_secondary_use</th>\n",
              "      <th>has_secondary_use_agriculture</th>\n",
              "      <th>has_secondary_use_hotel</th>\n",
              "      <th>has_secondary_use_rental</th>\n",
              "      <th>has_secondary_use_institution</th>\n",
              "      <th>has_secondary_use_school</th>\n",
              "      <th>has_secondary_use_industry</th>\n",
              "      <th>has_secondary_use_health_post</th>\n",
              "      <th>has_secondary_use_gov_office</th>\n",
              "      <th>has_secondary_use_use_police</th>\n",
              "      <th>has_secondary_use_other</th>\n",
              "    </tr>\n",
              "  </thead>\n",
              "  <tbody>\n",
              "    <tr>\n",
              "      <th>0</th>\n",
              "      <td>802906</td>\n",
              "      <td>6</td>\n",
              "      <td>487</td>\n",
              "      <td>12198</td>\n",
              "      <td>2</td>\n",
              "      <td>30</td>\n",
              "      <td>6</td>\n",
              "      <td>5</td>\n",
              "      <td>t</td>\n",
              "      <td>r</td>\n",
              "      <td>n</td>\n",
              "      <td>f</td>\n",
              "      <td>q</td>\n",
              "      <td>t</td>\n",
              "      <td>d</td>\n",
              "      <td>1</td>\n",
              "      <td>1</td>\n",
              "      <td>0</td>\n",
              "      <td>0</td>\n",
              "      <td>0</td>\n",
              "      <td>0</td>\n",
              "      <td>0</td>\n",
              "      <td>0</td>\n",
              "      <td>0</td>\n",
              "      <td>0</td>\n",
              "      <td>0</td>\n",
              "      <td>v</td>\n",
              "      <td>1</td>\n",
              "      <td>0</td>\n",
              "      <td>0</td>\n",
              "      <td>0</td>\n",
              "      <td>0</td>\n",
              "      <td>0</td>\n",
              "      <td>0</td>\n",
              "      <td>0</td>\n",
              "      <td>0</td>\n",
              "      <td>0</td>\n",
              "      <td>0</td>\n",
              "      <td>0</td>\n",
              "    </tr>\n",
              "    <tr>\n",
              "      <th>1</th>\n",
              "      <td>28830</td>\n",
              "      <td>8</td>\n",
              "      <td>900</td>\n",
              "      <td>2812</td>\n",
              "      <td>2</td>\n",
              "      <td>10</td>\n",
              "      <td>8</td>\n",
              "      <td>7</td>\n",
              "      <td>o</td>\n",
              "      <td>r</td>\n",
              "      <td>n</td>\n",
              "      <td>x</td>\n",
              "      <td>q</td>\n",
              "      <td>s</td>\n",
              "      <td>d</td>\n",
              "      <td>0</td>\n",
              "      <td>1</td>\n",
              "      <td>0</td>\n",
              "      <td>0</td>\n",
              "      <td>0</td>\n",
              "      <td>0</td>\n",
              "      <td>0</td>\n",
              "      <td>0</td>\n",
              "      <td>0</td>\n",
              "      <td>0</td>\n",
              "      <td>0</td>\n",
              "      <td>v</td>\n",
              "      <td>1</td>\n",
              "      <td>0</td>\n",
              "      <td>0</td>\n",
              "      <td>0</td>\n",
              "      <td>0</td>\n",
              "      <td>0</td>\n",
              "      <td>0</td>\n",
              "      <td>0</td>\n",
              "      <td>0</td>\n",
              "      <td>0</td>\n",
              "      <td>0</td>\n",
              "      <td>0</td>\n",
              "    </tr>\n",
              "    <tr>\n",
              "      <th>2</th>\n",
              "      <td>94947</td>\n",
              "      <td>21</td>\n",
              "      <td>363</td>\n",
              "      <td>8973</td>\n",
              "      <td>2</td>\n",
              "      <td>10</td>\n",
              "      <td>5</td>\n",
              "      <td>5</td>\n",
              "      <td>t</td>\n",
              "      <td>r</td>\n",
              "      <td>n</td>\n",
              "      <td>f</td>\n",
              "      <td>x</td>\n",
              "      <td>t</td>\n",
              "      <td>d</td>\n",
              "      <td>0</td>\n",
              "      <td>1</td>\n",
              "      <td>0</td>\n",
              "      <td>0</td>\n",
              "      <td>0</td>\n",
              "      <td>0</td>\n",
              "      <td>0</td>\n",
              "      <td>0</td>\n",
              "      <td>0</td>\n",
              "      <td>0</td>\n",
              "      <td>0</td>\n",
              "      <td>v</td>\n",
              "      <td>1</td>\n",
              "      <td>0</td>\n",
              "      <td>0</td>\n",
              "      <td>0</td>\n",
              "      <td>0</td>\n",
              "      <td>0</td>\n",
              "      <td>0</td>\n",
              "      <td>0</td>\n",
              "      <td>0</td>\n",
              "      <td>0</td>\n",
              "      <td>0</td>\n",
              "      <td>0</td>\n",
              "    </tr>\n",
              "    <tr>\n",
              "      <th>3</th>\n",
              "      <td>590882</td>\n",
              "      <td>22</td>\n",
              "      <td>418</td>\n",
              "      <td>10694</td>\n",
              "      <td>2</td>\n",
              "      <td>10</td>\n",
              "      <td>6</td>\n",
              "      <td>5</td>\n",
              "      <td>t</td>\n",
              "      <td>r</td>\n",
              "      <td>n</td>\n",
              "      <td>f</td>\n",
              "      <td>x</td>\n",
              "      <td>s</td>\n",
              "      <td>d</td>\n",
              "      <td>0</td>\n",
              "      <td>1</td>\n",
              "      <td>0</td>\n",
              "      <td>0</td>\n",
              "      <td>0</td>\n",
              "      <td>0</td>\n",
              "      <td>1</td>\n",
              "      <td>1</td>\n",
              "      <td>0</td>\n",
              "      <td>0</td>\n",
              "      <td>0</td>\n",
              "      <td>v</td>\n",
              "      <td>1</td>\n",
              "      <td>0</td>\n",
              "      <td>0</td>\n",
              "      <td>0</td>\n",
              "      <td>0</td>\n",
              "      <td>0</td>\n",
              "      <td>0</td>\n",
              "      <td>0</td>\n",
              "      <td>0</td>\n",
              "      <td>0</td>\n",
              "      <td>0</td>\n",
              "      <td>0</td>\n",
              "    </tr>\n",
              "    <tr>\n",
              "      <th>4</th>\n",
              "      <td>201944</td>\n",
              "      <td>11</td>\n",
              "      <td>131</td>\n",
              "      <td>1488</td>\n",
              "      <td>3</td>\n",
              "      <td>30</td>\n",
              "      <td>8</td>\n",
              "      <td>9</td>\n",
              "      <td>t</td>\n",
              "      <td>r</td>\n",
              "      <td>n</td>\n",
              "      <td>f</td>\n",
              "      <td>x</td>\n",
              "      <td>s</td>\n",
              "      <td>d</td>\n",
              "      <td>1</td>\n",
              "      <td>0</td>\n",
              "      <td>0</td>\n",
              "      <td>0</td>\n",
              "      <td>0</td>\n",
              "      <td>0</td>\n",
              "      <td>0</td>\n",
              "      <td>0</td>\n",
              "      <td>0</td>\n",
              "      <td>0</td>\n",
              "      <td>0</td>\n",
              "      <td>v</td>\n",
              "      <td>1</td>\n",
              "      <td>0</td>\n",
              "      <td>0</td>\n",
              "      <td>0</td>\n",
              "      <td>0</td>\n",
              "      <td>0</td>\n",
              "      <td>0</td>\n",
              "      <td>0</td>\n",
              "      <td>0</td>\n",
              "      <td>0</td>\n",
              "      <td>0</td>\n",
              "      <td>0</td>\n",
              "    </tr>\n",
              "  </tbody>\n",
              "</table>\n",
              "</div>"
            ],
            "text/plain": [
              "   building_id  ...  has_secondary_use_other\n",
              "0       802906  ...                        0\n",
              "1        28830  ...                        0\n",
              "2        94947  ...                        0\n",
              "3       590882  ...                        0\n",
              "4       201944  ...                        0\n",
              "\n",
              "[5 rows x 39 columns]"
            ]
          },
          "metadata": {
            "tags": []
          },
          "execution_count": 12
        }
      ]
    },
    {
      "cell_type": "code",
      "metadata": {
        "trusted": true,
        "id": "JjgTytJmNfPA",
        "colab_type": "code",
        "colab": {}
      },
      "source": [
        "# plt.figure(figsize=(10,10))\n",
        "# cor=df.corr()[\"damage_grade\"]\n",
        "# cor=pd.DataFrame(cor)\n",
        "# sns.heatmap(cor,annot=True,cmap=\"viridis\")"
      ],
      "execution_count": null,
      "outputs": []
    },
    {
      "cell_type": "code",
      "metadata": {
        "trusted": true,
        "id": "_2YYL8txNfPK",
        "colab_type": "code",
        "colab": {
          "base_uri": "https://localhost:8080/",
          "height": 691
        },
        "outputId": "ce6b9011-9658-4424-d98d-b95b7a9947cd"
      },
      "source": [
        "# exploring the statstical fearures of train dataset.\n",
        "df.describe().T.style.background_gradient(cmap='Set2',low =0.4,high=0.1,axis=0)"
      ],
      "execution_count": null,
      "outputs": [
        {
          "output_type": "execute_result",
          "data": {
            "text/html": [
              "<style  type=\"text/css\" >\n",
              "    #T_7b526e48_e77f_11ea_b463_0242ac1c0002row0_col0 {\n",
              "            background-color:  #66c2a5;\n",
              "            color:  #000000;\n",
              "        }    #T_7b526e48_e77f_11ea_b463_0242ac1c0002row0_col1 {\n",
              "            background-color:  #b3b3b3;\n",
              "            color:  #000000;\n",
              "        }    #T_7b526e48_e77f_11ea_b463_0242ac1c0002row0_col2 {\n",
              "            background-color:  #b3b3b3;\n",
              "            color:  #000000;\n",
              "        }    #T_7b526e48_e77f_11ea_b463_0242ac1c0002row0_col3 {\n",
              "            background-color:  #b3b3b3;\n",
              "            color:  #000000;\n",
              "        }    #T_7b526e48_e77f_11ea_b463_0242ac1c0002row0_col4 {\n",
              "            background-color:  #b3b3b3;\n",
              "            color:  #000000;\n",
              "        }    #T_7b526e48_e77f_11ea_b463_0242ac1c0002row0_col5 {\n",
              "            background-color:  #b3b3b3;\n",
              "            color:  #000000;\n",
              "        }    #T_7b526e48_e77f_11ea_b463_0242ac1c0002row0_col6 {\n",
              "            background-color:  #b3b3b3;\n",
              "            color:  #000000;\n",
              "        }    #T_7b526e48_e77f_11ea_b463_0242ac1c0002row0_col7 {\n",
              "            background-color:  #b3b3b3;\n",
              "            color:  #000000;\n",
              "        }    #T_7b526e48_e77f_11ea_b463_0242ac1c0002row1_col0 {\n",
              "            background-color:  #66c2a5;\n",
              "            color:  #000000;\n",
              "        }    #T_7b526e48_e77f_11ea_b463_0242ac1c0002row1_col1 {\n",
              "            background-color:  #8da0cb;\n",
              "            color:  #000000;\n",
              "        }    #T_7b526e48_e77f_11ea_b463_0242ac1c0002row1_col2 {\n",
              "            background-color:  #8da0cb;\n",
              "            color:  #000000;\n",
              "        }    #T_7b526e48_e77f_11ea_b463_0242ac1c0002row1_col3 {\n",
              "            background-color:  #8da0cb;\n",
              "            color:  #000000;\n",
              "        }    #T_7b526e48_e77f_11ea_b463_0242ac1c0002row1_col4 {\n",
              "            background-color:  #8da0cb;\n",
              "            color:  #000000;\n",
              "        }    #T_7b526e48_e77f_11ea_b463_0242ac1c0002row1_col5 {\n",
              "            background-color:  #8da0cb;\n",
              "            color:  #000000;\n",
              "        }    #T_7b526e48_e77f_11ea_b463_0242ac1c0002row1_col6 {\n",
              "            background-color:  #8da0cb;\n",
              "            color:  #000000;\n",
              "        }    #T_7b526e48_e77f_11ea_b463_0242ac1c0002row1_col7 {\n",
              "            background-color:  #8da0cb;\n",
              "            color:  #000000;\n",
              "        }    #T_7b526e48_e77f_11ea_b463_0242ac1c0002row2_col0 {\n",
              "            background-color:  #66c2a5;\n",
              "            color:  #000000;\n",
              "        }    #T_7b526e48_e77f_11ea_b463_0242ac1c0002row2_col1 {\n",
              "            background-color:  #8da0cb;\n",
              "            color:  #000000;\n",
              "        }    #T_7b526e48_e77f_11ea_b463_0242ac1c0002row2_col2 {\n",
              "            background-color:  #8da0cb;\n",
              "            color:  #000000;\n",
              "        }    #T_7b526e48_e77f_11ea_b463_0242ac1c0002row2_col3 {\n",
              "            background-color:  #8da0cb;\n",
              "            color:  #000000;\n",
              "        }    #T_7b526e48_e77f_11ea_b463_0242ac1c0002row2_col4 {\n",
              "            background-color:  #8da0cb;\n",
              "            color:  #000000;\n",
              "        }    #T_7b526e48_e77f_11ea_b463_0242ac1c0002row2_col5 {\n",
              "            background-color:  #8da0cb;\n",
              "            color:  #000000;\n",
              "        }    #T_7b526e48_e77f_11ea_b463_0242ac1c0002row2_col6 {\n",
              "            background-color:  #8da0cb;\n",
              "            color:  #000000;\n",
              "        }    #T_7b526e48_e77f_11ea_b463_0242ac1c0002row2_col7 {\n",
              "            background-color:  #8da0cb;\n",
              "            color:  #000000;\n",
              "        }    #T_7b526e48_e77f_11ea_b463_0242ac1c0002row3_col0 {\n",
              "            background-color:  #66c2a5;\n",
              "            color:  #000000;\n",
              "        }    #T_7b526e48_e77f_11ea_b463_0242ac1c0002row3_col1 {\n",
              "            background-color:  #8da0cb;\n",
              "            color:  #000000;\n",
              "        }    #T_7b526e48_e77f_11ea_b463_0242ac1c0002row3_col2 {\n",
              "            background-color:  #8da0cb;\n",
              "            color:  #000000;\n",
              "        }    #T_7b526e48_e77f_11ea_b463_0242ac1c0002row3_col3 {\n",
              "            background-color:  #8da0cb;\n",
              "            color:  #000000;\n",
              "        }    #T_7b526e48_e77f_11ea_b463_0242ac1c0002row3_col4 {\n",
              "            background-color:  #8da0cb;\n",
              "            color:  #000000;\n",
              "        }    #T_7b526e48_e77f_11ea_b463_0242ac1c0002row3_col5 {\n",
              "            background-color:  #8da0cb;\n",
              "            color:  #000000;\n",
              "        }    #T_7b526e48_e77f_11ea_b463_0242ac1c0002row3_col6 {\n",
              "            background-color:  #8da0cb;\n",
              "            color:  #000000;\n",
              "        }    #T_7b526e48_e77f_11ea_b463_0242ac1c0002row3_col7 {\n",
              "            background-color:  #8da0cb;\n",
              "            color:  #000000;\n",
              "        }    #T_7b526e48_e77f_11ea_b463_0242ac1c0002row4_col0 {\n",
              "            background-color:  #66c2a5;\n",
              "            color:  #000000;\n",
              "        }    #T_7b526e48_e77f_11ea_b463_0242ac1c0002row4_col1 {\n",
              "            background-color:  #8da0cb;\n",
              "            color:  #000000;\n",
              "        }    #T_7b526e48_e77f_11ea_b463_0242ac1c0002row4_col2 {\n",
              "            background-color:  #8da0cb;\n",
              "            color:  #000000;\n",
              "        }    #T_7b526e48_e77f_11ea_b463_0242ac1c0002row4_col3 {\n",
              "            background-color:  #e78ac3;\n",
              "            color:  #000000;\n",
              "        }    #T_7b526e48_e77f_11ea_b463_0242ac1c0002row4_col4 {\n",
              "            background-color:  #8da0cb;\n",
              "            color:  #000000;\n",
              "        }    #T_7b526e48_e77f_11ea_b463_0242ac1c0002row4_col5 {\n",
              "            background-color:  #8da0cb;\n",
              "            color:  #000000;\n",
              "        }    #T_7b526e48_e77f_11ea_b463_0242ac1c0002row4_col6 {\n",
              "            background-color:  #8da0cb;\n",
              "            color:  #000000;\n",
              "        }    #T_7b526e48_e77f_11ea_b463_0242ac1c0002row4_col7 {\n",
              "            background-color:  #8da0cb;\n",
              "            color:  #000000;\n",
              "        }    #T_7b526e48_e77f_11ea_b463_0242ac1c0002row5_col0 {\n",
              "            background-color:  #66c2a5;\n",
              "            color:  #000000;\n",
              "        }    #T_7b526e48_e77f_11ea_b463_0242ac1c0002row5_col1 {\n",
              "            background-color:  #8da0cb;\n",
              "            color:  #000000;\n",
              "        }    #T_7b526e48_e77f_11ea_b463_0242ac1c0002row5_col2 {\n",
              "            background-color:  #8da0cb;\n",
              "            color:  #000000;\n",
              "        }    #T_7b526e48_e77f_11ea_b463_0242ac1c0002row5_col3 {\n",
              "            background-color:  #8da0cb;\n",
              "            color:  #000000;\n",
              "        }    #T_7b526e48_e77f_11ea_b463_0242ac1c0002row5_col4 {\n",
              "            background-color:  #8da0cb;\n",
              "            color:  #000000;\n",
              "        }    #T_7b526e48_e77f_11ea_b463_0242ac1c0002row5_col5 {\n",
              "            background-color:  #8da0cb;\n",
              "            color:  #000000;\n",
              "        }    #T_7b526e48_e77f_11ea_b463_0242ac1c0002row5_col6 {\n",
              "            background-color:  #8da0cb;\n",
              "            color:  #000000;\n",
              "        }    #T_7b526e48_e77f_11ea_b463_0242ac1c0002row5_col7 {\n",
              "            background-color:  #8da0cb;\n",
              "            color:  #000000;\n",
              "        }    #T_7b526e48_e77f_11ea_b463_0242ac1c0002row6_col0 {\n",
              "            background-color:  #66c2a5;\n",
              "            color:  #000000;\n",
              "        }    #T_7b526e48_e77f_11ea_b463_0242ac1c0002row6_col1 {\n",
              "            background-color:  #8da0cb;\n",
              "            color:  #000000;\n",
              "        }    #T_7b526e48_e77f_11ea_b463_0242ac1c0002row6_col2 {\n",
              "            background-color:  #8da0cb;\n",
              "            color:  #000000;\n",
              "        }    #T_7b526e48_e77f_11ea_b463_0242ac1c0002row6_col3 {\n",
              "            background-color:  #e78ac3;\n",
              "            color:  #000000;\n",
              "        }    #T_7b526e48_e77f_11ea_b463_0242ac1c0002row6_col4 {\n",
              "            background-color:  #8da0cb;\n",
              "            color:  #000000;\n",
              "        }    #T_7b526e48_e77f_11ea_b463_0242ac1c0002row6_col5 {\n",
              "            background-color:  #8da0cb;\n",
              "            color:  #000000;\n",
              "        }    #T_7b526e48_e77f_11ea_b463_0242ac1c0002row6_col6 {\n",
              "            background-color:  #8da0cb;\n",
              "            color:  #000000;\n",
              "        }    #T_7b526e48_e77f_11ea_b463_0242ac1c0002row6_col7 {\n",
              "            background-color:  #8da0cb;\n",
              "            color:  #000000;\n",
              "        }    #T_7b526e48_e77f_11ea_b463_0242ac1c0002row7_col0 {\n",
              "            background-color:  #66c2a5;\n",
              "            color:  #000000;\n",
              "        }    #T_7b526e48_e77f_11ea_b463_0242ac1c0002row7_col1 {\n",
              "            background-color:  #8da0cb;\n",
              "            color:  #000000;\n",
              "        }    #T_7b526e48_e77f_11ea_b463_0242ac1c0002row7_col2 {\n",
              "            background-color:  #8da0cb;\n",
              "            color:  #000000;\n",
              "        }    #T_7b526e48_e77f_11ea_b463_0242ac1c0002row7_col3 {\n",
              "            background-color:  #a6d854;\n",
              "            color:  #000000;\n",
              "        }    #T_7b526e48_e77f_11ea_b463_0242ac1c0002row7_col4 {\n",
              "            background-color:  #8da0cb;\n",
              "            color:  #000000;\n",
              "        }    #T_7b526e48_e77f_11ea_b463_0242ac1c0002row7_col5 {\n",
              "            background-color:  #8da0cb;\n",
              "            color:  #000000;\n",
              "        }    #T_7b526e48_e77f_11ea_b463_0242ac1c0002row7_col6 {\n",
              "            background-color:  #8da0cb;\n",
              "            color:  #000000;\n",
              "        }    #T_7b526e48_e77f_11ea_b463_0242ac1c0002row7_col7 {\n",
              "            background-color:  #8da0cb;\n",
              "            color:  #000000;\n",
              "        }    #T_7b526e48_e77f_11ea_b463_0242ac1c0002row8_col0 {\n",
              "            background-color:  #66c2a5;\n",
              "            color:  #000000;\n",
              "        }    #T_7b526e48_e77f_11ea_b463_0242ac1c0002row8_col1 {\n",
              "            background-color:  #8da0cb;\n",
              "            color:  #000000;\n",
              "        }    #T_7b526e48_e77f_11ea_b463_0242ac1c0002row8_col2 {\n",
              "            background-color:  #8da0cb;\n",
              "            color:  #000000;\n",
              "        }    #T_7b526e48_e77f_11ea_b463_0242ac1c0002row8_col3 {\n",
              "            background-color:  #8da0cb;\n",
              "            color:  #000000;\n",
              "        }    #T_7b526e48_e77f_11ea_b463_0242ac1c0002row8_col4 {\n",
              "            background-color:  #8da0cb;\n",
              "            color:  #000000;\n",
              "        }    #T_7b526e48_e77f_11ea_b463_0242ac1c0002row8_col5 {\n",
              "            background-color:  #8da0cb;\n",
              "            color:  #000000;\n",
              "        }    #T_7b526e48_e77f_11ea_b463_0242ac1c0002row8_col6 {\n",
              "            background-color:  #8da0cb;\n",
              "            color:  #000000;\n",
              "        }    #T_7b526e48_e77f_11ea_b463_0242ac1c0002row8_col7 {\n",
              "            background-color:  #8da0cb;\n",
              "            color:  #000000;\n",
              "        }    #T_7b526e48_e77f_11ea_b463_0242ac1c0002row9_col0 {\n",
              "            background-color:  #66c2a5;\n",
              "            color:  #000000;\n",
              "        }    #T_7b526e48_e77f_11ea_b463_0242ac1c0002row9_col1 {\n",
              "            background-color:  #8da0cb;\n",
              "            color:  #000000;\n",
              "        }    #T_7b526e48_e77f_11ea_b463_0242ac1c0002row9_col2 {\n",
              "            background-color:  #8da0cb;\n",
              "            color:  #000000;\n",
              "        }    #T_7b526e48_e77f_11ea_b463_0242ac1c0002row9_col3 {\n",
              "            background-color:  #8da0cb;\n",
              "            color:  #000000;\n",
              "        }    #T_7b526e48_e77f_11ea_b463_0242ac1c0002row9_col4 {\n",
              "            background-color:  #8da0cb;\n",
              "            color:  #000000;\n",
              "        }    #T_7b526e48_e77f_11ea_b463_0242ac1c0002row9_col5 {\n",
              "            background-color:  #8da0cb;\n",
              "            color:  #000000;\n",
              "        }    #T_7b526e48_e77f_11ea_b463_0242ac1c0002row9_col6 {\n",
              "            background-color:  #8da0cb;\n",
              "            color:  #000000;\n",
              "        }    #T_7b526e48_e77f_11ea_b463_0242ac1c0002row9_col7 {\n",
              "            background-color:  #8da0cb;\n",
              "            color:  #000000;\n",
              "        }    #T_7b526e48_e77f_11ea_b463_0242ac1c0002row10_col0 {\n",
              "            background-color:  #66c2a5;\n",
              "            color:  #000000;\n",
              "        }    #T_7b526e48_e77f_11ea_b463_0242ac1c0002row10_col1 {\n",
              "            background-color:  #8da0cb;\n",
              "            color:  #000000;\n",
              "        }    #T_7b526e48_e77f_11ea_b463_0242ac1c0002row10_col2 {\n",
              "            background-color:  #8da0cb;\n",
              "            color:  #000000;\n",
              "        }    #T_7b526e48_e77f_11ea_b463_0242ac1c0002row10_col3 {\n",
              "            background-color:  #8da0cb;\n",
              "            color:  #000000;\n",
              "        }    #T_7b526e48_e77f_11ea_b463_0242ac1c0002row10_col4 {\n",
              "            background-color:  #8da0cb;\n",
              "            color:  #000000;\n",
              "        }    #T_7b526e48_e77f_11ea_b463_0242ac1c0002row10_col5 {\n",
              "            background-color:  #8da0cb;\n",
              "            color:  #000000;\n",
              "        }    #T_7b526e48_e77f_11ea_b463_0242ac1c0002row10_col6 {\n",
              "            background-color:  #8da0cb;\n",
              "            color:  #000000;\n",
              "        }    #T_7b526e48_e77f_11ea_b463_0242ac1c0002row10_col7 {\n",
              "            background-color:  #8da0cb;\n",
              "            color:  #000000;\n",
              "        }    #T_7b526e48_e77f_11ea_b463_0242ac1c0002row11_col0 {\n",
              "            background-color:  #66c2a5;\n",
              "            color:  #000000;\n",
              "        }    #T_7b526e48_e77f_11ea_b463_0242ac1c0002row11_col1 {\n",
              "            background-color:  #8da0cb;\n",
              "            color:  #000000;\n",
              "        }    #T_7b526e48_e77f_11ea_b463_0242ac1c0002row11_col2 {\n",
              "            background-color:  #8da0cb;\n",
              "            color:  #000000;\n",
              "        }    #T_7b526e48_e77f_11ea_b463_0242ac1c0002row11_col3 {\n",
              "            background-color:  #8da0cb;\n",
              "            color:  #000000;\n",
              "        }    #T_7b526e48_e77f_11ea_b463_0242ac1c0002row11_col4 {\n",
              "            background-color:  #8da0cb;\n",
              "            color:  #000000;\n",
              "        }    #T_7b526e48_e77f_11ea_b463_0242ac1c0002row11_col5 {\n",
              "            background-color:  #8da0cb;\n",
              "            color:  #000000;\n",
              "        }    #T_7b526e48_e77f_11ea_b463_0242ac1c0002row11_col6 {\n",
              "            background-color:  #8da0cb;\n",
              "            color:  #000000;\n",
              "        }    #T_7b526e48_e77f_11ea_b463_0242ac1c0002row11_col7 {\n",
              "            background-color:  #8da0cb;\n",
              "            color:  #000000;\n",
              "        }    #T_7b526e48_e77f_11ea_b463_0242ac1c0002row12_col0 {\n",
              "            background-color:  #66c2a5;\n",
              "            color:  #000000;\n",
              "        }    #T_7b526e48_e77f_11ea_b463_0242ac1c0002row12_col1 {\n",
              "            background-color:  #8da0cb;\n",
              "            color:  #000000;\n",
              "        }    #T_7b526e48_e77f_11ea_b463_0242ac1c0002row12_col2 {\n",
              "            background-color:  #8da0cb;\n",
              "            color:  #000000;\n",
              "        }    #T_7b526e48_e77f_11ea_b463_0242ac1c0002row12_col3 {\n",
              "            background-color:  #8da0cb;\n",
              "            color:  #000000;\n",
              "        }    #T_7b526e48_e77f_11ea_b463_0242ac1c0002row12_col4 {\n",
              "            background-color:  #8da0cb;\n",
              "            color:  #000000;\n",
              "        }    #T_7b526e48_e77f_11ea_b463_0242ac1c0002row12_col5 {\n",
              "            background-color:  #8da0cb;\n",
              "            color:  #000000;\n",
              "        }    #T_7b526e48_e77f_11ea_b463_0242ac1c0002row12_col6 {\n",
              "            background-color:  #8da0cb;\n",
              "            color:  #000000;\n",
              "        }    #T_7b526e48_e77f_11ea_b463_0242ac1c0002row12_col7 {\n",
              "            background-color:  #8da0cb;\n",
              "            color:  #000000;\n",
              "        }    #T_7b526e48_e77f_11ea_b463_0242ac1c0002row13_col0 {\n",
              "            background-color:  #66c2a5;\n",
              "            color:  #000000;\n",
              "        }    #T_7b526e48_e77f_11ea_b463_0242ac1c0002row13_col1 {\n",
              "            background-color:  #8da0cb;\n",
              "            color:  #000000;\n",
              "        }    #T_7b526e48_e77f_11ea_b463_0242ac1c0002row13_col2 {\n",
              "            background-color:  #8da0cb;\n",
              "            color:  #000000;\n",
              "        }    #T_7b526e48_e77f_11ea_b463_0242ac1c0002row13_col3 {\n",
              "            background-color:  #8da0cb;\n",
              "            color:  #000000;\n",
              "        }    #T_7b526e48_e77f_11ea_b463_0242ac1c0002row13_col4 {\n",
              "            background-color:  #8da0cb;\n",
              "            color:  #000000;\n",
              "        }    #T_7b526e48_e77f_11ea_b463_0242ac1c0002row13_col5 {\n",
              "            background-color:  #8da0cb;\n",
              "            color:  #000000;\n",
              "        }    #T_7b526e48_e77f_11ea_b463_0242ac1c0002row13_col6 {\n",
              "            background-color:  #8da0cb;\n",
              "            color:  #000000;\n",
              "        }    #T_7b526e48_e77f_11ea_b463_0242ac1c0002row13_col7 {\n",
              "            background-color:  #8da0cb;\n",
              "            color:  #000000;\n",
              "        }    #T_7b526e48_e77f_11ea_b463_0242ac1c0002row14_col0 {\n",
              "            background-color:  #66c2a5;\n",
              "            color:  #000000;\n",
              "        }    #T_7b526e48_e77f_11ea_b463_0242ac1c0002row14_col1 {\n",
              "            background-color:  #8da0cb;\n",
              "            color:  #000000;\n",
              "        }    #T_7b526e48_e77f_11ea_b463_0242ac1c0002row14_col2 {\n",
              "            background-color:  #8da0cb;\n",
              "            color:  #000000;\n",
              "        }    #T_7b526e48_e77f_11ea_b463_0242ac1c0002row14_col3 {\n",
              "            background-color:  #8da0cb;\n",
              "            color:  #000000;\n",
              "        }    #T_7b526e48_e77f_11ea_b463_0242ac1c0002row14_col4 {\n",
              "            background-color:  #8da0cb;\n",
              "            color:  #000000;\n",
              "        }    #T_7b526e48_e77f_11ea_b463_0242ac1c0002row14_col5 {\n",
              "            background-color:  #8da0cb;\n",
              "            color:  #000000;\n",
              "        }    #T_7b526e48_e77f_11ea_b463_0242ac1c0002row14_col6 {\n",
              "            background-color:  #8da0cb;\n",
              "            color:  #000000;\n",
              "        }    #T_7b526e48_e77f_11ea_b463_0242ac1c0002row14_col7 {\n",
              "            background-color:  #8da0cb;\n",
              "            color:  #000000;\n",
              "        }    #T_7b526e48_e77f_11ea_b463_0242ac1c0002row15_col0 {\n",
              "            background-color:  #66c2a5;\n",
              "            color:  #000000;\n",
              "        }    #T_7b526e48_e77f_11ea_b463_0242ac1c0002row15_col1 {\n",
              "            background-color:  #8da0cb;\n",
              "            color:  #000000;\n",
              "        }    #T_7b526e48_e77f_11ea_b463_0242ac1c0002row15_col2 {\n",
              "            background-color:  #8da0cb;\n",
              "            color:  #000000;\n",
              "        }    #T_7b526e48_e77f_11ea_b463_0242ac1c0002row15_col3 {\n",
              "            background-color:  #8da0cb;\n",
              "            color:  #000000;\n",
              "        }    #T_7b526e48_e77f_11ea_b463_0242ac1c0002row15_col4 {\n",
              "            background-color:  #8da0cb;\n",
              "            color:  #000000;\n",
              "        }    #T_7b526e48_e77f_11ea_b463_0242ac1c0002row15_col5 {\n",
              "            background-color:  #8da0cb;\n",
              "            color:  #000000;\n",
              "        }    #T_7b526e48_e77f_11ea_b463_0242ac1c0002row15_col6 {\n",
              "            background-color:  #8da0cb;\n",
              "            color:  #000000;\n",
              "        }    #T_7b526e48_e77f_11ea_b463_0242ac1c0002row15_col7 {\n",
              "            background-color:  #8da0cb;\n",
              "            color:  #000000;\n",
              "        }    #T_7b526e48_e77f_11ea_b463_0242ac1c0002row16_col0 {\n",
              "            background-color:  #66c2a5;\n",
              "            color:  #000000;\n",
              "        }    #T_7b526e48_e77f_11ea_b463_0242ac1c0002row16_col1 {\n",
              "            background-color:  #8da0cb;\n",
              "            color:  #000000;\n",
              "        }    #T_7b526e48_e77f_11ea_b463_0242ac1c0002row16_col2 {\n",
              "            background-color:  #8da0cb;\n",
              "            color:  #000000;\n",
              "        }    #T_7b526e48_e77f_11ea_b463_0242ac1c0002row16_col3 {\n",
              "            background-color:  #8da0cb;\n",
              "            color:  #000000;\n",
              "        }    #T_7b526e48_e77f_11ea_b463_0242ac1c0002row16_col4 {\n",
              "            background-color:  #8da0cb;\n",
              "            color:  #000000;\n",
              "        }    #T_7b526e48_e77f_11ea_b463_0242ac1c0002row16_col5 {\n",
              "            background-color:  #8da0cb;\n",
              "            color:  #000000;\n",
              "        }    #T_7b526e48_e77f_11ea_b463_0242ac1c0002row16_col6 {\n",
              "            background-color:  #8da0cb;\n",
              "            color:  #000000;\n",
              "        }    #T_7b526e48_e77f_11ea_b463_0242ac1c0002row16_col7 {\n",
              "            background-color:  #8da0cb;\n",
              "            color:  #000000;\n",
              "        }    #T_7b526e48_e77f_11ea_b463_0242ac1c0002row17_col0 {\n",
              "            background-color:  #66c2a5;\n",
              "            color:  #000000;\n",
              "        }    #T_7b526e48_e77f_11ea_b463_0242ac1c0002row17_col1 {\n",
              "            background-color:  #8da0cb;\n",
              "            color:  #000000;\n",
              "        }    #T_7b526e48_e77f_11ea_b463_0242ac1c0002row17_col2 {\n",
              "            background-color:  #8da0cb;\n",
              "            color:  #000000;\n",
              "        }    #T_7b526e48_e77f_11ea_b463_0242ac1c0002row17_col3 {\n",
              "            background-color:  #8da0cb;\n",
              "            color:  #000000;\n",
              "        }    #T_7b526e48_e77f_11ea_b463_0242ac1c0002row17_col4 {\n",
              "            background-color:  #8da0cb;\n",
              "            color:  #000000;\n",
              "        }    #T_7b526e48_e77f_11ea_b463_0242ac1c0002row17_col5 {\n",
              "            background-color:  #8da0cb;\n",
              "            color:  #000000;\n",
              "        }    #T_7b526e48_e77f_11ea_b463_0242ac1c0002row17_col6 {\n",
              "            background-color:  #8da0cb;\n",
              "            color:  #000000;\n",
              "        }    #T_7b526e48_e77f_11ea_b463_0242ac1c0002row17_col7 {\n",
              "            background-color:  #8da0cb;\n",
              "            color:  #000000;\n",
              "        }    #T_7b526e48_e77f_11ea_b463_0242ac1c0002row18_col0 {\n",
              "            background-color:  #66c2a5;\n",
              "            color:  #000000;\n",
              "        }    #T_7b526e48_e77f_11ea_b463_0242ac1c0002row18_col1 {\n",
              "            background-color:  #8da0cb;\n",
              "            color:  #000000;\n",
              "        }    #T_7b526e48_e77f_11ea_b463_0242ac1c0002row18_col2 {\n",
              "            background-color:  #8da0cb;\n",
              "            color:  #000000;\n",
              "        }    #T_7b526e48_e77f_11ea_b463_0242ac1c0002row18_col3 {\n",
              "            background-color:  #8da0cb;\n",
              "            color:  #000000;\n",
              "        }    #T_7b526e48_e77f_11ea_b463_0242ac1c0002row18_col4 {\n",
              "            background-color:  #8da0cb;\n",
              "            color:  #000000;\n",
              "        }    #T_7b526e48_e77f_11ea_b463_0242ac1c0002row18_col5 {\n",
              "            background-color:  #8da0cb;\n",
              "            color:  #000000;\n",
              "        }    #T_7b526e48_e77f_11ea_b463_0242ac1c0002row18_col6 {\n",
              "            background-color:  #8da0cb;\n",
              "            color:  #000000;\n",
              "        }    #T_7b526e48_e77f_11ea_b463_0242ac1c0002row18_col7 {\n",
              "            background-color:  #8da0cb;\n",
              "            color:  #000000;\n",
              "        }    #T_7b526e48_e77f_11ea_b463_0242ac1c0002row19_col0 {\n",
              "            background-color:  #66c2a5;\n",
              "            color:  #000000;\n",
              "        }    #T_7b526e48_e77f_11ea_b463_0242ac1c0002row19_col1 {\n",
              "            background-color:  #8da0cb;\n",
              "            color:  #000000;\n",
              "        }    #T_7b526e48_e77f_11ea_b463_0242ac1c0002row19_col2 {\n",
              "            background-color:  #8da0cb;\n",
              "            color:  #000000;\n",
              "        }    #T_7b526e48_e77f_11ea_b463_0242ac1c0002row19_col3 {\n",
              "            background-color:  #8da0cb;\n",
              "            color:  #000000;\n",
              "        }    #T_7b526e48_e77f_11ea_b463_0242ac1c0002row19_col4 {\n",
              "            background-color:  #8da0cb;\n",
              "            color:  #000000;\n",
              "        }    #T_7b526e48_e77f_11ea_b463_0242ac1c0002row19_col5 {\n",
              "            background-color:  #8da0cb;\n",
              "            color:  #000000;\n",
              "        }    #T_7b526e48_e77f_11ea_b463_0242ac1c0002row19_col6 {\n",
              "            background-color:  #8da0cb;\n",
              "            color:  #000000;\n",
              "        }    #T_7b526e48_e77f_11ea_b463_0242ac1c0002row19_col7 {\n",
              "            background-color:  #8da0cb;\n",
              "            color:  #000000;\n",
              "        }    #T_7b526e48_e77f_11ea_b463_0242ac1c0002row20_col0 {\n",
              "            background-color:  #66c2a5;\n",
              "            color:  #000000;\n",
              "        }    #T_7b526e48_e77f_11ea_b463_0242ac1c0002row20_col1 {\n",
              "            background-color:  #8da0cb;\n",
              "            color:  #000000;\n",
              "        }    #T_7b526e48_e77f_11ea_b463_0242ac1c0002row20_col2 {\n",
              "            background-color:  #8da0cb;\n",
              "            color:  #000000;\n",
              "        }    #T_7b526e48_e77f_11ea_b463_0242ac1c0002row20_col3 {\n",
              "            background-color:  #8da0cb;\n",
              "            color:  #000000;\n",
              "        }    #T_7b526e48_e77f_11ea_b463_0242ac1c0002row20_col4 {\n",
              "            background-color:  #8da0cb;\n",
              "            color:  #000000;\n",
              "        }    #T_7b526e48_e77f_11ea_b463_0242ac1c0002row20_col5 {\n",
              "            background-color:  #8da0cb;\n",
              "            color:  #000000;\n",
              "        }    #T_7b526e48_e77f_11ea_b463_0242ac1c0002row20_col6 {\n",
              "            background-color:  #8da0cb;\n",
              "            color:  #000000;\n",
              "        }    #T_7b526e48_e77f_11ea_b463_0242ac1c0002row20_col7 {\n",
              "            background-color:  #8da0cb;\n",
              "            color:  #000000;\n",
              "        }    #T_7b526e48_e77f_11ea_b463_0242ac1c0002row21_col0 {\n",
              "            background-color:  #66c2a5;\n",
              "            color:  #000000;\n",
              "        }    #T_7b526e48_e77f_11ea_b463_0242ac1c0002row21_col1 {\n",
              "            background-color:  #8da0cb;\n",
              "            color:  #000000;\n",
              "        }    #T_7b526e48_e77f_11ea_b463_0242ac1c0002row21_col2 {\n",
              "            background-color:  #8da0cb;\n",
              "            color:  #000000;\n",
              "        }    #T_7b526e48_e77f_11ea_b463_0242ac1c0002row21_col3 {\n",
              "            background-color:  #8da0cb;\n",
              "            color:  #000000;\n",
              "        }    #T_7b526e48_e77f_11ea_b463_0242ac1c0002row21_col4 {\n",
              "            background-color:  #8da0cb;\n",
              "            color:  #000000;\n",
              "        }    #T_7b526e48_e77f_11ea_b463_0242ac1c0002row21_col5 {\n",
              "            background-color:  #8da0cb;\n",
              "            color:  #000000;\n",
              "        }    #T_7b526e48_e77f_11ea_b463_0242ac1c0002row21_col6 {\n",
              "            background-color:  #8da0cb;\n",
              "            color:  #000000;\n",
              "        }    #T_7b526e48_e77f_11ea_b463_0242ac1c0002row21_col7 {\n",
              "            background-color:  #8da0cb;\n",
              "            color:  #000000;\n",
              "        }    #T_7b526e48_e77f_11ea_b463_0242ac1c0002row22_col0 {\n",
              "            background-color:  #66c2a5;\n",
              "            color:  #000000;\n",
              "        }    #T_7b526e48_e77f_11ea_b463_0242ac1c0002row22_col1 {\n",
              "            background-color:  #8da0cb;\n",
              "            color:  #000000;\n",
              "        }    #T_7b526e48_e77f_11ea_b463_0242ac1c0002row22_col2 {\n",
              "            background-color:  #8da0cb;\n",
              "            color:  #000000;\n",
              "        }    #T_7b526e48_e77f_11ea_b463_0242ac1c0002row22_col3 {\n",
              "            background-color:  #8da0cb;\n",
              "            color:  #000000;\n",
              "        }    #T_7b526e48_e77f_11ea_b463_0242ac1c0002row22_col4 {\n",
              "            background-color:  #8da0cb;\n",
              "            color:  #000000;\n",
              "        }    #T_7b526e48_e77f_11ea_b463_0242ac1c0002row22_col5 {\n",
              "            background-color:  #8da0cb;\n",
              "            color:  #000000;\n",
              "        }    #T_7b526e48_e77f_11ea_b463_0242ac1c0002row22_col6 {\n",
              "            background-color:  #8da0cb;\n",
              "            color:  #000000;\n",
              "        }    #T_7b526e48_e77f_11ea_b463_0242ac1c0002row22_col7 {\n",
              "            background-color:  #8da0cb;\n",
              "            color:  #000000;\n",
              "        }    #T_7b526e48_e77f_11ea_b463_0242ac1c0002row23_col0 {\n",
              "            background-color:  #66c2a5;\n",
              "            color:  #000000;\n",
              "        }    #T_7b526e48_e77f_11ea_b463_0242ac1c0002row23_col1 {\n",
              "            background-color:  #8da0cb;\n",
              "            color:  #000000;\n",
              "        }    #T_7b526e48_e77f_11ea_b463_0242ac1c0002row23_col2 {\n",
              "            background-color:  #8da0cb;\n",
              "            color:  #000000;\n",
              "        }    #T_7b526e48_e77f_11ea_b463_0242ac1c0002row23_col3 {\n",
              "            background-color:  #8da0cb;\n",
              "            color:  #000000;\n",
              "        }    #T_7b526e48_e77f_11ea_b463_0242ac1c0002row23_col4 {\n",
              "            background-color:  #8da0cb;\n",
              "            color:  #000000;\n",
              "        }    #T_7b526e48_e77f_11ea_b463_0242ac1c0002row23_col5 {\n",
              "            background-color:  #8da0cb;\n",
              "            color:  #000000;\n",
              "        }    #T_7b526e48_e77f_11ea_b463_0242ac1c0002row23_col6 {\n",
              "            background-color:  #8da0cb;\n",
              "            color:  #000000;\n",
              "        }    #T_7b526e48_e77f_11ea_b463_0242ac1c0002row23_col7 {\n",
              "            background-color:  #8da0cb;\n",
              "            color:  #000000;\n",
              "        }    #T_7b526e48_e77f_11ea_b463_0242ac1c0002row24_col0 {\n",
              "            background-color:  #66c2a5;\n",
              "            color:  #000000;\n",
              "        }    #T_7b526e48_e77f_11ea_b463_0242ac1c0002row24_col1 {\n",
              "            background-color:  #8da0cb;\n",
              "            color:  #000000;\n",
              "        }    #T_7b526e48_e77f_11ea_b463_0242ac1c0002row24_col2 {\n",
              "            background-color:  #8da0cb;\n",
              "            color:  #000000;\n",
              "        }    #T_7b526e48_e77f_11ea_b463_0242ac1c0002row24_col3 {\n",
              "            background-color:  #8da0cb;\n",
              "            color:  #000000;\n",
              "        }    #T_7b526e48_e77f_11ea_b463_0242ac1c0002row24_col4 {\n",
              "            background-color:  #8da0cb;\n",
              "            color:  #000000;\n",
              "        }    #T_7b526e48_e77f_11ea_b463_0242ac1c0002row24_col5 {\n",
              "            background-color:  #8da0cb;\n",
              "            color:  #000000;\n",
              "        }    #T_7b526e48_e77f_11ea_b463_0242ac1c0002row24_col6 {\n",
              "            background-color:  #8da0cb;\n",
              "            color:  #000000;\n",
              "        }    #T_7b526e48_e77f_11ea_b463_0242ac1c0002row24_col7 {\n",
              "            background-color:  #8da0cb;\n",
              "            color:  #000000;\n",
              "        }    #T_7b526e48_e77f_11ea_b463_0242ac1c0002row25_col0 {\n",
              "            background-color:  #66c2a5;\n",
              "            color:  #000000;\n",
              "        }    #T_7b526e48_e77f_11ea_b463_0242ac1c0002row25_col1 {\n",
              "            background-color:  #8da0cb;\n",
              "            color:  #000000;\n",
              "        }    #T_7b526e48_e77f_11ea_b463_0242ac1c0002row25_col2 {\n",
              "            background-color:  #8da0cb;\n",
              "            color:  #000000;\n",
              "        }    #T_7b526e48_e77f_11ea_b463_0242ac1c0002row25_col3 {\n",
              "            background-color:  #8da0cb;\n",
              "            color:  #000000;\n",
              "        }    #T_7b526e48_e77f_11ea_b463_0242ac1c0002row25_col4 {\n",
              "            background-color:  #8da0cb;\n",
              "            color:  #000000;\n",
              "        }    #T_7b526e48_e77f_11ea_b463_0242ac1c0002row25_col5 {\n",
              "            background-color:  #8da0cb;\n",
              "            color:  #000000;\n",
              "        }    #T_7b526e48_e77f_11ea_b463_0242ac1c0002row25_col6 {\n",
              "            background-color:  #8da0cb;\n",
              "            color:  #000000;\n",
              "        }    #T_7b526e48_e77f_11ea_b463_0242ac1c0002row25_col7 {\n",
              "            background-color:  #8da0cb;\n",
              "            color:  #000000;\n",
              "        }    #T_7b526e48_e77f_11ea_b463_0242ac1c0002row26_col0 {\n",
              "            background-color:  #66c2a5;\n",
              "            color:  #000000;\n",
              "        }    #T_7b526e48_e77f_11ea_b463_0242ac1c0002row26_col1 {\n",
              "            background-color:  #8da0cb;\n",
              "            color:  #000000;\n",
              "        }    #T_7b526e48_e77f_11ea_b463_0242ac1c0002row26_col2 {\n",
              "            background-color:  #8da0cb;\n",
              "            color:  #000000;\n",
              "        }    #T_7b526e48_e77f_11ea_b463_0242ac1c0002row26_col3 {\n",
              "            background-color:  #8da0cb;\n",
              "            color:  #000000;\n",
              "        }    #T_7b526e48_e77f_11ea_b463_0242ac1c0002row26_col4 {\n",
              "            background-color:  #8da0cb;\n",
              "            color:  #000000;\n",
              "        }    #T_7b526e48_e77f_11ea_b463_0242ac1c0002row26_col5 {\n",
              "            background-color:  #8da0cb;\n",
              "            color:  #000000;\n",
              "        }    #T_7b526e48_e77f_11ea_b463_0242ac1c0002row26_col6 {\n",
              "            background-color:  #8da0cb;\n",
              "            color:  #000000;\n",
              "        }    #T_7b526e48_e77f_11ea_b463_0242ac1c0002row26_col7 {\n",
              "            background-color:  #8da0cb;\n",
              "            color:  #000000;\n",
              "        }    #T_7b526e48_e77f_11ea_b463_0242ac1c0002row27_col0 {\n",
              "            background-color:  #66c2a5;\n",
              "            color:  #000000;\n",
              "        }    #T_7b526e48_e77f_11ea_b463_0242ac1c0002row27_col1 {\n",
              "            background-color:  #8da0cb;\n",
              "            color:  #000000;\n",
              "        }    #T_7b526e48_e77f_11ea_b463_0242ac1c0002row27_col2 {\n",
              "            background-color:  #8da0cb;\n",
              "            color:  #000000;\n",
              "        }    #T_7b526e48_e77f_11ea_b463_0242ac1c0002row27_col3 {\n",
              "            background-color:  #8da0cb;\n",
              "            color:  #000000;\n",
              "        }    #T_7b526e48_e77f_11ea_b463_0242ac1c0002row27_col4 {\n",
              "            background-color:  #8da0cb;\n",
              "            color:  #000000;\n",
              "        }    #T_7b526e48_e77f_11ea_b463_0242ac1c0002row27_col5 {\n",
              "            background-color:  #8da0cb;\n",
              "            color:  #000000;\n",
              "        }    #T_7b526e48_e77f_11ea_b463_0242ac1c0002row27_col6 {\n",
              "            background-color:  #8da0cb;\n",
              "            color:  #000000;\n",
              "        }    #T_7b526e48_e77f_11ea_b463_0242ac1c0002row27_col7 {\n",
              "            background-color:  #8da0cb;\n",
              "            color:  #000000;\n",
              "        }    #T_7b526e48_e77f_11ea_b463_0242ac1c0002row28_col0 {\n",
              "            background-color:  #66c2a5;\n",
              "            color:  #000000;\n",
              "        }    #T_7b526e48_e77f_11ea_b463_0242ac1c0002row28_col1 {\n",
              "            background-color:  #8da0cb;\n",
              "            color:  #000000;\n",
              "        }    #T_7b526e48_e77f_11ea_b463_0242ac1c0002row28_col2 {\n",
              "            background-color:  #8da0cb;\n",
              "            color:  #000000;\n",
              "        }    #T_7b526e48_e77f_11ea_b463_0242ac1c0002row28_col3 {\n",
              "            background-color:  #8da0cb;\n",
              "            color:  #000000;\n",
              "        }    #T_7b526e48_e77f_11ea_b463_0242ac1c0002row28_col4 {\n",
              "            background-color:  #8da0cb;\n",
              "            color:  #000000;\n",
              "        }    #T_7b526e48_e77f_11ea_b463_0242ac1c0002row28_col5 {\n",
              "            background-color:  #8da0cb;\n",
              "            color:  #000000;\n",
              "        }    #T_7b526e48_e77f_11ea_b463_0242ac1c0002row28_col6 {\n",
              "            background-color:  #8da0cb;\n",
              "            color:  #000000;\n",
              "        }    #T_7b526e48_e77f_11ea_b463_0242ac1c0002row28_col7 {\n",
              "            background-color:  #8da0cb;\n",
              "            color:  #000000;\n",
              "        }    #T_7b526e48_e77f_11ea_b463_0242ac1c0002row29_col0 {\n",
              "            background-color:  #66c2a5;\n",
              "            color:  #000000;\n",
              "        }    #T_7b526e48_e77f_11ea_b463_0242ac1c0002row29_col1 {\n",
              "            background-color:  #8da0cb;\n",
              "            color:  #000000;\n",
              "        }    #T_7b526e48_e77f_11ea_b463_0242ac1c0002row29_col2 {\n",
              "            background-color:  #8da0cb;\n",
              "            color:  #000000;\n",
              "        }    #T_7b526e48_e77f_11ea_b463_0242ac1c0002row29_col3 {\n",
              "            background-color:  #8da0cb;\n",
              "            color:  #000000;\n",
              "        }    #T_7b526e48_e77f_11ea_b463_0242ac1c0002row29_col4 {\n",
              "            background-color:  #8da0cb;\n",
              "            color:  #000000;\n",
              "        }    #T_7b526e48_e77f_11ea_b463_0242ac1c0002row29_col5 {\n",
              "            background-color:  #8da0cb;\n",
              "            color:  #000000;\n",
              "        }    #T_7b526e48_e77f_11ea_b463_0242ac1c0002row29_col6 {\n",
              "            background-color:  #8da0cb;\n",
              "            color:  #000000;\n",
              "        }    #T_7b526e48_e77f_11ea_b463_0242ac1c0002row29_col7 {\n",
              "            background-color:  #8da0cb;\n",
              "            color:  #000000;\n",
              "        }    #T_7b526e48_e77f_11ea_b463_0242ac1c0002row30_col0 {\n",
              "            background-color:  #66c2a5;\n",
              "            color:  #000000;\n",
              "        }    #T_7b526e48_e77f_11ea_b463_0242ac1c0002row30_col1 {\n",
              "            background-color:  #8da0cb;\n",
              "            color:  #000000;\n",
              "        }    #T_7b526e48_e77f_11ea_b463_0242ac1c0002row30_col2 {\n",
              "            background-color:  #8da0cb;\n",
              "            color:  #000000;\n",
              "        }    #T_7b526e48_e77f_11ea_b463_0242ac1c0002row30_col3 {\n",
              "            background-color:  #8da0cb;\n",
              "            color:  #000000;\n",
              "        }    #T_7b526e48_e77f_11ea_b463_0242ac1c0002row30_col4 {\n",
              "            background-color:  #8da0cb;\n",
              "            color:  #000000;\n",
              "        }    #T_7b526e48_e77f_11ea_b463_0242ac1c0002row30_col5 {\n",
              "            background-color:  #8da0cb;\n",
              "            color:  #000000;\n",
              "        }    #T_7b526e48_e77f_11ea_b463_0242ac1c0002row30_col6 {\n",
              "            background-color:  #8da0cb;\n",
              "            color:  #000000;\n",
              "        }    #T_7b526e48_e77f_11ea_b463_0242ac1c0002row30_col7 {\n",
              "            background-color:  #8da0cb;\n",
              "            color:  #000000;\n",
              "        }</style><table id=\"T_7b526e48_e77f_11ea_b463_0242ac1c0002\" ><thead>    <tr>        <th class=\"blank level0\" ></th>        <th class=\"col_heading level0 col0\" >count</th>        <th class=\"col_heading level0 col1\" >mean</th>        <th class=\"col_heading level0 col2\" >std</th>        <th class=\"col_heading level0 col3\" >min</th>        <th class=\"col_heading level0 col4\" >25%</th>        <th class=\"col_heading level0 col5\" >50%</th>        <th class=\"col_heading level0 col6\" >75%</th>        <th class=\"col_heading level0 col7\" >max</th>    </tr></thead><tbody>\n",
              "                <tr>\n",
              "                        <th id=\"T_7b526e48_e77f_11ea_b463_0242ac1c0002level0_row0\" class=\"row_heading level0 row0\" >building_id</th>\n",
              "                        <td id=\"T_7b526e48_e77f_11ea_b463_0242ac1c0002row0_col0\" class=\"data row0 col0\" >260601.000000</td>\n",
              "                        <td id=\"T_7b526e48_e77f_11ea_b463_0242ac1c0002row0_col1\" class=\"data row0 col1\" >525675.482773</td>\n",
              "                        <td id=\"T_7b526e48_e77f_11ea_b463_0242ac1c0002row0_col2\" class=\"data row0 col2\" >304544.999032</td>\n",
              "                        <td id=\"T_7b526e48_e77f_11ea_b463_0242ac1c0002row0_col3\" class=\"data row0 col3\" >4.000000</td>\n",
              "                        <td id=\"T_7b526e48_e77f_11ea_b463_0242ac1c0002row0_col4\" class=\"data row0 col4\" >261190.000000</td>\n",
              "                        <td id=\"T_7b526e48_e77f_11ea_b463_0242ac1c0002row0_col5\" class=\"data row0 col5\" >525757.000000</td>\n",
              "                        <td id=\"T_7b526e48_e77f_11ea_b463_0242ac1c0002row0_col6\" class=\"data row0 col6\" >789762.000000</td>\n",
              "                        <td id=\"T_7b526e48_e77f_11ea_b463_0242ac1c0002row0_col7\" class=\"data row0 col7\" >1052934.000000</td>\n",
              "            </tr>\n",
              "            <tr>\n",
              "                        <th id=\"T_7b526e48_e77f_11ea_b463_0242ac1c0002level0_row1\" class=\"row_heading level0 row1\" >geo_level_1_id</th>\n",
              "                        <td id=\"T_7b526e48_e77f_11ea_b463_0242ac1c0002row1_col0\" class=\"data row1 col0\" >260601.000000</td>\n",
              "                        <td id=\"T_7b526e48_e77f_11ea_b463_0242ac1c0002row1_col1\" class=\"data row1 col1\" >13.900353</td>\n",
              "                        <td id=\"T_7b526e48_e77f_11ea_b463_0242ac1c0002row1_col2\" class=\"data row1 col2\" >8.033617</td>\n",
              "                        <td id=\"T_7b526e48_e77f_11ea_b463_0242ac1c0002row1_col3\" class=\"data row1 col3\" >0.000000</td>\n",
              "                        <td id=\"T_7b526e48_e77f_11ea_b463_0242ac1c0002row1_col4\" class=\"data row1 col4\" >7.000000</td>\n",
              "                        <td id=\"T_7b526e48_e77f_11ea_b463_0242ac1c0002row1_col5\" class=\"data row1 col5\" >12.000000</td>\n",
              "                        <td id=\"T_7b526e48_e77f_11ea_b463_0242ac1c0002row1_col6\" class=\"data row1 col6\" >21.000000</td>\n",
              "                        <td id=\"T_7b526e48_e77f_11ea_b463_0242ac1c0002row1_col7\" class=\"data row1 col7\" >30.000000</td>\n",
              "            </tr>\n",
              "            <tr>\n",
              "                        <th id=\"T_7b526e48_e77f_11ea_b463_0242ac1c0002level0_row2\" class=\"row_heading level0 row2\" >geo_level_2_id</th>\n",
              "                        <td id=\"T_7b526e48_e77f_11ea_b463_0242ac1c0002row2_col0\" class=\"data row2 col0\" >260601.000000</td>\n",
              "                        <td id=\"T_7b526e48_e77f_11ea_b463_0242ac1c0002row2_col1\" class=\"data row2 col1\" >701.074685</td>\n",
              "                        <td id=\"T_7b526e48_e77f_11ea_b463_0242ac1c0002row2_col2\" class=\"data row2 col2\" >412.710734</td>\n",
              "                        <td id=\"T_7b526e48_e77f_11ea_b463_0242ac1c0002row2_col3\" class=\"data row2 col3\" >0.000000</td>\n",
              "                        <td id=\"T_7b526e48_e77f_11ea_b463_0242ac1c0002row2_col4\" class=\"data row2 col4\" >350.000000</td>\n",
              "                        <td id=\"T_7b526e48_e77f_11ea_b463_0242ac1c0002row2_col5\" class=\"data row2 col5\" >702.000000</td>\n",
              "                        <td id=\"T_7b526e48_e77f_11ea_b463_0242ac1c0002row2_col6\" class=\"data row2 col6\" >1050.000000</td>\n",
              "                        <td id=\"T_7b526e48_e77f_11ea_b463_0242ac1c0002row2_col7\" class=\"data row2 col7\" >1427.000000</td>\n",
              "            </tr>\n",
              "            <tr>\n",
              "                        <th id=\"T_7b526e48_e77f_11ea_b463_0242ac1c0002level0_row3\" class=\"row_heading level0 row3\" >geo_level_3_id</th>\n",
              "                        <td id=\"T_7b526e48_e77f_11ea_b463_0242ac1c0002row3_col0\" class=\"data row3 col0\" >260601.000000</td>\n",
              "                        <td id=\"T_7b526e48_e77f_11ea_b463_0242ac1c0002row3_col1\" class=\"data row3 col1\" >6257.876148</td>\n",
              "                        <td id=\"T_7b526e48_e77f_11ea_b463_0242ac1c0002row3_col2\" class=\"data row3 col2\" >3646.369645</td>\n",
              "                        <td id=\"T_7b526e48_e77f_11ea_b463_0242ac1c0002row3_col3\" class=\"data row3 col3\" >0.000000</td>\n",
              "                        <td id=\"T_7b526e48_e77f_11ea_b463_0242ac1c0002row3_col4\" class=\"data row3 col4\" >3073.000000</td>\n",
              "                        <td id=\"T_7b526e48_e77f_11ea_b463_0242ac1c0002row3_col5\" class=\"data row3 col5\" >6270.000000</td>\n",
              "                        <td id=\"T_7b526e48_e77f_11ea_b463_0242ac1c0002row3_col6\" class=\"data row3 col6\" >9412.000000</td>\n",
              "                        <td id=\"T_7b526e48_e77f_11ea_b463_0242ac1c0002row3_col7\" class=\"data row3 col7\" >12567.000000</td>\n",
              "            </tr>\n",
              "            <tr>\n",
              "                        <th id=\"T_7b526e48_e77f_11ea_b463_0242ac1c0002level0_row4\" class=\"row_heading level0 row4\" >count_floors_pre_eq</th>\n",
              "                        <td id=\"T_7b526e48_e77f_11ea_b463_0242ac1c0002row4_col0\" class=\"data row4 col0\" >260601.000000</td>\n",
              "                        <td id=\"T_7b526e48_e77f_11ea_b463_0242ac1c0002row4_col1\" class=\"data row4 col1\" >2.129723</td>\n",
              "                        <td id=\"T_7b526e48_e77f_11ea_b463_0242ac1c0002row4_col2\" class=\"data row4 col2\" >0.727665</td>\n",
              "                        <td id=\"T_7b526e48_e77f_11ea_b463_0242ac1c0002row4_col3\" class=\"data row4 col3\" >1.000000</td>\n",
              "                        <td id=\"T_7b526e48_e77f_11ea_b463_0242ac1c0002row4_col4\" class=\"data row4 col4\" >2.000000</td>\n",
              "                        <td id=\"T_7b526e48_e77f_11ea_b463_0242ac1c0002row4_col5\" class=\"data row4 col5\" >2.000000</td>\n",
              "                        <td id=\"T_7b526e48_e77f_11ea_b463_0242ac1c0002row4_col6\" class=\"data row4 col6\" >2.000000</td>\n",
              "                        <td id=\"T_7b526e48_e77f_11ea_b463_0242ac1c0002row4_col7\" class=\"data row4 col7\" >9.000000</td>\n",
              "            </tr>\n",
              "            <tr>\n",
              "                        <th id=\"T_7b526e48_e77f_11ea_b463_0242ac1c0002level0_row5\" class=\"row_heading level0 row5\" >age</th>\n",
              "                        <td id=\"T_7b526e48_e77f_11ea_b463_0242ac1c0002row5_col0\" class=\"data row5 col0\" >260601.000000</td>\n",
              "                        <td id=\"T_7b526e48_e77f_11ea_b463_0242ac1c0002row5_col1\" class=\"data row5 col1\" >26.535029</td>\n",
              "                        <td id=\"T_7b526e48_e77f_11ea_b463_0242ac1c0002row5_col2\" class=\"data row5 col2\" >73.565937</td>\n",
              "                        <td id=\"T_7b526e48_e77f_11ea_b463_0242ac1c0002row5_col3\" class=\"data row5 col3\" >0.000000</td>\n",
              "                        <td id=\"T_7b526e48_e77f_11ea_b463_0242ac1c0002row5_col4\" class=\"data row5 col4\" >10.000000</td>\n",
              "                        <td id=\"T_7b526e48_e77f_11ea_b463_0242ac1c0002row5_col5\" class=\"data row5 col5\" >15.000000</td>\n",
              "                        <td id=\"T_7b526e48_e77f_11ea_b463_0242ac1c0002row5_col6\" class=\"data row5 col6\" >30.000000</td>\n",
              "                        <td id=\"T_7b526e48_e77f_11ea_b463_0242ac1c0002row5_col7\" class=\"data row5 col7\" >995.000000</td>\n",
              "            </tr>\n",
              "            <tr>\n",
              "                        <th id=\"T_7b526e48_e77f_11ea_b463_0242ac1c0002level0_row6\" class=\"row_heading level0 row6\" >area_percentage</th>\n",
              "                        <td id=\"T_7b526e48_e77f_11ea_b463_0242ac1c0002row6_col0\" class=\"data row6 col0\" >260601.000000</td>\n",
              "                        <td id=\"T_7b526e48_e77f_11ea_b463_0242ac1c0002row6_col1\" class=\"data row6 col1\" >8.018051</td>\n",
              "                        <td id=\"T_7b526e48_e77f_11ea_b463_0242ac1c0002row6_col2\" class=\"data row6 col2\" >4.392231</td>\n",
              "                        <td id=\"T_7b526e48_e77f_11ea_b463_0242ac1c0002row6_col3\" class=\"data row6 col3\" >1.000000</td>\n",
              "                        <td id=\"T_7b526e48_e77f_11ea_b463_0242ac1c0002row6_col4\" class=\"data row6 col4\" >5.000000</td>\n",
              "                        <td id=\"T_7b526e48_e77f_11ea_b463_0242ac1c0002row6_col5\" class=\"data row6 col5\" >7.000000</td>\n",
              "                        <td id=\"T_7b526e48_e77f_11ea_b463_0242ac1c0002row6_col6\" class=\"data row6 col6\" >9.000000</td>\n",
              "                        <td id=\"T_7b526e48_e77f_11ea_b463_0242ac1c0002row6_col7\" class=\"data row6 col7\" >100.000000</td>\n",
              "            </tr>\n",
              "            <tr>\n",
              "                        <th id=\"T_7b526e48_e77f_11ea_b463_0242ac1c0002level0_row7\" class=\"row_heading level0 row7\" >height_percentage</th>\n",
              "                        <td id=\"T_7b526e48_e77f_11ea_b463_0242ac1c0002row7_col0\" class=\"data row7 col0\" >260601.000000</td>\n",
              "                        <td id=\"T_7b526e48_e77f_11ea_b463_0242ac1c0002row7_col1\" class=\"data row7 col1\" >5.434365</td>\n",
              "                        <td id=\"T_7b526e48_e77f_11ea_b463_0242ac1c0002row7_col2\" class=\"data row7 col2\" >1.918418</td>\n",
              "                        <td id=\"T_7b526e48_e77f_11ea_b463_0242ac1c0002row7_col3\" class=\"data row7 col3\" >2.000000</td>\n",
              "                        <td id=\"T_7b526e48_e77f_11ea_b463_0242ac1c0002row7_col4\" class=\"data row7 col4\" >4.000000</td>\n",
              "                        <td id=\"T_7b526e48_e77f_11ea_b463_0242ac1c0002row7_col5\" class=\"data row7 col5\" >5.000000</td>\n",
              "                        <td id=\"T_7b526e48_e77f_11ea_b463_0242ac1c0002row7_col6\" class=\"data row7 col6\" >6.000000</td>\n",
              "                        <td id=\"T_7b526e48_e77f_11ea_b463_0242ac1c0002row7_col7\" class=\"data row7 col7\" >32.000000</td>\n",
              "            </tr>\n",
              "            <tr>\n",
              "                        <th id=\"T_7b526e48_e77f_11ea_b463_0242ac1c0002level0_row8\" class=\"row_heading level0 row8\" >has_superstructure_adobe_mud</th>\n",
              "                        <td id=\"T_7b526e48_e77f_11ea_b463_0242ac1c0002row8_col0\" class=\"data row8 col0\" >260601.000000</td>\n",
              "                        <td id=\"T_7b526e48_e77f_11ea_b463_0242ac1c0002row8_col1\" class=\"data row8 col1\" >0.088645</td>\n",
              "                        <td id=\"T_7b526e48_e77f_11ea_b463_0242ac1c0002row8_col2\" class=\"data row8 col2\" >0.284231</td>\n",
              "                        <td id=\"T_7b526e48_e77f_11ea_b463_0242ac1c0002row8_col3\" class=\"data row8 col3\" >0.000000</td>\n",
              "                        <td id=\"T_7b526e48_e77f_11ea_b463_0242ac1c0002row8_col4\" class=\"data row8 col4\" >0.000000</td>\n",
              "                        <td id=\"T_7b526e48_e77f_11ea_b463_0242ac1c0002row8_col5\" class=\"data row8 col5\" >0.000000</td>\n",
              "                        <td id=\"T_7b526e48_e77f_11ea_b463_0242ac1c0002row8_col6\" class=\"data row8 col6\" >0.000000</td>\n",
              "                        <td id=\"T_7b526e48_e77f_11ea_b463_0242ac1c0002row8_col7\" class=\"data row8 col7\" >1.000000</td>\n",
              "            </tr>\n",
              "            <tr>\n",
              "                        <th id=\"T_7b526e48_e77f_11ea_b463_0242ac1c0002level0_row9\" class=\"row_heading level0 row9\" >has_superstructure_mud_mortar_stone</th>\n",
              "                        <td id=\"T_7b526e48_e77f_11ea_b463_0242ac1c0002row9_col0\" class=\"data row9 col0\" >260601.000000</td>\n",
              "                        <td id=\"T_7b526e48_e77f_11ea_b463_0242ac1c0002row9_col1\" class=\"data row9 col1\" >0.761935</td>\n",
              "                        <td id=\"T_7b526e48_e77f_11ea_b463_0242ac1c0002row9_col2\" class=\"data row9 col2\" >0.425900</td>\n",
              "                        <td id=\"T_7b526e48_e77f_11ea_b463_0242ac1c0002row9_col3\" class=\"data row9 col3\" >0.000000</td>\n",
              "                        <td id=\"T_7b526e48_e77f_11ea_b463_0242ac1c0002row9_col4\" class=\"data row9 col4\" >1.000000</td>\n",
              "                        <td id=\"T_7b526e48_e77f_11ea_b463_0242ac1c0002row9_col5\" class=\"data row9 col5\" >1.000000</td>\n",
              "                        <td id=\"T_7b526e48_e77f_11ea_b463_0242ac1c0002row9_col6\" class=\"data row9 col6\" >1.000000</td>\n",
              "                        <td id=\"T_7b526e48_e77f_11ea_b463_0242ac1c0002row9_col7\" class=\"data row9 col7\" >1.000000</td>\n",
              "            </tr>\n",
              "            <tr>\n",
              "                        <th id=\"T_7b526e48_e77f_11ea_b463_0242ac1c0002level0_row10\" class=\"row_heading level0 row10\" >has_superstructure_stone_flag</th>\n",
              "                        <td id=\"T_7b526e48_e77f_11ea_b463_0242ac1c0002row10_col0\" class=\"data row10 col0\" >260601.000000</td>\n",
              "                        <td id=\"T_7b526e48_e77f_11ea_b463_0242ac1c0002row10_col1\" class=\"data row10 col1\" >0.034332</td>\n",
              "                        <td id=\"T_7b526e48_e77f_11ea_b463_0242ac1c0002row10_col2\" class=\"data row10 col2\" >0.182081</td>\n",
              "                        <td id=\"T_7b526e48_e77f_11ea_b463_0242ac1c0002row10_col3\" class=\"data row10 col3\" >0.000000</td>\n",
              "                        <td id=\"T_7b526e48_e77f_11ea_b463_0242ac1c0002row10_col4\" class=\"data row10 col4\" >0.000000</td>\n",
              "                        <td id=\"T_7b526e48_e77f_11ea_b463_0242ac1c0002row10_col5\" class=\"data row10 col5\" >0.000000</td>\n",
              "                        <td id=\"T_7b526e48_e77f_11ea_b463_0242ac1c0002row10_col6\" class=\"data row10 col6\" >0.000000</td>\n",
              "                        <td id=\"T_7b526e48_e77f_11ea_b463_0242ac1c0002row10_col7\" class=\"data row10 col7\" >1.000000</td>\n",
              "            </tr>\n",
              "            <tr>\n",
              "                        <th id=\"T_7b526e48_e77f_11ea_b463_0242ac1c0002level0_row11\" class=\"row_heading level0 row11\" >has_superstructure_cement_mortar_stone</th>\n",
              "                        <td id=\"T_7b526e48_e77f_11ea_b463_0242ac1c0002row11_col0\" class=\"data row11 col0\" >260601.000000</td>\n",
              "                        <td id=\"T_7b526e48_e77f_11ea_b463_0242ac1c0002row11_col1\" class=\"data row11 col1\" >0.018235</td>\n",
              "                        <td id=\"T_7b526e48_e77f_11ea_b463_0242ac1c0002row11_col2\" class=\"data row11 col2\" >0.133800</td>\n",
              "                        <td id=\"T_7b526e48_e77f_11ea_b463_0242ac1c0002row11_col3\" class=\"data row11 col3\" >0.000000</td>\n",
              "                        <td id=\"T_7b526e48_e77f_11ea_b463_0242ac1c0002row11_col4\" class=\"data row11 col4\" >0.000000</td>\n",
              "                        <td id=\"T_7b526e48_e77f_11ea_b463_0242ac1c0002row11_col5\" class=\"data row11 col5\" >0.000000</td>\n",
              "                        <td id=\"T_7b526e48_e77f_11ea_b463_0242ac1c0002row11_col6\" class=\"data row11 col6\" >0.000000</td>\n",
              "                        <td id=\"T_7b526e48_e77f_11ea_b463_0242ac1c0002row11_col7\" class=\"data row11 col7\" >1.000000</td>\n",
              "            </tr>\n",
              "            <tr>\n",
              "                        <th id=\"T_7b526e48_e77f_11ea_b463_0242ac1c0002level0_row12\" class=\"row_heading level0 row12\" >has_superstructure_mud_mortar_brick</th>\n",
              "                        <td id=\"T_7b526e48_e77f_11ea_b463_0242ac1c0002row12_col0\" class=\"data row12 col0\" >260601.000000</td>\n",
              "                        <td id=\"T_7b526e48_e77f_11ea_b463_0242ac1c0002row12_col1\" class=\"data row12 col1\" >0.068154</td>\n",
              "                        <td id=\"T_7b526e48_e77f_11ea_b463_0242ac1c0002row12_col2\" class=\"data row12 col2\" >0.252010</td>\n",
              "                        <td id=\"T_7b526e48_e77f_11ea_b463_0242ac1c0002row12_col3\" class=\"data row12 col3\" >0.000000</td>\n",
              "                        <td id=\"T_7b526e48_e77f_11ea_b463_0242ac1c0002row12_col4\" class=\"data row12 col4\" >0.000000</td>\n",
              "                        <td id=\"T_7b526e48_e77f_11ea_b463_0242ac1c0002row12_col5\" class=\"data row12 col5\" >0.000000</td>\n",
              "                        <td id=\"T_7b526e48_e77f_11ea_b463_0242ac1c0002row12_col6\" class=\"data row12 col6\" >0.000000</td>\n",
              "                        <td id=\"T_7b526e48_e77f_11ea_b463_0242ac1c0002row12_col7\" class=\"data row12 col7\" >1.000000</td>\n",
              "            </tr>\n",
              "            <tr>\n",
              "                        <th id=\"T_7b526e48_e77f_11ea_b463_0242ac1c0002level0_row13\" class=\"row_heading level0 row13\" >has_superstructure_cement_mortar_brick</th>\n",
              "                        <td id=\"T_7b526e48_e77f_11ea_b463_0242ac1c0002row13_col0\" class=\"data row13 col0\" >260601.000000</td>\n",
              "                        <td id=\"T_7b526e48_e77f_11ea_b463_0242ac1c0002row13_col1\" class=\"data row13 col1\" >0.075268</td>\n",
              "                        <td id=\"T_7b526e48_e77f_11ea_b463_0242ac1c0002row13_col2\" class=\"data row13 col2\" >0.263824</td>\n",
              "                        <td id=\"T_7b526e48_e77f_11ea_b463_0242ac1c0002row13_col3\" class=\"data row13 col3\" >0.000000</td>\n",
              "                        <td id=\"T_7b526e48_e77f_11ea_b463_0242ac1c0002row13_col4\" class=\"data row13 col4\" >0.000000</td>\n",
              "                        <td id=\"T_7b526e48_e77f_11ea_b463_0242ac1c0002row13_col5\" class=\"data row13 col5\" >0.000000</td>\n",
              "                        <td id=\"T_7b526e48_e77f_11ea_b463_0242ac1c0002row13_col6\" class=\"data row13 col6\" >0.000000</td>\n",
              "                        <td id=\"T_7b526e48_e77f_11ea_b463_0242ac1c0002row13_col7\" class=\"data row13 col7\" >1.000000</td>\n",
              "            </tr>\n",
              "            <tr>\n",
              "                        <th id=\"T_7b526e48_e77f_11ea_b463_0242ac1c0002level0_row14\" class=\"row_heading level0 row14\" >has_superstructure_timber</th>\n",
              "                        <td id=\"T_7b526e48_e77f_11ea_b463_0242ac1c0002row14_col0\" class=\"data row14 col0\" >260601.000000</td>\n",
              "                        <td id=\"T_7b526e48_e77f_11ea_b463_0242ac1c0002row14_col1\" class=\"data row14 col1\" >0.254988</td>\n",
              "                        <td id=\"T_7b526e48_e77f_11ea_b463_0242ac1c0002row14_col2\" class=\"data row14 col2\" >0.435855</td>\n",
              "                        <td id=\"T_7b526e48_e77f_11ea_b463_0242ac1c0002row14_col3\" class=\"data row14 col3\" >0.000000</td>\n",
              "                        <td id=\"T_7b526e48_e77f_11ea_b463_0242ac1c0002row14_col4\" class=\"data row14 col4\" >0.000000</td>\n",
              "                        <td id=\"T_7b526e48_e77f_11ea_b463_0242ac1c0002row14_col5\" class=\"data row14 col5\" >0.000000</td>\n",
              "                        <td id=\"T_7b526e48_e77f_11ea_b463_0242ac1c0002row14_col6\" class=\"data row14 col6\" >1.000000</td>\n",
              "                        <td id=\"T_7b526e48_e77f_11ea_b463_0242ac1c0002row14_col7\" class=\"data row14 col7\" >1.000000</td>\n",
              "            </tr>\n",
              "            <tr>\n",
              "                        <th id=\"T_7b526e48_e77f_11ea_b463_0242ac1c0002level0_row15\" class=\"row_heading level0 row15\" >has_superstructure_bamboo</th>\n",
              "                        <td id=\"T_7b526e48_e77f_11ea_b463_0242ac1c0002row15_col0\" class=\"data row15 col0\" >260601.000000</td>\n",
              "                        <td id=\"T_7b526e48_e77f_11ea_b463_0242ac1c0002row15_col1\" class=\"data row15 col1\" >0.085011</td>\n",
              "                        <td id=\"T_7b526e48_e77f_11ea_b463_0242ac1c0002row15_col2\" class=\"data row15 col2\" >0.278899</td>\n",
              "                        <td id=\"T_7b526e48_e77f_11ea_b463_0242ac1c0002row15_col3\" class=\"data row15 col3\" >0.000000</td>\n",
              "                        <td id=\"T_7b526e48_e77f_11ea_b463_0242ac1c0002row15_col4\" class=\"data row15 col4\" >0.000000</td>\n",
              "                        <td id=\"T_7b526e48_e77f_11ea_b463_0242ac1c0002row15_col5\" class=\"data row15 col5\" >0.000000</td>\n",
              "                        <td id=\"T_7b526e48_e77f_11ea_b463_0242ac1c0002row15_col6\" class=\"data row15 col6\" >0.000000</td>\n",
              "                        <td id=\"T_7b526e48_e77f_11ea_b463_0242ac1c0002row15_col7\" class=\"data row15 col7\" >1.000000</td>\n",
              "            </tr>\n",
              "            <tr>\n",
              "                        <th id=\"T_7b526e48_e77f_11ea_b463_0242ac1c0002level0_row16\" class=\"row_heading level0 row16\" >has_superstructure_rc_non_engineered</th>\n",
              "                        <td id=\"T_7b526e48_e77f_11ea_b463_0242ac1c0002row16_col0\" class=\"data row16 col0\" >260601.000000</td>\n",
              "                        <td id=\"T_7b526e48_e77f_11ea_b463_0242ac1c0002row16_col1\" class=\"data row16 col1\" >0.042590</td>\n",
              "                        <td id=\"T_7b526e48_e77f_11ea_b463_0242ac1c0002row16_col2\" class=\"data row16 col2\" >0.201931</td>\n",
              "                        <td id=\"T_7b526e48_e77f_11ea_b463_0242ac1c0002row16_col3\" class=\"data row16 col3\" >0.000000</td>\n",
              "                        <td id=\"T_7b526e48_e77f_11ea_b463_0242ac1c0002row16_col4\" class=\"data row16 col4\" >0.000000</td>\n",
              "                        <td id=\"T_7b526e48_e77f_11ea_b463_0242ac1c0002row16_col5\" class=\"data row16 col5\" >0.000000</td>\n",
              "                        <td id=\"T_7b526e48_e77f_11ea_b463_0242ac1c0002row16_col6\" class=\"data row16 col6\" >0.000000</td>\n",
              "                        <td id=\"T_7b526e48_e77f_11ea_b463_0242ac1c0002row16_col7\" class=\"data row16 col7\" >1.000000</td>\n",
              "            </tr>\n",
              "            <tr>\n",
              "                        <th id=\"T_7b526e48_e77f_11ea_b463_0242ac1c0002level0_row17\" class=\"row_heading level0 row17\" >has_superstructure_rc_engineered</th>\n",
              "                        <td id=\"T_7b526e48_e77f_11ea_b463_0242ac1c0002row17_col0\" class=\"data row17 col0\" >260601.000000</td>\n",
              "                        <td id=\"T_7b526e48_e77f_11ea_b463_0242ac1c0002row17_col1\" class=\"data row17 col1\" >0.015859</td>\n",
              "                        <td id=\"T_7b526e48_e77f_11ea_b463_0242ac1c0002row17_col2\" class=\"data row17 col2\" >0.124932</td>\n",
              "                        <td id=\"T_7b526e48_e77f_11ea_b463_0242ac1c0002row17_col3\" class=\"data row17 col3\" >0.000000</td>\n",
              "                        <td id=\"T_7b526e48_e77f_11ea_b463_0242ac1c0002row17_col4\" class=\"data row17 col4\" >0.000000</td>\n",
              "                        <td id=\"T_7b526e48_e77f_11ea_b463_0242ac1c0002row17_col5\" class=\"data row17 col5\" >0.000000</td>\n",
              "                        <td id=\"T_7b526e48_e77f_11ea_b463_0242ac1c0002row17_col6\" class=\"data row17 col6\" >0.000000</td>\n",
              "                        <td id=\"T_7b526e48_e77f_11ea_b463_0242ac1c0002row17_col7\" class=\"data row17 col7\" >1.000000</td>\n",
              "            </tr>\n",
              "            <tr>\n",
              "                        <th id=\"T_7b526e48_e77f_11ea_b463_0242ac1c0002level0_row18\" class=\"row_heading level0 row18\" >has_superstructure_other</th>\n",
              "                        <td id=\"T_7b526e48_e77f_11ea_b463_0242ac1c0002row18_col0\" class=\"data row18 col0\" >260601.000000</td>\n",
              "                        <td id=\"T_7b526e48_e77f_11ea_b463_0242ac1c0002row18_col1\" class=\"data row18 col1\" >0.014985</td>\n",
              "                        <td id=\"T_7b526e48_e77f_11ea_b463_0242ac1c0002row18_col2\" class=\"data row18 col2\" >0.121491</td>\n",
              "                        <td id=\"T_7b526e48_e77f_11ea_b463_0242ac1c0002row18_col3\" class=\"data row18 col3\" >0.000000</td>\n",
              "                        <td id=\"T_7b526e48_e77f_11ea_b463_0242ac1c0002row18_col4\" class=\"data row18 col4\" >0.000000</td>\n",
              "                        <td id=\"T_7b526e48_e77f_11ea_b463_0242ac1c0002row18_col5\" class=\"data row18 col5\" >0.000000</td>\n",
              "                        <td id=\"T_7b526e48_e77f_11ea_b463_0242ac1c0002row18_col6\" class=\"data row18 col6\" >0.000000</td>\n",
              "                        <td id=\"T_7b526e48_e77f_11ea_b463_0242ac1c0002row18_col7\" class=\"data row18 col7\" >1.000000</td>\n",
              "            </tr>\n",
              "            <tr>\n",
              "                        <th id=\"T_7b526e48_e77f_11ea_b463_0242ac1c0002level0_row19\" class=\"row_heading level0 row19\" >count_families</th>\n",
              "                        <td id=\"T_7b526e48_e77f_11ea_b463_0242ac1c0002row19_col0\" class=\"data row19 col0\" >260601.000000</td>\n",
              "                        <td id=\"T_7b526e48_e77f_11ea_b463_0242ac1c0002row19_col1\" class=\"data row19 col1\" >0.983949</td>\n",
              "                        <td id=\"T_7b526e48_e77f_11ea_b463_0242ac1c0002row19_col2\" class=\"data row19 col2\" >0.418389</td>\n",
              "                        <td id=\"T_7b526e48_e77f_11ea_b463_0242ac1c0002row19_col3\" class=\"data row19 col3\" >0.000000</td>\n",
              "                        <td id=\"T_7b526e48_e77f_11ea_b463_0242ac1c0002row19_col4\" class=\"data row19 col4\" >1.000000</td>\n",
              "                        <td id=\"T_7b526e48_e77f_11ea_b463_0242ac1c0002row19_col5\" class=\"data row19 col5\" >1.000000</td>\n",
              "                        <td id=\"T_7b526e48_e77f_11ea_b463_0242ac1c0002row19_col6\" class=\"data row19 col6\" >1.000000</td>\n",
              "                        <td id=\"T_7b526e48_e77f_11ea_b463_0242ac1c0002row19_col7\" class=\"data row19 col7\" >9.000000</td>\n",
              "            </tr>\n",
              "            <tr>\n",
              "                        <th id=\"T_7b526e48_e77f_11ea_b463_0242ac1c0002level0_row20\" class=\"row_heading level0 row20\" >has_secondary_use</th>\n",
              "                        <td id=\"T_7b526e48_e77f_11ea_b463_0242ac1c0002row20_col0\" class=\"data row20 col0\" >260601.000000</td>\n",
              "                        <td id=\"T_7b526e48_e77f_11ea_b463_0242ac1c0002row20_col1\" class=\"data row20 col1\" >0.111880</td>\n",
              "                        <td id=\"T_7b526e48_e77f_11ea_b463_0242ac1c0002row20_col2\" class=\"data row20 col2\" >0.315219</td>\n",
              "                        <td id=\"T_7b526e48_e77f_11ea_b463_0242ac1c0002row20_col3\" class=\"data row20 col3\" >0.000000</td>\n",
              "                        <td id=\"T_7b526e48_e77f_11ea_b463_0242ac1c0002row20_col4\" class=\"data row20 col4\" >0.000000</td>\n",
              "                        <td id=\"T_7b526e48_e77f_11ea_b463_0242ac1c0002row20_col5\" class=\"data row20 col5\" >0.000000</td>\n",
              "                        <td id=\"T_7b526e48_e77f_11ea_b463_0242ac1c0002row20_col6\" class=\"data row20 col6\" >0.000000</td>\n",
              "                        <td id=\"T_7b526e48_e77f_11ea_b463_0242ac1c0002row20_col7\" class=\"data row20 col7\" >1.000000</td>\n",
              "            </tr>\n",
              "            <tr>\n",
              "                        <th id=\"T_7b526e48_e77f_11ea_b463_0242ac1c0002level0_row21\" class=\"row_heading level0 row21\" >has_secondary_use_agriculture</th>\n",
              "                        <td id=\"T_7b526e48_e77f_11ea_b463_0242ac1c0002row21_col0\" class=\"data row21 col0\" >260601.000000</td>\n",
              "                        <td id=\"T_7b526e48_e77f_11ea_b463_0242ac1c0002row21_col1\" class=\"data row21 col1\" >0.064378</td>\n",
              "                        <td id=\"T_7b526e48_e77f_11ea_b463_0242ac1c0002row21_col2\" class=\"data row21 col2\" >0.245426</td>\n",
              "                        <td id=\"T_7b526e48_e77f_11ea_b463_0242ac1c0002row21_col3\" class=\"data row21 col3\" >0.000000</td>\n",
              "                        <td id=\"T_7b526e48_e77f_11ea_b463_0242ac1c0002row21_col4\" class=\"data row21 col4\" >0.000000</td>\n",
              "                        <td id=\"T_7b526e48_e77f_11ea_b463_0242ac1c0002row21_col5\" class=\"data row21 col5\" >0.000000</td>\n",
              "                        <td id=\"T_7b526e48_e77f_11ea_b463_0242ac1c0002row21_col6\" class=\"data row21 col6\" >0.000000</td>\n",
              "                        <td id=\"T_7b526e48_e77f_11ea_b463_0242ac1c0002row21_col7\" class=\"data row21 col7\" >1.000000</td>\n",
              "            </tr>\n",
              "            <tr>\n",
              "                        <th id=\"T_7b526e48_e77f_11ea_b463_0242ac1c0002level0_row22\" class=\"row_heading level0 row22\" >has_secondary_use_hotel</th>\n",
              "                        <td id=\"T_7b526e48_e77f_11ea_b463_0242ac1c0002row22_col0\" class=\"data row22 col0\" >260601.000000</td>\n",
              "                        <td id=\"T_7b526e48_e77f_11ea_b463_0242ac1c0002row22_col1\" class=\"data row22 col1\" >0.033626</td>\n",
              "                        <td id=\"T_7b526e48_e77f_11ea_b463_0242ac1c0002row22_col2\" class=\"data row22 col2\" >0.180265</td>\n",
              "                        <td id=\"T_7b526e48_e77f_11ea_b463_0242ac1c0002row22_col3\" class=\"data row22 col3\" >0.000000</td>\n",
              "                        <td id=\"T_7b526e48_e77f_11ea_b463_0242ac1c0002row22_col4\" class=\"data row22 col4\" >0.000000</td>\n",
              "                        <td id=\"T_7b526e48_e77f_11ea_b463_0242ac1c0002row22_col5\" class=\"data row22 col5\" >0.000000</td>\n",
              "                        <td id=\"T_7b526e48_e77f_11ea_b463_0242ac1c0002row22_col6\" class=\"data row22 col6\" >0.000000</td>\n",
              "                        <td id=\"T_7b526e48_e77f_11ea_b463_0242ac1c0002row22_col7\" class=\"data row22 col7\" >1.000000</td>\n",
              "            </tr>\n",
              "            <tr>\n",
              "                        <th id=\"T_7b526e48_e77f_11ea_b463_0242ac1c0002level0_row23\" class=\"row_heading level0 row23\" >has_secondary_use_rental</th>\n",
              "                        <td id=\"T_7b526e48_e77f_11ea_b463_0242ac1c0002row23_col0\" class=\"data row23 col0\" >260601.000000</td>\n",
              "                        <td id=\"T_7b526e48_e77f_11ea_b463_0242ac1c0002row23_col1\" class=\"data row23 col1\" >0.008101</td>\n",
              "                        <td id=\"T_7b526e48_e77f_11ea_b463_0242ac1c0002row23_col2\" class=\"data row23 col2\" >0.089638</td>\n",
              "                        <td id=\"T_7b526e48_e77f_11ea_b463_0242ac1c0002row23_col3\" class=\"data row23 col3\" >0.000000</td>\n",
              "                        <td id=\"T_7b526e48_e77f_11ea_b463_0242ac1c0002row23_col4\" class=\"data row23 col4\" >0.000000</td>\n",
              "                        <td id=\"T_7b526e48_e77f_11ea_b463_0242ac1c0002row23_col5\" class=\"data row23 col5\" >0.000000</td>\n",
              "                        <td id=\"T_7b526e48_e77f_11ea_b463_0242ac1c0002row23_col6\" class=\"data row23 col6\" >0.000000</td>\n",
              "                        <td id=\"T_7b526e48_e77f_11ea_b463_0242ac1c0002row23_col7\" class=\"data row23 col7\" >1.000000</td>\n",
              "            </tr>\n",
              "            <tr>\n",
              "                        <th id=\"T_7b526e48_e77f_11ea_b463_0242ac1c0002level0_row24\" class=\"row_heading level0 row24\" >has_secondary_use_institution</th>\n",
              "                        <td id=\"T_7b526e48_e77f_11ea_b463_0242ac1c0002row24_col0\" class=\"data row24 col0\" >260601.000000</td>\n",
              "                        <td id=\"T_7b526e48_e77f_11ea_b463_0242ac1c0002row24_col1\" class=\"data row24 col1\" >0.000940</td>\n",
              "                        <td id=\"T_7b526e48_e77f_11ea_b463_0242ac1c0002row24_col2\" class=\"data row24 col2\" >0.030647</td>\n",
              "                        <td id=\"T_7b526e48_e77f_11ea_b463_0242ac1c0002row24_col3\" class=\"data row24 col3\" >0.000000</td>\n",
              "                        <td id=\"T_7b526e48_e77f_11ea_b463_0242ac1c0002row24_col4\" class=\"data row24 col4\" >0.000000</td>\n",
              "                        <td id=\"T_7b526e48_e77f_11ea_b463_0242ac1c0002row24_col5\" class=\"data row24 col5\" >0.000000</td>\n",
              "                        <td id=\"T_7b526e48_e77f_11ea_b463_0242ac1c0002row24_col6\" class=\"data row24 col6\" >0.000000</td>\n",
              "                        <td id=\"T_7b526e48_e77f_11ea_b463_0242ac1c0002row24_col7\" class=\"data row24 col7\" >1.000000</td>\n",
              "            </tr>\n",
              "            <tr>\n",
              "                        <th id=\"T_7b526e48_e77f_11ea_b463_0242ac1c0002level0_row25\" class=\"row_heading level0 row25\" >has_secondary_use_school</th>\n",
              "                        <td id=\"T_7b526e48_e77f_11ea_b463_0242ac1c0002row25_col0\" class=\"data row25 col0\" >260601.000000</td>\n",
              "                        <td id=\"T_7b526e48_e77f_11ea_b463_0242ac1c0002row25_col1\" class=\"data row25 col1\" >0.000361</td>\n",
              "                        <td id=\"T_7b526e48_e77f_11ea_b463_0242ac1c0002row25_col2\" class=\"data row25 col2\" >0.018989</td>\n",
              "                        <td id=\"T_7b526e48_e77f_11ea_b463_0242ac1c0002row25_col3\" class=\"data row25 col3\" >0.000000</td>\n",
              "                        <td id=\"T_7b526e48_e77f_11ea_b463_0242ac1c0002row25_col4\" class=\"data row25 col4\" >0.000000</td>\n",
              "                        <td id=\"T_7b526e48_e77f_11ea_b463_0242ac1c0002row25_col5\" class=\"data row25 col5\" >0.000000</td>\n",
              "                        <td id=\"T_7b526e48_e77f_11ea_b463_0242ac1c0002row25_col6\" class=\"data row25 col6\" >0.000000</td>\n",
              "                        <td id=\"T_7b526e48_e77f_11ea_b463_0242ac1c0002row25_col7\" class=\"data row25 col7\" >1.000000</td>\n",
              "            </tr>\n",
              "            <tr>\n",
              "                        <th id=\"T_7b526e48_e77f_11ea_b463_0242ac1c0002level0_row26\" class=\"row_heading level0 row26\" >has_secondary_use_industry</th>\n",
              "                        <td id=\"T_7b526e48_e77f_11ea_b463_0242ac1c0002row26_col0\" class=\"data row26 col0\" >260601.000000</td>\n",
              "                        <td id=\"T_7b526e48_e77f_11ea_b463_0242ac1c0002row26_col1\" class=\"data row26 col1\" >0.001071</td>\n",
              "                        <td id=\"T_7b526e48_e77f_11ea_b463_0242ac1c0002row26_col2\" class=\"data row26 col2\" >0.032703</td>\n",
              "                        <td id=\"T_7b526e48_e77f_11ea_b463_0242ac1c0002row26_col3\" class=\"data row26 col3\" >0.000000</td>\n",
              "                        <td id=\"T_7b526e48_e77f_11ea_b463_0242ac1c0002row26_col4\" class=\"data row26 col4\" >0.000000</td>\n",
              "                        <td id=\"T_7b526e48_e77f_11ea_b463_0242ac1c0002row26_col5\" class=\"data row26 col5\" >0.000000</td>\n",
              "                        <td id=\"T_7b526e48_e77f_11ea_b463_0242ac1c0002row26_col6\" class=\"data row26 col6\" >0.000000</td>\n",
              "                        <td id=\"T_7b526e48_e77f_11ea_b463_0242ac1c0002row26_col7\" class=\"data row26 col7\" >1.000000</td>\n",
              "            </tr>\n",
              "            <tr>\n",
              "                        <th id=\"T_7b526e48_e77f_11ea_b463_0242ac1c0002level0_row27\" class=\"row_heading level0 row27\" >has_secondary_use_health_post</th>\n",
              "                        <td id=\"T_7b526e48_e77f_11ea_b463_0242ac1c0002row27_col0\" class=\"data row27 col0\" >260601.000000</td>\n",
              "                        <td id=\"T_7b526e48_e77f_11ea_b463_0242ac1c0002row27_col1\" class=\"data row27 col1\" >0.000188</td>\n",
              "                        <td id=\"T_7b526e48_e77f_11ea_b463_0242ac1c0002row27_col2\" class=\"data row27 col2\" >0.013711</td>\n",
              "                        <td id=\"T_7b526e48_e77f_11ea_b463_0242ac1c0002row27_col3\" class=\"data row27 col3\" >0.000000</td>\n",
              "                        <td id=\"T_7b526e48_e77f_11ea_b463_0242ac1c0002row27_col4\" class=\"data row27 col4\" >0.000000</td>\n",
              "                        <td id=\"T_7b526e48_e77f_11ea_b463_0242ac1c0002row27_col5\" class=\"data row27 col5\" >0.000000</td>\n",
              "                        <td id=\"T_7b526e48_e77f_11ea_b463_0242ac1c0002row27_col6\" class=\"data row27 col6\" >0.000000</td>\n",
              "                        <td id=\"T_7b526e48_e77f_11ea_b463_0242ac1c0002row27_col7\" class=\"data row27 col7\" >1.000000</td>\n",
              "            </tr>\n",
              "            <tr>\n",
              "                        <th id=\"T_7b526e48_e77f_11ea_b463_0242ac1c0002level0_row28\" class=\"row_heading level0 row28\" >has_secondary_use_gov_office</th>\n",
              "                        <td id=\"T_7b526e48_e77f_11ea_b463_0242ac1c0002row28_col0\" class=\"data row28 col0\" >260601.000000</td>\n",
              "                        <td id=\"T_7b526e48_e77f_11ea_b463_0242ac1c0002row28_col1\" class=\"data row28 col1\" >0.000146</td>\n",
              "                        <td id=\"T_7b526e48_e77f_11ea_b463_0242ac1c0002row28_col2\" class=\"data row28 col2\" >0.012075</td>\n",
              "                        <td id=\"T_7b526e48_e77f_11ea_b463_0242ac1c0002row28_col3\" class=\"data row28 col3\" >0.000000</td>\n",
              "                        <td id=\"T_7b526e48_e77f_11ea_b463_0242ac1c0002row28_col4\" class=\"data row28 col4\" >0.000000</td>\n",
              "                        <td id=\"T_7b526e48_e77f_11ea_b463_0242ac1c0002row28_col5\" class=\"data row28 col5\" >0.000000</td>\n",
              "                        <td id=\"T_7b526e48_e77f_11ea_b463_0242ac1c0002row28_col6\" class=\"data row28 col6\" >0.000000</td>\n",
              "                        <td id=\"T_7b526e48_e77f_11ea_b463_0242ac1c0002row28_col7\" class=\"data row28 col7\" >1.000000</td>\n",
              "            </tr>\n",
              "            <tr>\n",
              "                        <th id=\"T_7b526e48_e77f_11ea_b463_0242ac1c0002level0_row29\" class=\"row_heading level0 row29\" >has_secondary_use_use_police</th>\n",
              "                        <td id=\"T_7b526e48_e77f_11ea_b463_0242ac1c0002row29_col0\" class=\"data row29 col0\" >260601.000000</td>\n",
              "                        <td id=\"T_7b526e48_e77f_11ea_b463_0242ac1c0002row29_col1\" class=\"data row29 col1\" >0.000088</td>\n",
              "                        <td id=\"T_7b526e48_e77f_11ea_b463_0242ac1c0002row29_col2\" class=\"data row29 col2\" >0.009394</td>\n",
              "                        <td id=\"T_7b526e48_e77f_11ea_b463_0242ac1c0002row29_col3\" class=\"data row29 col3\" >0.000000</td>\n",
              "                        <td id=\"T_7b526e48_e77f_11ea_b463_0242ac1c0002row29_col4\" class=\"data row29 col4\" >0.000000</td>\n",
              "                        <td id=\"T_7b526e48_e77f_11ea_b463_0242ac1c0002row29_col5\" class=\"data row29 col5\" >0.000000</td>\n",
              "                        <td id=\"T_7b526e48_e77f_11ea_b463_0242ac1c0002row29_col6\" class=\"data row29 col6\" >0.000000</td>\n",
              "                        <td id=\"T_7b526e48_e77f_11ea_b463_0242ac1c0002row29_col7\" class=\"data row29 col7\" >1.000000</td>\n",
              "            </tr>\n",
              "            <tr>\n",
              "                        <th id=\"T_7b526e48_e77f_11ea_b463_0242ac1c0002level0_row30\" class=\"row_heading level0 row30\" >has_secondary_use_other</th>\n",
              "                        <td id=\"T_7b526e48_e77f_11ea_b463_0242ac1c0002row30_col0\" class=\"data row30 col0\" >260601.000000</td>\n",
              "                        <td id=\"T_7b526e48_e77f_11ea_b463_0242ac1c0002row30_col1\" class=\"data row30 col1\" >0.005119</td>\n",
              "                        <td id=\"T_7b526e48_e77f_11ea_b463_0242ac1c0002row30_col2\" class=\"data row30 col2\" >0.071364</td>\n",
              "                        <td id=\"T_7b526e48_e77f_11ea_b463_0242ac1c0002row30_col3\" class=\"data row30 col3\" >0.000000</td>\n",
              "                        <td id=\"T_7b526e48_e77f_11ea_b463_0242ac1c0002row30_col4\" class=\"data row30 col4\" >0.000000</td>\n",
              "                        <td id=\"T_7b526e48_e77f_11ea_b463_0242ac1c0002row30_col5\" class=\"data row30 col5\" >0.000000</td>\n",
              "                        <td id=\"T_7b526e48_e77f_11ea_b463_0242ac1c0002row30_col6\" class=\"data row30 col6\" >0.000000</td>\n",
              "                        <td id=\"T_7b526e48_e77f_11ea_b463_0242ac1c0002row30_col7\" class=\"data row30 col7\" >1.000000</td>\n",
              "            </tr>\n",
              "    </tbody></table>"
            ],
            "text/plain": [
              "<pandas.io.formats.style.Styler at 0x7f97b3a767b8>"
            ]
          },
          "metadata": {
            "tags": []
          },
          "execution_count": 14
        }
      ]
    },
    {
      "cell_type": "code",
      "metadata": {
        "trusted": true,
        "id": "2WEk-BX9NfPY",
        "colab_type": "code",
        "colab": {
          "base_uri": "https://localhost:8080/",
          "height": 208
        },
        "outputId": "92236d9f-1827-4167-d0f2-ad5bb9ee8bbe"
      },
      "source": [
        "df.describe(include=\"object\").T.style.background_gradient(cmap='Set2',axis=0)\n"
      ],
      "execution_count": null,
      "outputs": [
        {
          "output_type": "execute_result",
          "data": {
            "text/html": [
              "<style  type=\"text/css\" >\n",
              "</style><table id=\"T_7b866c52_e77f_11ea_b463_0242ac1c0002\" ><thead>    <tr>        <th class=\"blank level0\" ></th>        <th class=\"col_heading level0 col0\" >count</th>        <th class=\"col_heading level0 col1\" >unique</th>        <th class=\"col_heading level0 col2\" >top</th>        <th class=\"col_heading level0 col3\" >freq</th>    </tr></thead><tbody>\n",
              "                <tr>\n",
              "                        <th id=\"T_7b866c52_e77f_11ea_b463_0242ac1c0002level0_row0\" class=\"row_heading level0 row0\" >land_surface_condition</th>\n",
              "                        <td id=\"T_7b866c52_e77f_11ea_b463_0242ac1c0002row0_col0\" class=\"data row0 col0\" >260601</td>\n",
              "                        <td id=\"T_7b866c52_e77f_11ea_b463_0242ac1c0002row0_col1\" class=\"data row0 col1\" >3</td>\n",
              "                        <td id=\"T_7b866c52_e77f_11ea_b463_0242ac1c0002row0_col2\" class=\"data row0 col2\" >t</td>\n",
              "                        <td id=\"T_7b866c52_e77f_11ea_b463_0242ac1c0002row0_col3\" class=\"data row0 col3\" >216757</td>\n",
              "            </tr>\n",
              "            <tr>\n",
              "                        <th id=\"T_7b866c52_e77f_11ea_b463_0242ac1c0002level0_row1\" class=\"row_heading level0 row1\" >foundation_type</th>\n",
              "                        <td id=\"T_7b866c52_e77f_11ea_b463_0242ac1c0002row1_col0\" class=\"data row1 col0\" >260601</td>\n",
              "                        <td id=\"T_7b866c52_e77f_11ea_b463_0242ac1c0002row1_col1\" class=\"data row1 col1\" >5</td>\n",
              "                        <td id=\"T_7b866c52_e77f_11ea_b463_0242ac1c0002row1_col2\" class=\"data row1 col2\" >r</td>\n",
              "                        <td id=\"T_7b866c52_e77f_11ea_b463_0242ac1c0002row1_col3\" class=\"data row1 col3\" >219196</td>\n",
              "            </tr>\n",
              "            <tr>\n",
              "                        <th id=\"T_7b866c52_e77f_11ea_b463_0242ac1c0002level0_row2\" class=\"row_heading level0 row2\" >roof_type</th>\n",
              "                        <td id=\"T_7b866c52_e77f_11ea_b463_0242ac1c0002row2_col0\" class=\"data row2 col0\" >260601</td>\n",
              "                        <td id=\"T_7b866c52_e77f_11ea_b463_0242ac1c0002row2_col1\" class=\"data row2 col1\" >3</td>\n",
              "                        <td id=\"T_7b866c52_e77f_11ea_b463_0242ac1c0002row2_col2\" class=\"data row2 col2\" >n</td>\n",
              "                        <td id=\"T_7b866c52_e77f_11ea_b463_0242ac1c0002row2_col3\" class=\"data row2 col3\" >182842</td>\n",
              "            </tr>\n",
              "            <tr>\n",
              "                        <th id=\"T_7b866c52_e77f_11ea_b463_0242ac1c0002level0_row3\" class=\"row_heading level0 row3\" >ground_floor_type</th>\n",
              "                        <td id=\"T_7b866c52_e77f_11ea_b463_0242ac1c0002row3_col0\" class=\"data row3 col0\" >260601</td>\n",
              "                        <td id=\"T_7b866c52_e77f_11ea_b463_0242ac1c0002row3_col1\" class=\"data row3 col1\" >5</td>\n",
              "                        <td id=\"T_7b866c52_e77f_11ea_b463_0242ac1c0002row3_col2\" class=\"data row3 col2\" >f</td>\n",
              "                        <td id=\"T_7b866c52_e77f_11ea_b463_0242ac1c0002row3_col3\" class=\"data row3 col3\" >209619</td>\n",
              "            </tr>\n",
              "            <tr>\n",
              "                        <th id=\"T_7b866c52_e77f_11ea_b463_0242ac1c0002level0_row4\" class=\"row_heading level0 row4\" >other_floor_type</th>\n",
              "                        <td id=\"T_7b866c52_e77f_11ea_b463_0242ac1c0002row4_col0\" class=\"data row4 col0\" >260601</td>\n",
              "                        <td id=\"T_7b866c52_e77f_11ea_b463_0242ac1c0002row4_col1\" class=\"data row4 col1\" >4</td>\n",
              "                        <td id=\"T_7b866c52_e77f_11ea_b463_0242ac1c0002row4_col2\" class=\"data row4 col2\" >q</td>\n",
              "                        <td id=\"T_7b866c52_e77f_11ea_b463_0242ac1c0002row4_col3\" class=\"data row4 col3\" >165282</td>\n",
              "            </tr>\n",
              "            <tr>\n",
              "                        <th id=\"T_7b866c52_e77f_11ea_b463_0242ac1c0002level0_row5\" class=\"row_heading level0 row5\" >position</th>\n",
              "                        <td id=\"T_7b866c52_e77f_11ea_b463_0242ac1c0002row5_col0\" class=\"data row5 col0\" >260601</td>\n",
              "                        <td id=\"T_7b866c52_e77f_11ea_b463_0242ac1c0002row5_col1\" class=\"data row5 col1\" >4</td>\n",
              "                        <td id=\"T_7b866c52_e77f_11ea_b463_0242ac1c0002row5_col2\" class=\"data row5 col2\" >s</td>\n",
              "                        <td id=\"T_7b866c52_e77f_11ea_b463_0242ac1c0002row5_col3\" class=\"data row5 col3\" >202090</td>\n",
              "            </tr>\n",
              "            <tr>\n",
              "                        <th id=\"T_7b866c52_e77f_11ea_b463_0242ac1c0002level0_row6\" class=\"row_heading level0 row6\" >plan_configuration</th>\n",
              "                        <td id=\"T_7b866c52_e77f_11ea_b463_0242ac1c0002row6_col0\" class=\"data row6 col0\" >260601</td>\n",
              "                        <td id=\"T_7b866c52_e77f_11ea_b463_0242ac1c0002row6_col1\" class=\"data row6 col1\" >10</td>\n",
              "                        <td id=\"T_7b866c52_e77f_11ea_b463_0242ac1c0002row6_col2\" class=\"data row6 col2\" >d</td>\n",
              "                        <td id=\"T_7b866c52_e77f_11ea_b463_0242ac1c0002row6_col3\" class=\"data row6 col3\" >250072</td>\n",
              "            </tr>\n",
              "            <tr>\n",
              "                        <th id=\"T_7b866c52_e77f_11ea_b463_0242ac1c0002level0_row7\" class=\"row_heading level0 row7\" >legal_ownership_status</th>\n",
              "                        <td id=\"T_7b866c52_e77f_11ea_b463_0242ac1c0002row7_col0\" class=\"data row7 col0\" >260601</td>\n",
              "                        <td id=\"T_7b866c52_e77f_11ea_b463_0242ac1c0002row7_col1\" class=\"data row7 col1\" >4</td>\n",
              "                        <td id=\"T_7b866c52_e77f_11ea_b463_0242ac1c0002row7_col2\" class=\"data row7 col2\" >v</td>\n",
              "                        <td id=\"T_7b866c52_e77f_11ea_b463_0242ac1c0002row7_col3\" class=\"data row7 col3\" >250939</td>\n",
              "            </tr>\n",
              "    </tbody></table>"
            ],
            "text/plain": [
              "<pandas.io.formats.style.Styler at 0x7f97b04b57b8>"
            ]
          },
          "metadata": {
            "tags": []
          },
          "execution_count": 15
        }
      ]
    },
    {
      "cell_type": "code",
      "metadata": {
        "trusted": true,
        "id": "-pu-zcJ1NfPj",
        "colab_type": "code",
        "colab": {
          "base_uri": "https://localhost:8080/",
          "height": 859
        },
        "outputId": "e027d2a3-6bfa-40d2-eb15-406d86133ed4"
      },
      "source": [
        "# checking the types of varibles in the dataset(int,float,object)\n",
        "dtypes=pd.DataFrame(df.dtypes,columns=[\"Data Type\"])\n",
        "dtypes[\"Unique Values\"]=df.nunique()\n",
        "dtypes[\"Null Values\"]=df.isnull().sum()\n",
        "dtypes[\"% null Values\"]=df.isnull().sum()/len(df)\n",
        "dtypes.style.background_gradient(cmap='Set2',axis=0)"
      ],
      "execution_count": null,
      "outputs": [
        {
          "output_type": "execute_result",
          "data": {
            "text/html": [
              "<style  type=\"text/css\" >\n",
              "    #T_7c21641e_e77f_11ea_b463_0242ac1c0002row0_col1 {\n",
              "            background-color:  #b3b3b3;\n",
              "            color:  #000000;\n",
              "        }    #T_7c21641e_e77f_11ea_b463_0242ac1c0002row0_col2 {\n",
              "            background-color:  #66c2a5;\n",
              "            color:  #000000;\n",
              "        }    #T_7c21641e_e77f_11ea_b463_0242ac1c0002row0_col3 {\n",
              "            background-color:  #66c2a5;\n",
              "            color:  #000000;\n",
              "        }    #T_7c21641e_e77f_11ea_b463_0242ac1c0002row1_col1 {\n",
              "            background-color:  #66c2a5;\n",
              "            color:  #000000;\n",
              "        }    #T_7c21641e_e77f_11ea_b463_0242ac1c0002row1_col2 {\n",
              "            background-color:  #66c2a5;\n",
              "            color:  #000000;\n",
              "        }    #T_7c21641e_e77f_11ea_b463_0242ac1c0002row1_col3 {\n",
              "            background-color:  #66c2a5;\n",
              "            color:  #000000;\n",
              "        }    #T_7c21641e_e77f_11ea_b463_0242ac1c0002row2_col1 {\n",
              "            background-color:  #66c2a5;\n",
              "            color:  #000000;\n",
              "        }    #T_7c21641e_e77f_11ea_b463_0242ac1c0002row2_col2 {\n",
              "            background-color:  #66c2a5;\n",
              "            color:  #000000;\n",
              "        }    #T_7c21641e_e77f_11ea_b463_0242ac1c0002row2_col3 {\n",
              "            background-color:  #66c2a5;\n",
              "            color:  #000000;\n",
              "        }    #T_7c21641e_e77f_11ea_b463_0242ac1c0002row3_col1 {\n",
              "            background-color:  #66c2a5;\n",
              "            color:  #000000;\n",
              "        }    #T_7c21641e_e77f_11ea_b463_0242ac1c0002row3_col2 {\n",
              "            background-color:  #66c2a5;\n",
              "            color:  #000000;\n",
              "        }    #T_7c21641e_e77f_11ea_b463_0242ac1c0002row3_col3 {\n",
              "            background-color:  #66c2a5;\n",
              "            color:  #000000;\n",
              "        }    #T_7c21641e_e77f_11ea_b463_0242ac1c0002row4_col1 {\n",
              "            background-color:  #66c2a5;\n",
              "            color:  #000000;\n",
              "        }    #T_7c21641e_e77f_11ea_b463_0242ac1c0002row4_col2 {\n",
              "            background-color:  #66c2a5;\n",
              "            color:  #000000;\n",
              "        }    #T_7c21641e_e77f_11ea_b463_0242ac1c0002row4_col3 {\n",
              "            background-color:  #66c2a5;\n",
              "            color:  #000000;\n",
              "        }    #T_7c21641e_e77f_11ea_b463_0242ac1c0002row5_col1 {\n",
              "            background-color:  #66c2a5;\n",
              "            color:  #000000;\n",
              "        }    #T_7c21641e_e77f_11ea_b463_0242ac1c0002row5_col2 {\n",
              "            background-color:  #66c2a5;\n",
              "            color:  #000000;\n",
              "        }    #T_7c21641e_e77f_11ea_b463_0242ac1c0002row5_col3 {\n",
              "            background-color:  #66c2a5;\n",
              "            color:  #000000;\n",
              "        }    #T_7c21641e_e77f_11ea_b463_0242ac1c0002row6_col1 {\n",
              "            background-color:  #66c2a5;\n",
              "            color:  #000000;\n",
              "        }    #T_7c21641e_e77f_11ea_b463_0242ac1c0002row6_col2 {\n",
              "            background-color:  #66c2a5;\n",
              "            color:  #000000;\n",
              "        }    #T_7c21641e_e77f_11ea_b463_0242ac1c0002row6_col3 {\n",
              "            background-color:  #66c2a5;\n",
              "            color:  #000000;\n",
              "        }    #T_7c21641e_e77f_11ea_b463_0242ac1c0002row7_col1 {\n",
              "            background-color:  #66c2a5;\n",
              "            color:  #000000;\n",
              "        }    #T_7c21641e_e77f_11ea_b463_0242ac1c0002row7_col2 {\n",
              "            background-color:  #66c2a5;\n",
              "            color:  #000000;\n",
              "        }    #T_7c21641e_e77f_11ea_b463_0242ac1c0002row7_col3 {\n",
              "            background-color:  #66c2a5;\n",
              "            color:  #000000;\n",
              "        }    #T_7c21641e_e77f_11ea_b463_0242ac1c0002row8_col1 {\n",
              "            background-color:  #66c2a5;\n",
              "            color:  #000000;\n",
              "        }    #T_7c21641e_e77f_11ea_b463_0242ac1c0002row8_col2 {\n",
              "            background-color:  #66c2a5;\n",
              "            color:  #000000;\n",
              "        }    #T_7c21641e_e77f_11ea_b463_0242ac1c0002row8_col3 {\n",
              "            background-color:  #66c2a5;\n",
              "            color:  #000000;\n",
              "        }    #T_7c21641e_e77f_11ea_b463_0242ac1c0002row9_col1 {\n",
              "            background-color:  #66c2a5;\n",
              "            color:  #000000;\n",
              "        }    #T_7c21641e_e77f_11ea_b463_0242ac1c0002row9_col2 {\n",
              "            background-color:  #66c2a5;\n",
              "            color:  #000000;\n",
              "        }    #T_7c21641e_e77f_11ea_b463_0242ac1c0002row9_col3 {\n",
              "            background-color:  #66c2a5;\n",
              "            color:  #000000;\n",
              "        }    #T_7c21641e_e77f_11ea_b463_0242ac1c0002row10_col1 {\n",
              "            background-color:  #66c2a5;\n",
              "            color:  #000000;\n",
              "        }    #T_7c21641e_e77f_11ea_b463_0242ac1c0002row10_col2 {\n",
              "            background-color:  #66c2a5;\n",
              "            color:  #000000;\n",
              "        }    #T_7c21641e_e77f_11ea_b463_0242ac1c0002row10_col3 {\n",
              "            background-color:  #66c2a5;\n",
              "            color:  #000000;\n",
              "        }    #T_7c21641e_e77f_11ea_b463_0242ac1c0002row11_col1 {\n",
              "            background-color:  #66c2a5;\n",
              "            color:  #000000;\n",
              "        }    #T_7c21641e_e77f_11ea_b463_0242ac1c0002row11_col2 {\n",
              "            background-color:  #66c2a5;\n",
              "            color:  #000000;\n",
              "        }    #T_7c21641e_e77f_11ea_b463_0242ac1c0002row11_col3 {\n",
              "            background-color:  #66c2a5;\n",
              "            color:  #000000;\n",
              "        }    #T_7c21641e_e77f_11ea_b463_0242ac1c0002row12_col1 {\n",
              "            background-color:  #66c2a5;\n",
              "            color:  #000000;\n",
              "        }    #T_7c21641e_e77f_11ea_b463_0242ac1c0002row12_col2 {\n",
              "            background-color:  #66c2a5;\n",
              "            color:  #000000;\n",
              "        }    #T_7c21641e_e77f_11ea_b463_0242ac1c0002row12_col3 {\n",
              "            background-color:  #66c2a5;\n",
              "            color:  #000000;\n",
              "        }    #T_7c21641e_e77f_11ea_b463_0242ac1c0002row13_col1 {\n",
              "            background-color:  #66c2a5;\n",
              "            color:  #000000;\n",
              "        }    #T_7c21641e_e77f_11ea_b463_0242ac1c0002row13_col2 {\n",
              "            background-color:  #66c2a5;\n",
              "            color:  #000000;\n",
              "        }    #T_7c21641e_e77f_11ea_b463_0242ac1c0002row13_col3 {\n",
              "            background-color:  #66c2a5;\n",
              "            color:  #000000;\n",
              "        }    #T_7c21641e_e77f_11ea_b463_0242ac1c0002row14_col1 {\n",
              "            background-color:  #66c2a5;\n",
              "            color:  #000000;\n",
              "        }    #T_7c21641e_e77f_11ea_b463_0242ac1c0002row14_col2 {\n",
              "            background-color:  #66c2a5;\n",
              "            color:  #000000;\n",
              "        }    #T_7c21641e_e77f_11ea_b463_0242ac1c0002row14_col3 {\n",
              "            background-color:  #66c2a5;\n",
              "            color:  #000000;\n",
              "        }    #T_7c21641e_e77f_11ea_b463_0242ac1c0002row15_col1 {\n",
              "            background-color:  #66c2a5;\n",
              "            color:  #000000;\n",
              "        }    #T_7c21641e_e77f_11ea_b463_0242ac1c0002row15_col2 {\n",
              "            background-color:  #66c2a5;\n",
              "            color:  #000000;\n",
              "        }    #T_7c21641e_e77f_11ea_b463_0242ac1c0002row15_col3 {\n",
              "            background-color:  #66c2a5;\n",
              "            color:  #000000;\n",
              "        }    #T_7c21641e_e77f_11ea_b463_0242ac1c0002row16_col1 {\n",
              "            background-color:  #66c2a5;\n",
              "            color:  #000000;\n",
              "        }    #T_7c21641e_e77f_11ea_b463_0242ac1c0002row16_col2 {\n",
              "            background-color:  #66c2a5;\n",
              "            color:  #000000;\n",
              "        }    #T_7c21641e_e77f_11ea_b463_0242ac1c0002row16_col3 {\n",
              "            background-color:  #66c2a5;\n",
              "            color:  #000000;\n",
              "        }    #T_7c21641e_e77f_11ea_b463_0242ac1c0002row17_col1 {\n",
              "            background-color:  #66c2a5;\n",
              "            color:  #000000;\n",
              "        }    #T_7c21641e_e77f_11ea_b463_0242ac1c0002row17_col2 {\n",
              "            background-color:  #66c2a5;\n",
              "            color:  #000000;\n",
              "        }    #T_7c21641e_e77f_11ea_b463_0242ac1c0002row17_col3 {\n",
              "            background-color:  #66c2a5;\n",
              "            color:  #000000;\n",
              "        }    #T_7c21641e_e77f_11ea_b463_0242ac1c0002row18_col1 {\n",
              "            background-color:  #66c2a5;\n",
              "            color:  #000000;\n",
              "        }    #T_7c21641e_e77f_11ea_b463_0242ac1c0002row18_col2 {\n",
              "            background-color:  #66c2a5;\n",
              "            color:  #000000;\n",
              "        }    #T_7c21641e_e77f_11ea_b463_0242ac1c0002row18_col3 {\n",
              "            background-color:  #66c2a5;\n",
              "            color:  #000000;\n",
              "        }    #T_7c21641e_e77f_11ea_b463_0242ac1c0002row19_col1 {\n",
              "            background-color:  #66c2a5;\n",
              "            color:  #000000;\n",
              "        }    #T_7c21641e_e77f_11ea_b463_0242ac1c0002row19_col2 {\n",
              "            background-color:  #66c2a5;\n",
              "            color:  #000000;\n",
              "        }    #T_7c21641e_e77f_11ea_b463_0242ac1c0002row19_col3 {\n",
              "            background-color:  #66c2a5;\n",
              "            color:  #000000;\n",
              "        }    #T_7c21641e_e77f_11ea_b463_0242ac1c0002row20_col1 {\n",
              "            background-color:  #66c2a5;\n",
              "            color:  #000000;\n",
              "        }    #T_7c21641e_e77f_11ea_b463_0242ac1c0002row20_col2 {\n",
              "            background-color:  #66c2a5;\n",
              "            color:  #000000;\n",
              "        }    #T_7c21641e_e77f_11ea_b463_0242ac1c0002row20_col3 {\n",
              "            background-color:  #66c2a5;\n",
              "            color:  #000000;\n",
              "        }    #T_7c21641e_e77f_11ea_b463_0242ac1c0002row21_col1 {\n",
              "            background-color:  #66c2a5;\n",
              "            color:  #000000;\n",
              "        }    #T_7c21641e_e77f_11ea_b463_0242ac1c0002row21_col2 {\n",
              "            background-color:  #66c2a5;\n",
              "            color:  #000000;\n",
              "        }    #T_7c21641e_e77f_11ea_b463_0242ac1c0002row21_col3 {\n",
              "            background-color:  #66c2a5;\n",
              "            color:  #000000;\n",
              "        }    #T_7c21641e_e77f_11ea_b463_0242ac1c0002row22_col1 {\n",
              "            background-color:  #66c2a5;\n",
              "            color:  #000000;\n",
              "        }    #T_7c21641e_e77f_11ea_b463_0242ac1c0002row22_col2 {\n",
              "            background-color:  #66c2a5;\n",
              "            color:  #000000;\n",
              "        }    #T_7c21641e_e77f_11ea_b463_0242ac1c0002row22_col3 {\n",
              "            background-color:  #66c2a5;\n",
              "            color:  #000000;\n",
              "        }    #T_7c21641e_e77f_11ea_b463_0242ac1c0002row23_col1 {\n",
              "            background-color:  #66c2a5;\n",
              "            color:  #000000;\n",
              "        }    #T_7c21641e_e77f_11ea_b463_0242ac1c0002row23_col2 {\n",
              "            background-color:  #66c2a5;\n",
              "            color:  #000000;\n",
              "        }    #T_7c21641e_e77f_11ea_b463_0242ac1c0002row23_col3 {\n",
              "            background-color:  #66c2a5;\n",
              "            color:  #000000;\n",
              "        }    #T_7c21641e_e77f_11ea_b463_0242ac1c0002row24_col1 {\n",
              "            background-color:  #66c2a5;\n",
              "            color:  #000000;\n",
              "        }    #T_7c21641e_e77f_11ea_b463_0242ac1c0002row24_col2 {\n",
              "            background-color:  #66c2a5;\n",
              "            color:  #000000;\n",
              "        }    #T_7c21641e_e77f_11ea_b463_0242ac1c0002row24_col3 {\n",
              "            background-color:  #66c2a5;\n",
              "            color:  #000000;\n",
              "        }    #T_7c21641e_e77f_11ea_b463_0242ac1c0002row25_col1 {\n",
              "            background-color:  #66c2a5;\n",
              "            color:  #000000;\n",
              "        }    #T_7c21641e_e77f_11ea_b463_0242ac1c0002row25_col2 {\n",
              "            background-color:  #66c2a5;\n",
              "            color:  #000000;\n",
              "        }    #T_7c21641e_e77f_11ea_b463_0242ac1c0002row25_col3 {\n",
              "            background-color:  #66c2a5;\n",
              "            color:  #000000;\n",
              "        }    #T_7c21641e_e77f_11ea_b463_0242ac1c0002row26_col1 {\n",
              "            background-color:  #66c2a5;\n",
              "            color:  #000000;\n",
              "        }    #T_7c21641e_e77f_11ea_b463_0242ac1c0002row26_col2 {\n",
              "            background-color:  #66c2a5;\n",
              "            color:  #000000;\n",
              "        }    #T_7c21641e_e77f_11ea_b463_0242ac1c0002row26_col3 {\n",
              "            background-color:  #66c2a5;\n",
              "            color:  #000000;\n",
              "        }    #T_7c21641e_e77f_11ea_b463_0242ac1c0002row27_col1 {\n",
              "            background-color:  #66c2a5;\n",
              "            color:  #000000;\n",
              "        }    #T_7c21641e_e77f_11ea_b463_0242ac1c0002row27_col2 {\n",
              "            background-color:  #66c2a5;\n",
              "            color:  #000000;\n",
              "        }    #T_7c21641e_e77f_11ea_b463_0242ac1c0002row27_col3 {\n",
              "            background-color:  #66c2a5;\n",
              "            color:  #000000;\n",
              "        }    #T_7c21641e_e77f_11ea_b463_0242ac1c0002row28_col1 {\n",
              "            background-color:  #66c2a5;\n",
              "            color:  #000000;\n",
              "        }    #T_7c21641e_e77f_11ea_b463_0242ac1c0002row28_col2 {\n",
              "            background-color:  #66c2a5;\n",
              "            color:  #000000;\n",
              "        }    #T_7c21641e_e77f_11ea_b463_0242ac1c0002row28_col3 {\n",
              "            background-color:  #66c2a5;\n",
              "            color:  #000000;\n",
              "        }    #T_7c21641e_e77f_11ea_b463_0242ac1c0002row29_col1 {\n",
              "            background-color:  #66c2a5;\n",
              "            color:  #000000;\n",
              "        }    #T_7c21641e_e77f_11ea_b463_0242ac1c0002row29_col2 {\n",
              "            background-color:  #66c2a5;\n",
              "            color:  #000000;\n",
              "        }    #T_7c21641e_e77f_11ea_b463_0242ac1c0002row29_col3 {\n",
              "            background-color:  #66c2a5;\n",
              "            color:  #000000;\n",
              "        }    #T_7c21641e_e77f_11ea_b463_0242ac1c0002row30_col1 {\n",
              "            background-color:  #66c2a5;\n",
              "            color:  #000000;\n",
              "        }    #T_7c21641e_e77f_11ea_b463_0242ac1c0002row30_col2 {\n",
              "            background-color:  #66c2a5;\n",
              "            color:  #000000;\n",
              "        }    #T_7c21641e_e77f_11ea_b463_0242ac1c0002row30_col3 {\n",
              "            background-color:  #66c2a5;\n",
              "            color:  #000000;\n",
              "        }    #T_7c21641e_e77f_11ea_b463_0242ac1c0002row31_col1 {\n",
              "            background-color:  #66c2a5;\n",
              "            color:  #000000;\n",
              "        }    #T_7c21641e_e77f_11ea_b463_0242ac1c0002row31_col2 {\n",
              "            background-color:  #66c2a5;\n",
              "            color:  #000000;\n",
              "        }    #T_7c21641e_e77f_11ea_b463_0242ac1c0002row31_col3 {\n",
              "            background-color:  #66c2a5;\n",
              "            color:  #000000;\n",
              "        }    #T_7c21641e_e77f_11ea_b463_0242ac1c0002row32_col1 {\n",
              "            background-color:  #66c2a5;\n",
              "            color:  #000000;\n",
              "        }    #T_7c21641e_e77f_11ea_b463_0242ac1c0002row32_col2 {\n",
              "            background-color:  #66c2a5;\n",
              "            color:  #000000;\n",
              "        }    #T_7c21641e_e77f_11ea_b463_0242ac1c0002row32_col3 {\n",
              "            background-color:  #66c2a5;\n",
              "            color:  #000000;\n",
              "        }    #T_7c21641e_e77f_11ea_b463_0242ac1c0002row33_col1 {\n",
              "            background-color:  #66c2a5;\n",
              "            color:  #000000;\n",
              "        }    #T_7c21641e_e77f_11ea_b463_0242ac1c0002row33_col2 {\n",
              "            background-color:  #66c2a5;\n",
              "            color:  #000000;\n",
              "        }    #T_7c21641e_e77f_11ea_b463_0242ac1c0002row33_col3 {\n",
              "            background-color:  #66c2a5;\n",
              "            color:  #000000;\n",
              "        }    #T_7c21641e_e77f_11ea_b463_0242ac1c0002row34_col1 {\n",
              "            background-color:  #66c2a5;\n",
              "            color:  #000000;\n",
              "        }    #T_7c21641e_e77f_11ea_b463_0242ac1c0002row34_col2 {\n",
              "            background-color:  #66c2a5;\n",
              "            color:  #000000;\n",
              "        }    #T_7c21641e_e77f_11ea_b463_0242ac1c0002row34_col3 {\n",
              "            background-color:  #66c2a5;\n",
              "            color:  #000000;\n",
              "        }    #T_7c21641e_e77f_11ea_b463_0242ac1c0002row35_col1 {\n",
              "            background-color:  #66c2a5;\n",
              "            color:  #000000;\n",
              "        }    #T_7c21641e_e77f_11ea_b463_0242ac1c0002row35_col2 {\n",
              "            background-color:  #66c2a5;\n",
              "            color:  #000000;\n",
              "        }    #T_7c21641e_e77f_11ea_b463_0242ac1c0002row35_col3 {\n",
              "            background-color:  #66c2a5;\n",
              "            color:  #000000;\n",
              "        }    #T_7c21641e_e77f_11ea_b463_0242ac1c0002row36_col1 {\n",
              "            background-color:  #66c2a5;\n",
              "            color:  #000000;\n",
              "        }    #T_7c21641e_e77f_11ea_b463_0242ac1c0002row36_col2 {\n",
              "            background-color:  #66c2a5;\n",
              "            color:  #000000;\n",
              "        }    #T_7c21641e_e77f_11ea_b463_0242ac1c0002row36_col3 {\n",
              "            background-color:  #66c2a5;\n",
              "            color:  #000000;\n",
              "        }    #T_7c21641e_e77f_11ea_b463_0242ac1c0002row37_col1 {\n",
              "            background-color:  #66c2a5;\n",
              "            color:  #000000;\n",
              "        }    #T_7c21641e_e77f_11ea_b463_0242ac1c0002row37_col2 {\n",
              "            background-color:  #66c2a5;\n",
              "            color:  #000000;\n",
              "        }    #T_7c21641e_e77f_11ea_b463_0242ac1c0002row37_col3 {\n",
              "            background-color:  #66c2a5;\n",
              "            color:  #000000;\n",
              "        }    #T_7c21641e_e77f_11ea_b463_0242ac1c0002row38_col1 {\n",
              "            background-color:  #66c2a5;\n",
              "            color:  #000000;\n",
              "        }    #T_7c21641e_e77f_11ea_b463_0242ac1c0002row38_col2 {\n",
              "            background-color:  #66c2a5;\n",
              "            color:  #000000;\n",
              "        }    #T_7c21641e_e77f_11ea_b463_0242ac1c0002row38_col3 {\n",
              "            background-color:  #66c2a5;\n",
              "            color:  #000000;\n",
              "        }</style><table id=\"T_7c21641e_e77f_11ea_b463_0242ac1c0002\" ><thead>    <tr>        <th class=\"blank level0\" ></th>        <th class=\"col_heading level0 col0\" >Data Type</th>        <th class=\"col_heading level0 col1\" >Unique Values</th>        <th class=\"col_heading level0 col2\" >Null Values</th>        <th class=\"col_heading level0 col3\" >% null Values</th>    </tr></thead><tbody>\n",
              "                <tr>\n",
              "                        <th id=\"T_7c21641e_e77f_11ea_b463_0242ac1c0002level0_row0\" class=\"row_heading level0 row0\" >building_id</th>\n",
              "                        <td id=\"T_7c21641e_e77f_11ea_b463_0242ac1c0002row0_col0\" class=\"data row0 col0\" >int64</td>\n",
              "                        <td id=\"T_7c21641e_e77f_11ea_b463_0242ac1c0002row0_col1\" class=\"data row0 col1\" >260601</td>\n",
              "                        <td id=\"T_7c21641e_e77f_11ea_b463_0242ac1c0002row0_col2\" class=\"data row0 col2\" >0</td>\n",
              "                        <td id=\"T_7c21641e_e77f_11ea_b463_0242ac1c0002row0_col3\" class=\"data row0 col3\" >0.000000</td>\n",
              "            </tr>\n",
              "            <tr>\n",
              "                        <th id=\"T_7c21641e_e77f_11ea_b463_0242ac1c0002level0_row1\" class=\"row_heading level0 row1\" >geo_level_1_id</th>\n",
              "                        <td id=\"T_7c21641e_e77f_11ea_b463_0242ac1c0002row1_col0\" class=\"data row1 col0\" >int64</td>\n",
              "                        <td id=\"T_7c21641e_e77f_11ea_b463_0242ac1c0002row1_col1\" class=\"data row1 col1\" >31</td>\n",
              "                        <td id=\"T_7c21641e_e77f_11ea_b463_0242ac1c0002row1_col2\" class=\"data row1 col2\" >0</td>\n",
              "                        <td id=\"T_7c21641e_e77f_11ea_b463_0242ac1c0002row1_col3\" class=\"data row1 col3\" >0.000000</td>\n",
              "            </tr>\n",
              "            <tr>\n",
              "                        <th id=\"T_7c21641e_e77f_11ea_b463_0242ac1c0002level0_row2\" class=\"row_heading level0 row2\" >geo_level_2_id</th>\n",
              "                        <td id=\"T_7c21641e_e77f_11ea_b463_0242ac1c0002row2_col0\" class=\"data row2 col0\" >int64</td>\n",
              "                        <td id=\"T_7c21641e_e77f_11ea_b463_0242ac1c0002row2_col1\" class=\"data row2 col1\" >1414</td>\n",
              "                        <td id=\"T_7c21641e_e77f_11ea_b463_0242ac1c0002row2_col2\" class=\"data row2 col2\" >0</td>\n",
              "                        <td id=\"T_7c21641e_e77f_11ea_b463_0242ac1c0002row2_col3\" class=\"data row2 col3\" >0.000000</td>\n",
              "            </tr>\n",
              "            <tr>\n",
              "                        <th id=\"T_7c21641e_e77f_11ea_b463_0242ac1c0002level0_row3\" class=\"row_heading level0 row3\" >geo_level_3_id</th>\n",
              "                        <td id=\"T_7c21641e_e77f_11ea_b463_0242ac1c0002row3_col0\" class=\"data row3 col0\" >int64</td>\n",
              "                        <td id=\"T_7c21641e_e77f_11ea_b463_0242ac1c0002row3_col1\" class=\"data row3 col1\" >11595</td>\n",
              "                        <td id=\"T_7c21641e_e77f_11ea_b463_0242ac1c0002row3_col2\" class=\"data row3 col2\" >0</td>\n",
              "                        <td id=\"T_7c21641e_e77f_11ea_b463_0242ac1c0002row3_col3\" class=\"data row3 col3\" >0.000000</td>\n",
              "            </tr>\n",
              "            <tr>\n",
              "                        <th id=\"T_7c21641e_e77f_11ea_b463_0242ac1c0002level0_row4\" class=\"row_heading level0 row4\" >count_floors_pre_eq</th>\n",
              "                        <td id=\"T_7c21641e_e77f_11ea_b463_0242ac1c0002row4_col0\" class=\"data row4 col0\" >int64</td>\n",
              "                        <td id=\"T_7c21641e_e77f_11ea_b463_0242ac1c0002row4_col1\" class=\"data row4 col1\" >9</td>\n",
              "                        <td id=\"T_7c21641e_e77f_11ea_b463_0242ac1c0002row4_col2\" class=\"data row4 col2\" >0</td>\n",
              "                        <td id=\"T_7c21641e_e77f_11ea_b463_0242ac1c0002row4_col3\" class=\"data row4 col3\" >0.000000</td>\n",
              "            </tr>\n",
              "            <tr>\n",
              "                        <th id=\"T_7c21641e_e77f_11ea_b463_0242ac1c0002level0_row5\" class=\"row_heading level0 row5\" >age</th>\n",
              "                        <td id=\"T_7c21641e_e77f_11ea_b463_0242ac1c0002row5_col0\" class=\"data row5 col0\" >int64</td>\n",
              "                        <td id=\"T_7c21641e_e77f_11ea_b463_0242ac1c0002row5_col1\" class=\"data row5 col1\" >42</td>\n",
              "                        <td id=\"T_7c21641e_e77f_11ea_b463_0242ac1c0002row5_col2\" class=\"data row5 col2\" >0</td>\n",
              "                        <td id=\"T_7c21641e_e77f_11ea_b463_0242ac1c0002row5_col3\" class=\"data row5 col3\" >0.000000</td>\n",
              "            </tr>\n",
              "            <tr>\n",
              "                        <th id=\"T_7c21641e_e77f_11ea_b463_0242ac1c0002level0_row6\" class=\"row_heading level0 row6\" >area_percentage</th>\n",
              "                        <td id=\"T_7c21641e_e77f_11ea_b463_0242ac1c0002row6_col0\" class=\"data row6 col0\" >int64</td>\n",
              "                        <td id=\"T_7c21641e_e77f_11ea_b463_0242ac1c0002row6_col1\" class=\"data row6 col1\" >84</td>\n",
              "                        <td id=\"T_7c21641e_e77f_11ea_b463_0242ac1c0002row6_col2\" class=\"data row6 col2\" >0</td>\n",
              "                        <td id=\"T_7c21641e_e77f_11ea_b463_0242ac1c0002row6_col3\" class=\"data row6 col3\" >0.000000</td>\n",
              "            </tr>\n",
              "            <tr>\n",
              "                        <th id=\"T_7c21641e_e77f_11ea_b463_0242ac1c0002level0_row7\" class=\"row_heading level0 row7\" >height_percentage</th>\n",
              "                        <td id=\"T_7c21641e_e77f_11ea_b463_0242ac1c0002row7_col0\" class=\"data row7 col0\" >int64</td>\n",
              "                        <td id=\"T_7c21641e_e77f_11ea_b463_0242ac1c0002row7_col1\" class=\"data row7 col1\" >27</td>\n",
              "                        <td id=\"T_7c21641e_e77f_11ea_b463_0242ac1c0002row7_col2\" class=\"data row7 col2\" >0</td>\n",
              "                        <td id=\"T_7c21641e_e77f_11ea_b463_0242ac1c0002row7_col3\" class=\"data row7 col3\" >0.000000</td>\n",
              "            </tr>\n",
              "            <tr>\n",
              "                        <th id=\"T_7c21641e_e77f_11ea_b463_0242ac1c0002level0_row8\" class=\"row_heading level0 row8\" >land_surface_condition</th>\n",
              "                        <td id=\"T_7c21641e_e77f_11ea_b463_0242ac1c0002row8_col0\" class=\"data row8 col0\" >object</td>\n",
              "                        <td id=\"T_7c21641e_e77f_11ea_b463_0242ac1c0002row8_col1\" class=\"data row8 col1\" >3</td>\n",
              "                        <td id=\"T_7c21641e_e77f_11ea_b463_0242ac1c0002row8_col2\" class=\"data row8 col2\" >0</td>\n",
              "                        <td id=\"T_7c21641e_e77f_11ea_b463_0242ac1c0002row8_col3\" class=\"data row8 col3\" >0.000000</td>\n",
              "            </tr>\n",
              "            <tr>\n",
              "                        <th id=\"T_7c21641e_e77f_11ea_b463_0242ac1c0002level0_row9\" class=\"row_heading level0 row9\" >foundation_type</th>\n",
              "                        <td id=\"T_7c21641e_e77f_11ea_b463_0242ac1c0002row9_col0\" class=\"data row9 col0\" >object</td>\n",
              "                        <td id=\"T_7c21641e_e77f_11ea_b463_0242ac1c0002row9_col1\" class=\"data row9 col1\" >5</td>\n",
              "                        <td id=\"T_7c21641e_e77f_11ea_b463_0242ac1c0002row9_col2\" class=\"data row9 col2\" >0</td>\n",
              "                        <td id=\"T_7c21641e_e77f_11ea_b463_0242ac1c0002row9_col3\" class=\"data row9 col3\" >0.000000</td>\n",
              "            </tr>\n",
              "            <tr>\n",
              "                        <th id=\"T_7c21641e_e77f_11ea_b463_0242ac1c0002level0_row10\" class=\"row_heading level0 row10\" >roof_type</th>\n",
              "                        <td id=\"T_7c21641e_e77f_11ea_b463_0242ac1c0002row10_col0\" class=\"data row10 col0\" >object</td>\n",
              "                        <td id=\"T_7c21641e_e77f_11ea_b463_0242ac1c0002row10_col1\" class=\"data row10 col1\" >3</td>\n",
              "                        <td id=\"T_7c21641e_e77f_11ea_b463_0242ac1c0002row10_col2\" class=\"data row10 col2\" >0</td>\n",
              "                        <td id=\"T_7c21641e_e77f_11ea_b463_0242ac1c0002row10_col3\" class=\"data row10 col3\" >0.000000</td>\n",
              "            </tr>\n",
              "            <tr>\n",
              "                        <th id=\"T_7c21641e_e77f_11ea_b463_0242ac1c0002level0_row11\" class=\"row_heading level0 row11\" >ground_floor_type</th>\n",
              "                        <td id=\"T_7c21641e_e77f_11ea_b463_0242ac1c0002row11_col0\" class=\"data row11 col0\" >object</td>\n",
              "                        <td id=\"T_7c21641e_e77f_11ea_b463_0242ac1c0002row11_col1\" class=\"data row11 col1\" >5</td>\n",
              "                        <td id=\"T_7c21641e_e77f_11ea_b463_0242ac1c0002row11_col2\" class=\"data row11 col2\" >0</td>\n",
              "                        <td id=\"T_7c21641e_e77f_11ea_b463_0242ac1c0002row11_col3\" class=\"data row11 col3\" >0.000000</td>\n",
              "            </tr>\n",
              "            <tr>\n",
              "                        <th id=\"T_7c21641e_e77f_11ea_b463_0242ac1c0002level0_row12\" class=\"row_heading level0 row12\" >other_floor_type</th>\n",
              "                        <td id=\"T_7c21641e_e77f_11ea_b463_0242ac1c0002row12_col0\" class=\"data row12 col0\" >object</td>\n",
              "                        <td id=\"T_7c21641e_e77f_11ea_b463_0242ac1c0002row12_col1\" class=\"data row12 col1\" >4</td>\n",
              "                        <td id=\"T_7c21641e_e77f_11ea_b463_0242ac1c0002row12_col2\" class=\"data row12 col2\" >0</td>\n",
              "                        <td id=\"T_7c21641e_e77f_11ea_b463_0242ac1c0002row12_col3\" class=\"data row12 col3\" >0.000000</td>\n",
              "            </tr>\n",
              "            <tr>\n",
              "                        <th id=\"T_7c21641e_e77f_11ea_b463_0242ac1c0002level0_row13\" class=\"row_heading level0 row13\" >position</th>\n",
              "                        <td id=\"T_7c21641e_e77f_11ea_b463_0242ac1c0002row13_col0\" class=\"data row13 col0\" >object</td>\n",
              "                        <td id=\"T_7c21641e_e77f_11ea_b463_0242ac1c0002row13_col1\" class=\"data row13 col1\" >4</td>\n",
              "                        <td id=\"T_7c21641e_e77f_11ea_b463_0242ac1c0002row13_col2\" class=\"data row13 col2\" >0</td>\n",
              "                        <td id=\"T_7c21641e_e77f_11ea_b463_0242ac1c0002row13_col3\" class=\"data row13 col3\" >0.000000</td>\n",
              "            </tr>\n",
              "            <tr>\n",
              "                        <th id=\"T_7c21641e_e77f_11ea_b463_0242ac1c0002level0_row14\" class=\"row_heading level0 row14\" >plan_configuration</th>\n",
              "                        <td id=\"T_7c21641e_e77f_11ea_b463_0242ac1c0002row14_col0\" class=\"data row14 col0\" >object</td>\n",
              "                        <td id=\"T_7c21641e_e77f_11ea_b463_0242ac1c0002row14_col1\" class=\"data row14 col1\" >10</td>\n",
              "                        <td id=\"T_7c21641e_e77f_11ea_b463_0242ac1c0002row14_col2\" class=\"data row14 col2\" >0</td>\n",
              "                        <td id=\"T_7c21641e_e77f_11ea_b463_0242ac1c0002row14_col3\" class=\"data row14 col3\" >0.000000</td>\n",
              "            </tr>\n",
              "            <tr>\n",
              "                        <th id=\"T_7c21641e_e77f_11ea_b463_0242ac1c0002level0_row15\" class=\"row_heading level0 row15\" >has_superstructure_adobe_mud</th>\n",
              "                        <td id=\"T_7c21641e_e77f_11ea_b463_0242ac1c0002row15_col0\" class=\"data row15 col0\" >int64</td>\n",
              "                        <td id=\"T_7c21641e_e77f_11ea_b463_0242ac1c0002row15_col1\" class=\"data row15 col1\" >2</td>\n",
              "                        <td id=\"T_7c21641e_e77f_11ea_b463_0242ac1c0002row15_col2\" class=\"data row15 col2\" >0</td>\n",
              "                        <td id=\"T_7c21641e_e77f_11ea_b463_0242ac1c0002row15_col3\" class=\"data row15 col3\" >0.000000</td>\n",
              "            </tr>\n",
              "            <tr>\n",
              "                        <th id=\"T_7c21641e_e77f_11ea_b463_0242ac1c0002level0_row16\" class=\"row_heading level0 row16\" >has_superstructure_mud_mortar_stone</th>\n",
              "                        <td id=\"T_7c21641e_e77f_11ea_b463_0242ac1c0002row16_col0\" class=\"data row16 col0\" >int64</td>\n",
              "                        <td id=\"T_7c21641e_e77f_11ea_b463_0242ac1c0002row16_col1\" class=\"data row16 col1\" >2</td>\n",
              "                        <td id=\"T_7c21641e_e77f_11ea_b463_0242ac1c0002row16_col2\" class=\"data row16 col2\" >0</td>\n",
              "                        <td id=\"T_7c21641e_e77f_11ea_b463_0242ac1c0002row16_col3\" class=\"data row16 col3\" >0.000000</td>\n",
              "            </tr>\n",
              "            <tr>\n",
              "                        <th id=\"T_7c21641e_e77f_11ea_b463_0242ac1c0002level0_row17\" class=\"row_heading level0 row17\" >has_superstructure_stone_flag</th>\n",
              "                        <td id=\"T_7c21641e_e77f_11ea_b463_0242ac1c0002row17_col0\" class=\"data row17 col0\" >int64</td>\n",
              "                        <td id=\"T_7c21641e_e77f_11ea_b463_0242ac1c0002row17_col1\" class=\"data row17 col1\" >2</td>\n",
              "                        <td id=\"T_7c21641e_e77f_11ea_b463_0242ac1c0002row17_col2\" class=\"data row17 col2\" >0</td>\n",
              "                        <td id=\"T_7c21641e_e77f_11ea_b463_0242ac1c0002row17_col3\" class=\"data row17 col3\" >0.000000</td>\n",
              "            </tr>\n",
              "            <tr>\n",
              "                        <th id=\"T_7c21641e_e77f_11ea_b463_0242ac1c0002level0_row18\" class=\"row_heading level0 row18\" >has_superstructure_cement_mortar_stone</th>\n",
              "                        <td id=\"T_7c21641e_e77f_11ea_b463_0242ac1c0002row18_col0\" class=\"data row18 col0\" >int64</td>\n",
              "                        <td id=\"T_7c21641e_e77f_11ea_b463_0242ac1c0002row18_col1\" class=\"data row18 col1\" >2</td>\n",
              "                        <td id=\"T_7c21641e_e77f_11ea_b463_0242ac1c0002row18_col2\" class=\"data row18 col2\" >0</td>\n",
              "                        <td id=\"T_7c21641e_e77f_11ea_b463_0242ac1c0002row18_col3\" class=\"data row18 col3\" >0.000000</td>\n",
              "            </tr>\n",
              "            <tr>\n",
              "                        <th id=\"T_7c21641e_e77f_11ea_b463_0242ac1c0002level0_row19\" class=\"row_heading level0 row19\" >has_superstructure_mud_mortar_brick</th>\n",
              "                        <td id=\"T_7c21641e_e77f_11ea_b463_0242ac1c0002row19_col0\" class=\"data row19 col0\" >int64</td>\n",
              "                        <td id=\"T_7c21641e_e77f_11ea_b463_0242ac1c0002row19_col1\" class=\"data row19 col1\" >2</td>\n",
              "                        <td id=\"T_7c21641e_e77f_11ea_b463_0242ac1c0002row19_col2\" class=\"data row19 col2\" >0</td>\n",
              "                        <td id=\"T_7c21641e_e77f_11ea_b463_0242ac1c0002row19_col3\" class=\"data row19 col3\" >0.000000</td>\n",
              "            </tr>\n",
              "            <tr>\n",
              "                        <th id=\"T_7c21641e_e77f_11ea_b463_0242ac1c0002level0_row20\" class=\"row_heading level0 row20\" >has_superstructure_cement_mortar_brick</th>\n",
              "                        <td id=\"T_7c21641e_e77f_11ea_b463_0242ac1c0002row20_col0\" class=\"data row20 col0\" >int64</td>\n",
              "                        <td id=\"T_7c21641e_e77f_11ea_b463_0242ac1c0002row20_col1\" class=\"data row20 col1\" >2</td>\n",
              "                        <td id=\"T_7c21641e_e77f_11ea_b463_0242ac1c0002row20_col2\" class=\"data row20 col2\" >0</td>\n",
              "                        <td id=\"T_7c21641e_e77f_11ea_b463_0242ac1c0002row20_col3\" class=\"data row20 col3\" >0.000000</td>\n",
              "            </tr>\n",
              "            <tr>\n",
              "                        <th id=\"T_7c21641e_e77f_11ea_b463_0242ac1c0002level0_row21\" class=\"row_heading level0 row21\" >has_superstructure_timber</th>\n",
              "                        <td id=\"T_7c21641e_e77f_11ea_b463_0242ac1c0002row21_col0\" class=\"data row21 col0\" >int64</td>\n",
              "                        <td id=\"T_7c21641e_e77f_11ea_b463_0242ac1c0002row21_col1\" class=\"data row21 col1\" >2</td>\n",
              "                        <td id=\"T_7c21641e_e77f_11ea_b463_0242ac1c0002row21_col2\" class=\"data row21 col2\" >0</td>\n",
              "                        <td id=\"T_7c21641e_e77f_11ea_b463_0242ac1c0002row21_col3\" class=\"data row21 col3\" >0.000000</td>\n",
              "            </tr>\n",
              "            <tr>\n",
              "                        <th id=\"T_7c21641e_e77f_11ea_b463_0242ac1c0002level0_row22\" class=\"row_heading level0 row22\" >has_superstructure_bamboo</th>\n",
              "                        <td id=\"T_7c21641e_e77f_11ea_b463_0242ac1c0002row22_col0\" class=\"data row22 col0\" >int64</td>\n",
              "                        <td id=\"T_7c21641e_e77f_11ea_b463_0242ac1c0002row22_col1\" class=\"data row22 col1\" >2</td>\n",
              "                        <td id=\"T_7c21641e_e77f_11ea_b463_0242ac1c0002row22_col2\" class=\"data row22 col2\" >0</td>\n",
              "                        <td id=\"T_7c21641e_e77f_11ea_b463_0242ac1c0002row22_col3\" class=\"data row22 col3\" >0.000000</td>\n",
              "            </tr>\n",
              "            <tr>\n",
              "                        <th id=\"T_7c21641e_e77f_11ea_b463_0242ac1c0002level0_row23\" class=\"row_heading level0 row23\" >has_superstructure_rc_non_engineered</th>\n",
              "                        <td id=\"T_7c21641e_e77f_11ea_b463_0242ac1c0002row23_col0\" class=\"data row23 col0\" >int64</td>\n",
              "                        <td id=\"T_7c21641e_e77f_11ea_b463_0242ac1c0002row23_col1\" class=\"data row23 col1\" >2</td>\n",
              "                        <td id=\"T_7c21641e_e77f_11ea_b463_0242ac1c0002row23_col2\" class=\"data row23 col2\" >0</td>\n",
              "                        <td id=\"T_7c21641e_e77f_11ea_b463_0242ac1c0002row23_col3\" class=\"data row23 col3\" >0.000000</td>\n",
              "            </tr>\n",
              "            <tr>\n",
              "                        <th id=\"T_7c21641e_e77f_11ea_b463_0242ac1c0002level0_row24\" class=\"row_heading level0 row24\" >has_superstructure_rc_engineered</th>\n",
              "                        <td id=\"T_7c21641e_e77f_11ea_b463_0242ac1c0002row24_col0\" class=\"data row24 col0\" >int64</td>\n",
              "                        <td id=\"T_7c21641e_e77f_11ea_b463_0242ac1c0002row24_col1\" class=\"data row24 col1\" >2</td>\n",
              "                        <td id=\"T_7c21641e_e77f_11ea_b463_0242ac1c0002row24_col2\" class=\"data row24 col2\" >0</td>\n",
              "                        <td id=\"T_7c21641e_e77f_11ea_b463_0242ac1c0002row24_col3\" class=\"data row24 col3\" >0.000000</td>\n",
              "            </tr>\n",
              "            <tr>\n",
              "                        <th id=\"T_7c21641e_e77f_11ea_b463_0242ac1c0002level0_row25\" class=\"row_heading level0 row25\" >has_superstructure_other</th>\n",
              "                        <td id=\"T_7c21641e_e77f_11ea_b463_0242ac1c0002row25_col0\" class=\"data row25 col0\" >int64</td>\n",
              "                        <td id=\"T_7c21641e_e77f_11ea_b463_0242ac1c0002row25_col1\" class=\"data row25 col1\" >2</td>\n",
              "                        <td id=\"T_7c21641e_e77f_11ea_b463_0242ac1c0002row25_col2\" class=\"data row25 col2\" >0</td>\n",
              "                        <td id=\"T_7c21641e_e77f_11ea_b463_0242ac1c0002row25_col3\" class=\"data row25 col3\" >0.000000</td>\n",
              "            </tr>\n",
              "            <tr>\n",
              "                        <th id=\"T_7c21641e_e77f_11ea_b463_0242ac1c0002level0_row26\" class=\"row_heading level0 row26\" >legal_ownership_status</th>\n",
              "                        <td id=\"T_7c21641e_e77f_11ea_b463_0242ac1c0002row26_col0\" class=\"data row26 col0\" >object</td>\n",
              "                        <td id=\"T_7c21641e_e77f_11ea_b463_0242ac1c0002row26_col1\" class=\"data row26 col1\" >4</td>\n",
              "                        <td id=\"T_7c21641e_e77f_11ea_b463_0242ac1c0002row26_col2\" class=\"data row26 col2\" >0</td>\n",
              "                        <td id=\"T_7c21641e_e77f_11ea_b463_0242ac1c0002row26_col3\" class=\"data row26 col3\" >0.000000</td>\n",
              "            </tr>\n",
              "            <tr>\n",
              "                        <th id=\"T_7c21641e_e77f_11ea_b463_0242ac1c0002level0_row27\" class=\"row_heading level0 row27\" >count_families</th>\n",
              "                        <td id=\"T_7c21641e_e77f_11ea_b463_0242ac1c0002row27_col0\" class=\"data row27 col0\" >int64</td>\n",
              "                        <td id=\"T_7c21641e_e77f_11ea_b463_0242ac1c0002row27_col1\" class=\"data row27 col1\" >10</td>\n",
              "                        <td id=\"T_7c21641e_e77f_11ea_b463_0242ac1c0002row27_col2\" class=\"data row27 col2\" >0</td>\n",
              "                        <td id=\"T_7c21641e_e77f_11ea_b463_0242ac1c0002row27_col3\" class=\"data row27 col3\" >0.000000</td>\n",
              "            </tr>\n",
              "            <tr>\n",
              "                        <th id=\"T_7c21641e_e77f_11ea_b463_0242ac1c0002level0_row28\" class=\"row_heading level0 row28\" >has_secondary_use</th>\n",
              "                        <td id=\"T_7c21641e_e77f_11ea_b463_0242ac1c0002row28_col0\" class=\"data row28 col0\" >int64</td>\n",
              "                        <td id=\"T_7c21641e_e77f_11ea_b463_0242ac1c0002row28_col1\" class=\"data row28 col1\" >2</td>\n",
              "                        <td id=\"T_7c21641e_e77f_11ea_b463_0242ac1c0002row28_col2\" class=\"data row28 col2\" >0</td>\n",
              "                        <td id=\"T_7c21641e_e77f_11ea_b463_0242ac1c0002row28_col3\" class=\"data row28 col3\" >0.000000</td>\n",
              "            </tr>\n",
              "            <tr>\n",
              "                        <th id=\"T_7c21641e_e77f_11ea_b463_0242ac1c0002level0_row29\" class=\"row_heading level0 row29\" >has_secondary_use_agriculture</th>\n",
              "                        <td id=\"T_7c21641e_e77f_11ea_b463_0242ac1c0002row29_col0\" class=\"data row29 col0\" >int64</td>\n",
              "                        <td id=\"T_7c21641e_e77f_11ea_b463_0242ac1c0002row29_col1\" class=\"data row29 col1\" >2</td>\n",
              "                        <td id=\"T_7c21641e_e77f_11ea_b463_0242ac1c0002row29_col2\" class=\"data row29 col2\" >0</td>\n",
              "                        <td id=\"T_7c21641e_e77f_11ea_b463_0242ac1c0002row29_col3\" class=\"data row29 col3\" >0.000000</td>\n",
              "            </tr>\n",
              "            <tr>\n",
              "                        <th id=\"T_7c21641e_e77f_11ea_b463_0242ac1c0002level0_row30\" class=\"row_heading level0 row30\" >has_secondary_use_hotel</th>\n",
              "                        <td id=\"T_7c21641e_e77f_11ea_b463_0242ac1c0002row30_col0\" class=\"data row30 col0\" >int64</td>\n",
              "                        <td id=\"T_7c21641e_e77f_11ea_b463_0242ac1c0002row30_col1\" class=\"data row30 col1\" >2</td>\n",
              "                        <td id=\"T_7c21641e_e77f_11ea_b463_0242ac1c0002row30_col2\" class=\"data row30 col2\" >0</td>\n",
              "                        <td id=\"T_7c21641e_e77f_11ea_b463_0242ac1c0002row30_col3\" class=\"data row30 col3\" >0.000000</td>\n",
              "            </tr>\n",
              "            <tr>\n",
              "                        <th id=\"T_7c21641e_e77f_11ea_b463_0242ac1c0002level0_row31\" class=\"row_heading level0 row31\" >has_secondary_use_rental</th>\n",
              "                        <td id=\"T_7c21641e_e77f_11ea_b463_0242ac1c0002row31_col0\" class=\"data row31 col0\" >int64</td>\n",
              "                        <td id=\"T_7c21641e_e77f_11ea_b463_0242ac1c0002row31_col1\" class=\"data row31 col1\" >2</td>\n",
              "                        <td id=\"T_7c21641e_e77f_11ea_b463_0242ac1c0002row31_col2\" class=\"data row31 col2\" >0</td>\n",
              "                        <td id=\"T_7c21641e_e77f_11ea_b463_0242ac1c0002row31_col3\" class=\"data row31 col3\" >0.000000</td>\n",
              "            </tr>\n",
              "            <tr>\n",
              "                        <th id=\"T_7c21641e_e77f_11ea_b463_0242ac1c0002level0_row32\" class=\"row_heading level0 row32\" >has_secondary_use_institution</th>\n",
              "                        <td id=\"T_7c21641e_e77f_11ea_b463_0242ac1c0002row32_col0\" class=\"data row32 col0\" >int64</td>\n",
              "                        <td id=\"T_7c21641e_e77f_11ea_b463_0242ac1c0002row32_col1\" class=\"data row32 col1\" >2</td>\n",
              "                        <td id=\"T_7c21641e_e77f_11ea_b463_0242ac1c0002row32_col2\" class=\"data row32 col2\" >0</td>\n",
              "                        <td id=\"T_7c21641e_e77f_11ea_b463_0242ac1c0002row32_col3\" class=\"data row32 col3\" >0.000000</td>\n",
              "            </tr>\n",
              "            <tr>\n",
              "                        <th id=\"T_7c21641e_e77f_11ea_b463_0242ac1c0002level0_row33\" class=\"row_heading level0 row33\" >has_secondary_use_school</th>\n",
              "                        <td id=\"T_7c21641e_e77f_11ea_b463_0242ac1c0002row33_col0\" class=\"data row33 col0\" >int64</td>\n",
              "                        <td id=\"T_7c21641e_e77f_11ea_b463_0242ac1c0002row33_col1\" class=\"data row33 col1\" >2</td>\n",
              "                        <td id=\"T_7c21641e_e77f_11ea_b463_0242ac1c0002row33_col2\" class=\"data row33 col2\" >0</td>\n",
              "                        <td id=\"T_7c21641e_e77f_11ea_b463_0242ac1c0002row33_col3\" class=\"data row33 col3\" >0.000000</td>\n",
              "            </tr>\n",
              "            <tr>\n",
              "                        <th id=\"T_7c21641e_e77f_11ea_b463_0242ac1c0002level0_row34\" class=\"row_heading level0 row34\" >has_secondary_use_industry</th>\n",
              "                        <td id=\"T_7c21641e_e77f_11ea_b463_0242ac1c0002row34_col0\" class=\"data row34 col0\" >int64</td>\n",
              "                        <td id=\"T_7c21641e_e77f_11ea_b463_0242ac1c0002row34_col1\" class=\"data row34 col1\" >2</td>\n",
              "                        <td id=\"T_7c21641e_e77f_11ea_b463_0242ac1c0002row34_col2\" class=\"data row34 col2\" >0</td>\n",
              "                        <td id=\"T_7c21641e_e77f_11ea_b463_0242ac1c0002row34_col3\" class=\"data row34 col3\" >0.000000</td>\n",
              "            </tr>\n",
              "            <tr>\n",
              "                        <th id=\"T_7c21641e_e77f_11ea_b463_0242ac1c0002level0_row35\" class=\"row_heading level0 row35\" >has_secondary_use_health_post</th>\n",
              "                        <td id=\"T_7c21641e_e77f_11ea_b463_0242ac1c0002row35_col0\" class=\"data row35 col0\" >int64</td>\n",
              "                        <td id=\"T_7c21641e_e77f_11ea_b463_0242ac1c0002row35_col1\" class=\"data row35 col1\" >2</td>\n",
              "                        <td id=\"T_7c21641e_e77f_11ea_b463_0242ac1c0002row35_col2\" class=\"data row35 col2\" >0</td>\n",
              "                        <td id=\"T_7c21641e_e77f_11ea_b463_0242ac1c0002row35_col3\" class=\"data row35 col3\" >0.000000</td>\n",
              "            </tr>\n",
              "            <tr>\n",
              "                        <th id=\"T_7c21641e_e77f_11ea_b463_0242ac1c0002level0_row36\" class=\"row_heading level0 row36\" >has_secondary_use_gov_office</th>\n",
              "                        <td id=\"T_7c21641e_e77f_11ea_b463_0242ac1c0002row36_col0\" class=\"data row36 col0\" >int64</td>\n",
              "                        <td id=\"T_7c21641e_e77f_11ea_b463_0242ac1c0002row36_col1\" class=\"data row36 col1\" >2</td>\n",
              "                        <td id=\"T_7c21641e_e77f_11ea_b463_0242ac1c0002row36_col2\" class=\"data row36 col2\" >0</td>\n",
              "                        <td id=\"T_7c21641e_e77f_11ea_b463_0242ac1c0002row36_col3\" class=\"data row36 col3\" >0.000000</td>\n",
              "            </tr>\n",
              "            <tr>\n",
              "                        <th id=\"T_7c21641e_e77f_11ea_b463_0242ac1c0002level0_row37\" class=\"row_heading level0 row37\" >has_secondary_use_use_police</th>\n",
              "                        <td id=\"T_7c21641e_e77f_11ea_b463_0242ac1c0002row37_col0\" class=\"data row37 col0\" >int64</td>\n",
              "                        <td id=\"T_7c21641e_e77f_11ea_b463_0242ac1c0002row37_col1\" class=\"data row37 col1\" >2</td>\n",
              "                        <td id=\"T_7c21641e_e77f_11ea_b463_0242ac1c0002row37_col2\" class=\"data row37 col2\" >0</td>\n",
              "                        <td id=\"T_7c21641e_e77f_11ea_b463_0242ac1c0002row37_col3\" class=\"data row37 col3\" >0.000000</td>\n",
              "            </tr>\n",
              "            <tr>\n",
              "                        <th id=\"T_7c21641e_e77f_11ea_b463_0242ac1c0002level0_row38\" class=\"row_heading level0 row38\" >has_secondary_use_other</th>\n",
              "                        <td id=\"T_7c21641e_e77f_11ea_b463_0242ac1c0002row38_col0\" class=\"data row38 col0\" >int64</td>\n",
              "                        <td id=\"T_7c21641e_e77f_11ea_b463_0242ac1c0002row38_col1\" class=\"data row38 col1\" >2</td>\n",
              "                        <td id=\"T_7c21641e_e77f_11ea_b463_0242ac1c0002row38_col2\" class=\"data row38 col2\" >0</td>\n",
              "                        <td id=\"T_7c21641e_e77f_11ea_b463_0242ac1c0002row38_col3\" class=\"data row38 col3\" >0.000000</td>\n",
              "            </tr>\n",
              "    </tbody></table>"
            ],
            "text/plain": [
              "<pandas.io.formats.style.Styler at 0x7f97b044f3c8>"
            ]
          },
          "metadata": {
            "tags": []
          },
          "execution_count": 16
        }
      ]
    },
    {
      "cell_type": "markdown",
      "metadata": {
        "id": "EfGPfAGqNfPy",
        "colab_type": "text"
      },
      "source": [
        "> We're trying to predict the ordinal variable damage_grade, which represents a level of damage to the building that was hit by the earthquake. There are 3 grades of the damage\n",
        "> \n",
        "1. > 1: represents low damage\n",
        "2. > 2: represents a medium amount of damage\n",
        "3. > 3:\n",
        "represents almost complete destruction"
      ]
    },
    {
      "cell_type": "code",
      "metadata": {
        "trusted": true,
        "id": "C1_NkEG-NfP0",
        "colab_type": "code",
        "colab": {}
      },
      "source": [
        "df2[df2['damage_grade']==1] = \"Low_Damage\"\n",
        "df2[df2['damage_grade']==2] = \"Medium_Damage\"\n",
        "df2[df2['damage_grade']==3] = \"High_Damage\""
      ],
      "execution_count": null,
      "outputs": []
    },
    {
      "cell_type": "code",
      "metadata": {
        "trusted": true,
        "id": "k9mrjp-HNfP9",
        "colab_type": "code",
        "colab": {
          "base_uri": "https://localhost:8080/",
          "height": 221
        },
        "outputId": "09fe3987-e9bc-4a38-fec8-4e9d8b0722a7"
      },
      "source": [
        "y = df2['damage_grade']\n",
        "y"
      ],
      "execution_count": null,
      "outputs": [
        {
          "output_type": "execute_result",
          "data": {
            "text/plain": [
              "0           High_Damage\n",
              "1         Medium_Damage\n",
              "2           High_Damage\n",
              "3         Medium_Damage\n",
              "4           High_Damage\n",
              "              ...      \n",
              "260596    Medium_Damage\n",
              "260597      High_Damage\n",
              "260598      High_Damage\n",
              "260599    Medium_Damage\n",
              "260600      High_Damage\n",
              "Name: damage_grade, Length: 260601, dtype: object"
            ]
          },
          "metadata": {
            "tags": []
          },
          "execution_count": 18
        }
      ]
    },
    {
      "cell_type": "code",
      "metadata": {
        "trusted": true,
        "id": "lEr3oQJbNfQJ",
        "colab_type": "code",
        "colab": {
          "base_uri": "https://localhost:8080/",
          "height": 34
        },
        "outputId": "3dc838e0-2d93-41d2-8f96-d0a801aba710"
      },
      "source": [
        "y.unique()"
      ],
      "execution_count": null,
      "outputs": [
        {
          "output_type": "execute_result",
          "data": {
            "text/plain": [
              "array(['High_Damage', 'Medium_Damage', 'Low_Damage'], dtype=object)"
            ]
          },
          "metadata": {
            "tags": []
          },
          "execution_count": 19
        }
      ]
    },
    {
      "cell_type": "code",
      "metadata": {
        "trusted": true,
        "id": "XwY17zuyNfQV",
        "colab_type": "code",
        "colab": {
          "base_uri": "https://localhost:8080/",
          "height": 85
        },
        "outputId": "f22319ea-537e-4886-f741-a74939ba84ed"
      },
      "source": [
        "y.value_counts()"
      ],
      "execution_count": null,
      "outputs": [
        {
          "output_type": "execute_result",
          "data": {
            "text/plain": [
              "Medium_Damage    148259\n",
              "High_Damage       87218\n",
              "Low_Damage        25124\n",
              "Name: damage_grade, dtype: int64"
            ]
          },
          "metadata": {
            "tags": []
          },
          "execution_count": 20
        }
      ]
    },
    {
      "cell_type": "code",
      "metadata": {
        "trusted": true,
        "id": "wZtW7h5mNfQe",
        "colab_type": "code",
        "colab": {
          "base_uri": "https://localhost:8080/",
          "height": 697
        },
        "outputId": "0a3a2b6f-b42c-431d-e3e8-0abc7abdc1d3"
      },
      "source": [
        "df.isna().any()"
      ],
      "execution_count": null,
      "outputs": [
        {
          "output_type": "execute_result",
          "data": {
            "text/plain": [
              "building_id                               False\n",
              "geo_level_1_id                            False\n",
              "geo_level_2_id                            False\n",
              "geo_level_3_id                            False\n",
              "count_floors_pre_eq                       False\n",
              "age                                       False\n",
              "area_percentage                           False\n",
              "height_percentage                         False\n",
              "land_surface_condition                    False\n",
              "foundation_type                           False\n",
              "roof_type                                 False\n",
              "ground_floor_type                         False\n",
              "other_floor_type                          False\n",
              "position                                  False\n",
              "plan_configuration                        False\n",
              "has_superstructure_adobe_mud              False\n",
              "has_superstructure_mud_mortar_stone       False\n",
              "has_superstructure_stone_flag             False\n",
              "has_superstructure_cement_mortar_stone    False\n",
              "has_superstructure_mud_mortar_brick       False\n",
              "has_superstructure_cement_mortar_brick    False\n",
              "has_superstructure_timber                 False\n",
              "has_superstructure_bamboo                 False\n",
              "has_superstructure_rc_non_engineered      False\n",
              "has_superstructure_rc_engineered          False\n",
              "has_superstructure_other                  False\n",
              "legal_ownership_status                    False\n",
              "count_families                            False\n",
              "has_secondary_use                         False\n",
              "has_secondary_use_agriculture             False\n",
              "has_secondary_use_hotel                   False\n",
              "has_secondary_use_rental                  False\n",
              "has_secondary_use_institution             False\n",
              "has_secondary_use_school                  False\n",
              "has_secondary_use_industry                False\n",
              "has_secondary_use_health_post             False\n",
              "has_secondary_use_gov_office              False\n",
              "has_secondary_use_use_police              False\n",
              "has_secondary_use_other                   False\n",
              "dtype: bool"
            ]
          },
          "metadata": {
            "tags": []
          },
          "execution_count": 21
        }
      ]
    },
    {
      "cell_type": "code",
      "metadata": {
        "trusted": true,
        "id": "rROjRr0yNfQp",
        "colab_type": "code",
        "colab": {
          "base_uri": "https://localhost:8080/",
          "height": 799
        },
        "outputId": "cf91b23c-497e-404f-a44b-ecb72ebea8e6"
      },
      "source": [
        "df.info()"
      ],
      "execution_count": null,
      "outputs": [
        {
          "output_type": "stream",
          "text": [
            "<class 'pandas.core.frame.DataFrame'>\n",
            "RangeIndex: 260601 entries, 0 to 260600\n",
            "Data columns (total 39 columns):\n",
            " #   Column                                  Non-Null Count   Dtype \n",
            "---  ------                                  --------------   ----- \n",
            " 0   building_id                             260601 non-null  int64 \n",
            " 1   geo_level_1_id                          260601 non-null  int64 \n",
            " 2   geo_level_2_id                          260601 non-null  int64 \n",
            " 3   geo_level_3_id                          260601 non-null  int64 \n",
            " 4   count_floors_pre_eq                     260601 non-null  int64 \n",
            " 5   age                                     260601 non-null  int64 \n",
            " 6   area_percentage                         260601 non-null  int64 \n",
            " 7   height_percentage                       260601 non-null  int64 \n",
            " 8   land_surface_condition                  260601 non-null  object\n",
            " 9   foundation_type                         260601 non-null  object\n",
            " 10  roof_type                               260601 non-null  object\n",
            " 11  ground_floor_type                       260601 non-null  object\n",
            " 12  other_floor_type                        260601 non-null  object\n",
            " 13  position                                260601 non-null  object\n",
            " 14  plan_configuration                      260601 non-null  object\n",
            " 15  has_superstructure_adobe_mud            260601 non-null  int64 \n",
            " 16  has_superstructure_mud_mortar_stone     260601 non-null  int64 \n",
            " 17  has_superstructure_stone_flag           260601 non-null  int64 \n",
            " 18  has_superstructure_cement_mortar_stone  260601 non-null  int64 \n",
            " 19  has_superstructure_mud_mortar_brick     260601 non-null  int64 \n",
            " 20  has_superstructure_cement_mortar_brick  260601 non-null  int64 \n",
            " 21  has_superstructure_timber               260601 non-null  int64 \n",
            " 22  has_superstructure_bamboo               260601 non-null  int64 \n",
            " 23  has_superstructure_rc_non_engineered    260601 non-null  int64 \n",
            " 24  has_superstructure_rc_engineered        260601 non-null  int64 \n",
            " 25  has_superstructure_other                260601 non-null  int64 \n",
            " 26  legal_ownership_status                  260601 non-null  object\n",
            " 27  count_families                          260601 non-null  int64 \n",
            " 28  has_secondary_use                       260601 non-null  int64 \n",
            " 29  has_secondary_use_agriculture           260601 non-null  int64 \n",
            " 30  has_secondary_use_hotel                 260601 non-null  int64 \n",
            " 31  has_secondary_use_rental                260601 non-null  int64 \n",
            " 32  has_secondary_use_institution           260601 non-null  int64 \n",
            " 33  has_secondary_use_school                260601 non-null  int64 \n",
            " 34  has_secondary_use_industry              260601 non-null  int64 \n",
            " 35  has_secondary_use_health_post           260601 non-null  int64 \n",
            " 36  has_secondary_use_gov_office            260601 non-null  int64 \n",
            " 37  has_secondary_use_use_police            260601 non-null  int64 \n",
            " 38  has_secondary_use_other                 260601 non-null  int64 \n",
            "dtypes: int64(31), object(8)\n",
            "memory usage: 77.5+ MB\n"
          ],
          "name": "stdout"
        }
      ]
    },
    {
      "cell_type": "code",
      "metadata": {
        "id": "ux7T0tZcsR_k",
        "colab_type": "code",
        "colab": {
          "base_uri": "https://localhost:8080/",
          "height": 224
        },
        "outputId": "44ff8b5d-d7fe-44ea-8ca7-e0c7aa0b6fff"
      },
      "source": [
        "df.head()"
      ],
      "execution_count": null,
      "outputs": [
        {
          "output_type": "execute_result",
          "data": {
            "text/html": [
              "<div>\n",
              "<style scoped>\n",
              "    .dataframe tbody tr th:only-of-type {\n",
              "        vertical-align: middle;\n",
              "    }\n",
              "\n",
              "    .dataframe tbody tr th {\n",
              "        vertical-align: top;\n",
              "    }\n",
              "\n",
              "    .dataframe thead th {\n",
              "        text-align: right;\n",
              "    }\n",
              "</style>\n",
              "<table border=\"1\" class=\"dataframe\">\n",
              "  <thead>\n",
              "    <tr style=\"text-align: right;\">\n",
              "      <th></th>\n",
              "      <th>building_id</th>\n",
              "      <th>geo_level_1_id</th>\n",
              "      <th>geo_level_2_id</th>\n",
              "      <th>geo_level_3_id</th>\n",
              "      <th>count_floors_pre_eq</th>\n",
              "      <th>age</th>\n",
              "      <th>area_percentage</th>\n",
              "      <th>height_percentage</th>\n",
              "      <th>land_surface_condition</th>\n",
              "      <th>foundation_type</th>\n",
              "      <th>roof_type</th>\n",
              "      <th>ground_floor_type</th>\n",
              "      <th>other_floor_type</th>\n",
              "      <th>position</th>\n",
              "      <th>plan_configuration</th>\n",
              "      <th>has_superstructure_adobe_mud</th>\n",
              "      <th>has_superstructure_mud_mortar_stone</th>\n",
              "      <th>has_superstructure_stone_flag</th>\n",
              "      <th>has_superstructure_cement_mortar_stone</th>\n",
              "      <th>has_superstructure_mud_mortar_brick</th>\n",
              "      <th>has_superstructure_cement_mortar_brick</th>\n",
              "      <th>has_superstructure_timber</th>\n",
              "      <th>has_superstructure_bamboo</th>\n",
              "      <th>has_superstructure_rc_non_engineered</th>\n",
              "      <th>has_superstructure_rc_engineered</th>\n",
              "      <th>has_superstructure_other</th>\n",
              "      <th>legal_ownership_status</th>\n",
              "      <th>count_families</th>\n",
              "      <th>has_secondary_use</th>\n",
              "      <th>has_secondary_use_agriculture</th>\n",
              "      <th>has_secondary_use_hotel</th>\n",
              "      <th>has_secondary_use_rental</th>\n",
              "      <th>has_secondary_use_institution</th>\n",
              "      <th>has_secondary_use_school</th>\n",
              "      <th>has_secondary_use_industry</th>\n",
              "      <th>has_secondary_use_health_post</th>\n",
              "      <th>has_secondary_use_gov_office</th>\n",
              "      <th>has_secondary_use_use_police</th>\n",
              "      <th>has_secondary_use_other</th>\n",
              "    </tr>\n",
              "  </thead>\n",
              "  <tbody>\n",
              "    <tr>\n",
              "      <th>0</th>\n",
              "      <td>802906</td>\n",
              "      <td>6</td>\n",
              "      <td>487</td>\n",
              "      <td>12198</td>\n",
              "      <td>2</td>\n",
              "      <td>30</td>\n",
              "      <td>6</td>\n",
              "      <td>5</td>\n",
              "      <td>t</td>\n",
              "      <td>r</td>\n",
              "      <td>n</td>\n",
              "      <td>f</td>\n",
              "      <td>q</td>\n",
              "      <td>t</td>\n",
              "      <td>d</td>\n",
              "      <td>1</td>\n",
              "      <td>1</td>\n",
              "      <td>0</td>\n",
              "      <td>0</td>\n",
              "      <td>0</td>\n",
              "      <td>0</td>\n",
              "      <td>0</td>\n",
              "      <td>0</td>\n",
              "      <td>0</td>\n",
              "      <td>0</td>\n",
              "      <td>0</td>\n",
              "      <td>v</td>\n",
              "      <td>1</td>\n",
              "      <td>0</td>\n",
              "      <td>0</td>\n",
              "      <td>0</td>\n",
              "      <td>0</td>\n",
              "      <td>0</td>\n",
              "      <td>0</td>\n",
              "      <td>0</td>\n",
              "      <td>0</td>\n",
              "      <td>0</td>\n",
              "      <td>0</td>\n",
              "      <td>0</td>\n",
              "    </tr>\n",
              "    <tr>\n",
              "      <th>1</th>\n",
              "      <td>28830</td>\n",
              "      <td>8</td>\n",
              "      <td>900</td>\n",
              "      <td>2812</td>\n",
              "      <td>2</td>\n",
              "      <td>10</td>\n",
              "      <td>8</td>\n",
              "      <td>7</td>\n",
              "      <td>o</td>\n",
              "      <td>r</td>\n",
              "      <td>n</td>\n",
              "      <td>x</td>\n",
              "      <td>q</td>\n",
              "      <td>s</td>\n",
              "      <td>d</td>\n",
              "      <td>0</td>\n",
              "      <td>1</td>\n",
              "      <td>0</td>\n",
              "      <td>0</td>\n",
              "      <td>0</td>\n",
              "      <td>0</td>\n",
              "      <td>0</td>\n",
              "      <td>0</td>\n",
              "      <td>0</td>\n",
              "      <td>0</td>\n",
              "      <td>0</td>\n",
              "      <td>v</td>\n",
              "      <td>1</td>\n",
              "      <td>0</td>\n",
              "      <td>0</td>\n",
              "      <td>0</td>\n",
              "      <td>0</td>\n",
              "      <td>0</td>\n",
              "      <td>0</td>\n",
              "      <td>0</td>\n",
              "      <td>0</td>\n",
              "      <td>0</td>\n",
              "      <td>0</td>\n",
              "      <td>0</td>\n",
              "    </tr>\n",
              "    <tr>\n",
              "      <th>2</th>\n",
              "      <td>94947</td>\n",
              "      <td>21</td>\n",
              "      <td>363</td>\n",
              "      <td>8973</td>\n",
              "      <td>2</td>\n",
              "      <td>10</td>\n",
              "      <td>5</td>\n",
              "      <td>5</td>\n",
              "      <td>t</td>\n",
              "      <td>r</td>\n",
              "      <td>n</td>\n",
              "      <td>f</td>\n",
              "      <td>x</td>\n",
              "      <td>t</td>\n",
              "      <td>d</td>\n",
              "      <td>0</td>\n",
              "      <td>1</td>\n",
              "      <td>0</td>\n",
              "      <td>0</td>\n",
              "      <td>0</td>\n",
              "      <td>0</td>\n",
              "      <td>0</td>\n",
              "      <td>0</td>\n",
              "      <td>0</td>\n",
              "      <td>0</td>\n",
              "      <td>0</td>\n",
              "      <td>v</td>\n",
              "      <td>1</td>\n",
              "      <td>0</td>\n",
              "      <td>0</td>\n",
              "      <td>0</td>\n",
              "      <td>0</td>\n",
              "      <td>0</td>\n",
              "      <td>0</td>\n",
              "      <td>0</td>\n",
              "      <td>0</td>\n",
              "      <td>0</td>\n",
              "      <td>0</td>\n",
              "      <td>0</td>\n",
              "    </tr>\n",
              "    <tr>\n",
              "      <th>3</th>\n",
              "      <td>590882</td>\n",
              "      <td>22</td>\n",
              "      <td>418</td>\n",
              "      <td>10694</td>\n",
              "      <td>2</td>\n",
              "      <td>10</td>\n",
              "      <td>6</td>\n",
              "      <td>5</td>\n",
              "      <td>t</td>\n",
              "      <td>r</td>\n",
              "      <td>n</td>\n",
              "      <td>f</td>\n",
              "      <td>x</td>\n",
              "      <td>s</td>\n",
              "      <td>d</td>\n",
              "      <td>0</td>\n",
              "      <td>1</td>\n",
              "      <td>0</td>\n",
              "      <td>0</td>\n",
              "      <td>0</td>\n",
              "      <td>0</td>\n",
              "      <td>1</td>\n",
              "      <td>1</td>\n",
              "      <td>0</td>\n",
              "      <td>0</td>\n",
              "      <td>0</td>\n",
              "      <td>v</td>\n",
              "      <td>1</td>\n",
              "      <td>0</td>\n",
              "      <td>0</td>\n",
              "      <td>0</td>\n",
              "      <td>0</td>\n",
              "      <td>0</td>\n",
              "      <td>0</td>\n",
              "      <td>0</td>\n",
              "      <td>0</td>\n",
              "      <td>0</td>\n",
              "      <td>0</td>\n",
              "      <td>0</td>\n",
              "    </tr>\n",
              "    <tr>\n",
              "      <th>4</th>\n",
              "      <td>201944</td>\n",
              "      <td>11</td>\n",
              "      <td>131</td>\n",
              "      <td>1488</td>\n",
              "      <td>3</td>\n",
              "      <td>30</td>\n",
              "      <td>8</td>\n",
              "      <td>9</td>\n",
              "      <td>t</td>\n",
              "      <td>r</td>\n",
              "      <td>n</td>\n",
              "      <td>f</td>\n",
              "      <td>x</td>\n",
              "      <td>s</td>\n",
              "      <td>d</td>\n",
              "      <td>1</td>\n",
              "      <td>0</td>\n",
              "      <td>0</td>\n",
              "      <td>0</td>\n",
              "      <td>0</td>\n",
              "      <td>0</td>\n",
              "      <td>0</td>\n",
              "      <td>0</td>\n",
              "      <td>0</td>\n",
              "      <td>0</td>\n",
              "      <td>0</td>\n",
              "      <td>v</td>\n",
              "      <td>1</td>\n",
              "      <td>0</td>\n",
              "      <td>0</td>\n",
              "      <td>0</td>\n",
              "      <td>0</td>\n",
              "      <td>0</td>\n",
              "      <td>0</td>\n",
              "      <td>0</td>\n",
              "      <td>0</td>\n",
              "      <td>0</td>\n",
              "      <td>0</td>\n",
              "      <td>0</td>\n",
              "    </tr>\n",
              "  </tbody>\n",
              "</table>\n",
              "</div>"
            ],
            "text/plain": [
              "   building_id  ...  has_secondary_use_other\n",
              "0       802906  ...                        0\n",
              "1        28830  ...                        0\n",
              "2        94947  ...                        0\n",
              "3       590882  ...                        0\n",
              "4       201944  ...                        0\n",
              "\n",
              "[5 rows x 39 columns]"
            ]
          },
          "metadata": {
            "tags": []
          },
          "execution_count": 23
        }
      ]
    },
    {
      "cell_type": "code",
      "metadata": {
        "trusted": true,
        "id": "HUxfSdltNfQ1",
        "colab_type": "code",
        "colab": {
          "base_uri": "https://localhost:8080/",
          "height": 34
        },
        "outputId": "63913c6e-84fa-41d6-da02-4b3d31d209cc"
      },
      "source": [
        "df[\"has_secondary_use_hotel\"].unique()\n",
        "df[\"has_secondary_use_other\"].unique()\n"
      ],
      "execution_count": null,
      "outputs": [
        {
          "output_type": "execute_result",
          "data": {
            "text/plain": [
              "array([0, 1])"
            ]
          },
          "metadata": {
            "tags": []
          },
          "execution_count": 24
        }
      ]
    },
    {
      "cell_type": "code",
      "metadata": {
        "trusted": true,
        "id": "pCU10AZGNfRF",
        "colab_type": "code",
        "colab": {}
      },
      "source": [
        "col = df.columns\n",
        "col = df[['has_superstructure_adobe_mud',\n",
        "       'has_superstructure_mud_mortar_stone', 'has_superstructure_stone_flag',\n",
        "       'has_superstructure_cement_mortar_stone',\n",
        "       'has_superstructure_mud_mortar_brick',\n",
        "       'has_superstructure_cement_mortar_brick', 'has_superstructure_timber',\n",
        "       'has_superstructure_bamboo', 'has_superstructure_rc_non_engineered',\n",
        "       'has_superstructure_rc_engineered', 'has_superstructure_other',\n",
        "       'legal_ownership_status', 'has_secondary_use',\n",
        "       'has_secondary_use_agriculture', 'has_secondary_use_hotel',\n",
        "       'has_secondary_use_rental', 'has_secondary_use_institution',\n",
        "       'has_secondary_use_school', 'has_secondary_use_industry',\n",
        "       'has_secondary_use_health_post', 'has_secondary_use_gov_office',\n",
        "       'has_secondary_use_use_police', 'has_secondary_use_other']]"
      ],
      "execution_count": null,
      "outputs": []
    },
    {
      "cell_type": "code",
      "metadata": {
        "trusted": true,
        "id": "tmlYPRj5NfRU",
        "colab_type": "code",
        "colab": {
          "base_uri": "https://localhost:8080/",
          "height": 408
        },
        "outputId": "9d52a6ff-3bf6-4335-c02a-e586223aac8c"
      },
      "source": [
        "for i in col:\n",
        "    print (df[i].unique())"
      ],
      "execution_count": null,
      "outputs": [
        {
          "output_type": "stream",
          "text": [
            "[1 0]\n",
            "[1 0]\n",
            "[0 1]\n",
            "[0 1]\n",
            "[0 1]\n",
            "[0 1]\n",
            "[0 1]\n",
            "[0 1]\n",
            "[0 1]\n",
            "[0 1]\n",
            "[0 1]\n",
            "['v' 'a' 'r' 'w']\n",
            "[0 1]\n",
            "[0 1]\n",
            "[0 1]\n",
            "[0 1]\n",
            "[0 1]\n",
            "[0 1]\n",
            "[0 1]\n",
            "[0 1]\n",
            "[0 1]\n",
            "[0 1]\n",
            "[0 1]\n"
          ],
          "name": "stdout"
        }
      ]
    },
    {
      "cell_type": "code",
      "metadata": {
        "trusted": true,
        "id": "6R3ohm7tNfRk",
        "colab_type": "code",
        "colab": {}
      },
      "source": [
        "\n",
        "df[['has_superstructure_adobe_mud',\n",
        "       'has_superstructure_mud_mortar_stone', 'has_superstructure_stone_flag',\n",
        "       'has_superstructure_cement_mortar_stone',\n",
        "       'has_superstructure_mud_mortar_brick',\n",
        "       'has_superstructure_cement_mortar_brick', 'has_superstructure_timber',\n",
        "       'has_superstructure_bamboo', 'has_superstructure_rc_non_engineered',\n",
        "       'has_superstructure_rc_engineered', 'has_superstructure_other',\n",
        "       'legal_ownership_status', 'has_secondary_use',\n",
        "       'has_secondary_use_agriculture', 'has_secondary_use_hotel',\n",
        "       'has_secondary_use_rental', 'has_secondary_use_institution',\n",
        "       'has_secondary_use_school', 'has_secondary_use_industry',\n",
        "       'has_secondary_use_health_post', 'has_secondary_use_gov_office',\n",
        "       'has_secondary_use_use_police', 'has_secondary_use_other']] = df[['has_superstructure_adobe_mud',\n",
        "       'has_superstructure_mud_mortar_stone', 'has_superstructure_stone_flag',\n",
        "       'has_superstructure_cement_mortar_stone',\n",
        "       'has_superstructure_mud_mortar_brick',\n",
        "       'has_superstructure_cement_mortar_brick', 'has_superstructure_timber',\n",
        "       'has_superstructure_bamboo', 'has_superstructure_rc_non_engineered',\n",
        "       'has_superstructure_rc_engineered', 'has_superstructure_other',\n",
        "       'legal_ownership_status', 'has_secondary_use',\n",
        "       'has_secondary_use_agriculture', 'has_secondary_use_hotel',\n",
        "       'has_secondary_use_rental', 'has_secondary_use_institution',\n",
        "       'has_secondary_use_school', 'has_secondary_use_industry',\n",
        "       'has_secondary_use_health_post', 'has_secondary_use_gov_office',\n",
        "       'has_secondary_use_use_police', 'has_secondary_use_other']].astype('object')"
      ],
      "execution_count": null,
      "outputs": []
    },
    {
      "cell_type": "code",
      "metadata": {
        "trusted": true,
        "id": "s4cqh6HoNfR_",
        "colab_type": "code",
        "colab": {
          "base_uri": "https://localhost:8080/",
          "height": 799
        },
        "outputId": "66b0def2-f46f-4ca9-bf6f-87d70cc5ee68"
      },
      "source": [
        "df.info()"
      ],
      "execution_count": null,
      "outputs": [
        {
          "output_type": "stream",
          "text": [
            "<class 'pandas.core.frame.DataFrame'>\n",
            "RangeIndex: 260601 entries, 0 to 260600\n",
            "Data columns (total 39 columns):\n",
            " #   Column                                  Non-Null Count   Dtype \n",
            "---  ------                                  --------------   ----- \n",
            " 0   building_id                             260601 non-null  int64 \n",
            " 1   geo_level_1_id                          260601 non-null  int64 \n",
            " 2   geo_level_2_id                          260601 non-null  int64 \n",
            " 3   geo_level_3_id                          260601 non-null  int64 \n",
            " 4   count_floors_pre_eq                     260601 non-null  int64 \n",
            " 5   age                                     260601 non-null  int64 \n",
            " 6   area_percentage                         260601 non-null  int64 \n",
            " 7   height_percentage                       260601 non-null  int64 \n",
            " 8   land_surface_condition                  260601 non-null  object\n",
            " 9   foundation_type                         260601 non-null  object\n",
            " 10  roof_type                               260601 non-null  object\n",
            " 11  ground_floor_type                       260601 non-null  object\n",
            " 12  other_floor_type                        260601 non-null  object\n",
            " 13  position                                260601 non-null  object\n",
            " 14  plan_configuration                      260601 non-null  object\n",
            " 15  has_superstructure_adobe_mud            260601 non-null  object\n",
            " 16  has_superstructure_mud_mortar_stone     260601 non-null  object\n",
            " 17  has_superstructure_stone_flag           260601 non-null  object\n",
            " 18  has_superstructure_cement_mortar_stone  260601 non-null  object\n",
            " 19  has_superstructure_mud_mortar_brick     260601 non-null  object\n",
            " 20  has_superstructure_cement_mortar_brick  260601 non-null  object\n",
            " 21  has_superstructure_timber               260601 non-null  object\n",
            " 22  has_superstructure_bamboo               260601 non-null  object\n",
            " 23  has_superstructure_rc_non_engineered    260601 non-null  object\n",
            " 24  has_superstructure_rc_engineered        260601 non-null  object\n",
            " 25  has_superstructure_other                260601 non-null  object\n",
            " 26  legal_ownership_status                  260601 non-null  object\n",
            " 27  count_families                          260601 non-null  int64 \n",
            " 28  has_secondary_use                       260601 non-null  object\n",
            " 29  has_secondary_use_agriculture           260601 non-null  object\n",
            " 30  has_secondary_use_hotel                 260601 non-null  object\n",
            " 31  has_secondary_use_rental                260601 non-null  object\n",
            " 32  has_secondary_use_institution           260601 non-null  object\n",
            " 33  has_secondary_use_school                260601 non-null  object\n",
            " 34  has_secondary_use_industry              260601 non-null  object\n",
            " 35  has_secondary_use_health_post           260601 non-null  object\n",
            " 36  has_secondary_use_gov_office            260601 non-null  object\n",
            " 37  has_secondary_use_use_police            260601 non-null  object\n",
            " 38  has_secondary_use_other                 260601 non-null  object\n",
            "dtypes: int64(9), object(30)\n",
            "memory usage: 77.5+ MB\n"
          ],
          "name": "stdout"
        }
      ]
    },
    {
      "cell_type": "code",
      "metadata": {
        "trusted": true,
        "id": "fBnuI5NNNfSY",
        "colab_type": "code",
        "colab": {}
      },
      "source": [
        "\n",
        "\n",
        "l0 = df['building_id'].unique()\n",
        "l1 = df['geo_level_1_id'].unique()\n",
        "l2 = df['geo_level_2_id'].unique()\n",
        "l3 = df['geo_level_3_id'].unique()"
      ],
      "execution_count": null,
      "outputs": []
    },
    {
      "cell_type": "code",
      "metadata": {
        "trusted": true,
        "id": "g7xpsOAbNfTF",
        "colab_type": "code",
        "colab": {
          "base_uri": "https://localhost:8080/",
          "height": 34
        },
        "outputId": "2bfa8e32-a710-427e-930e-33e6c7ce7571"
      },
      "source": [
        "len(l1)\n",
        "len(l2)\n",
        "len(l3)\n",
        "len(l0)#all unique"
      ],
      "execution_count": null,
      "outputs": [
        {
          "output_type": "execute_result",
          "data": {
            "text/plain": [
              "260601"
            ]
          },
          "metadata": {
            "tags": []
          },
          "execution_count": 30
        }
      ]
    },
    {
      "cell_type": "code",
      "metadata": {
        "trusted": true,
        "id": "QSduupr7NfTf",
        "colab_type": "code",
        "colab": {}
      },
      "source": [
        "df1 = df[['count_floors_pre_eq', 'age', 'area_percentage', 'height_percentage',\n",
        "       'land_surface_condition', 'foundation_type', 'roof_type',\n",
        "       'ground_floor_type', 'other_floor_type', 'position',\n",
        "       'plan_configuration', 'has_superstructure_adobe_mud',\n",
        "       'has_superstructure_mud_mortar_stone', 'has_superstructure_stone_flag',\n",
        "       'has_superstructure_cement_mortar_stone',\n",
        "       'has_superstructure_mud_mortar_brick',\n",
        "       'has_superstructure_cement_mortar_brick', 'has_superstructure_timber',\n",
        "       'has_superstructure_bamboo', 'has_superstructure_rc_non_engineered',\n",
        "       'has_superstructure_rc_engineered', 'has_superstructure_other',\n",
        "       'legal_ownership_status', 'count_families', 'has_secondary_use',\n",
        "       'has_secondary_use_agriculture', 'has_secondary_use_hotel',\n",
        "       'has_secondary_use_rental', 'has_secondary_use_institution',\n",
        "       'has_secondary_use_school', 'has_secondary_use_industry',\n",
        "       'has_secondary_use_health_post', 'has_secondary_use_gov_office',\n",
        "       'has_secondary_use_use_police', 'has_secondary_use_other']]"
      ],
      "execution_count": null,
      "outputs": []
    },
    {
      "cell_type": "code",
      "metadata": {
        "trusted": true,
        "id": "ncju-AGbNfTq",
        "colab_type": "code",
        "colab": {
          "base_uri": "https://localhost:8080/",
          "height": 731
        },
        "outputId": "5c184ccb-84f7-408f-c7b0-4e9cb091a98d"
      },
      "source": [
        "df1.info()"
      ],
      "execution_count": null,
      "outputs": [
        {
          "output_type": "stream",
          "text": [
            "<class 'pandas.core.frame.DataFrame'>\n",
            "RangeIndex: 260601 entries, 0 to 260600\n",
            "Data columns (total 35 columns):\n",
            " #   Column                                  Non-Null Count   Dtype \n",
            "---  ------                                  --------------   ----- \n",
            " 0   count_floors_pre_eq                     260601 non-null  int64 \n",
            " 1   age                                     260601 non-null  int64 \n",
            " 2   area_percentage                         260601 non-null  int64 \n",
            " 3   height_percentage                       260601 non-null  int64 \n",
            " 4   land_surface_condition                  260601 non-null  object\n",
            " 5   foundation_type                         260601 non-null  object\n",
            " 6   roof_type                               260601 non-null  object\n",
            " 7   ground_floor_type                       260601 non-null  object\n",
            " 8   other_floor_type                        260601 non-null  object\n",
            " 9   position                                260601 non-null  object\n",
            " 10  plan_configuration                      260601 non-null  object\n",
            " 11  has_superstructure_adobe_mud            260601 non-null  object\n",
            " 12  has_superstructure_mud_mortar_stone     260601 non-null  object\n",
            " 13  has_superstructure_stone_flag           260601 non-null  object\n",
            " 14  has_superstructure_cement_mortar_stone  260601 non-null  object\n",
            " 15  has_superstructure_mud_mortar_brick     260601 non-null  object\n",
            " 16  has_superstructure_cement_mortar_brick  260601 non-null  object\n",
            " 17  has_superstructure_timber               260601 non-null  object\n",
            " 18  has_superstructure_bamboo               260601 non-null  object\n",
            " 19  has_superstructure_rc_non_engineered    260601 non-null  object\n",
            " 20  has_superstructure_rc_engineered        260601 non-null  object\n",
            " 21  has_superstructure_other                260601 non-null  object\n",
            " 22  legal_ownership_status                  260601 non-null  object\n",
            " 23  count_families                          260601 non-null  int64 \n",
            " 24  has_secondary_use                       260601 non-null  object\n",
            " 25  has_secondary_use_agriculture           260601 non-null  object\n",
            " 26  has_secondary_use_hotel                 260601 non-null  object\n",
            " 27  has_secondary_use_rental                260601 non-null  object\n",
            " 28  has_secondary_use_institution           260601 non-null  object\n",
            " 29  has_secondary_use_school                260601 non-null  object\n",
            " 30  has_secondary_use_industry              260601 non-null  object\n",
            " 31  has_secondary_use_health_post           260601 non-null  object\n",
            " 32  has_secondary_use_gov_office            260601 non-null  object\n",
            " 33  has_secondary_use_use_police            260601 non-null  object\n",
            " 34  has_secondary_use_other                 260601 non-null  object\n",
            "dtypes: int64(5), object(30)\n",
            "memory usage: 69.6+ MB\n"
          ],
          "name": "stdout"
        }
      ]
    },
    {
      "cell_type": "code",
      "metadata": {
        "id": "x9Kq3v00PD1D",
        "colab_type": "code",
        "colab": {}
      },
      "source": [
        "df3 = pd.read_csv(\"test_values.csv\")\n",
        "df4 = pd.DataFrame()\n",
        "df4 = df3[['count_floors_pre_eq', 'age', 'area_percentage', 'height_percentage',\n",
        "       'land_surface_condition', 'foundation_type', 'roof_type',\n",
        "       'ground_floor_type', 'other_floor_type', 'position',\n",
        "       'plan_configuration', 'has_superstructure_adobe_mud',\n",
        "       'has_superstructure_mud_mortar_stone', 'has_superstructure_stone_flag',\n",
        "       'has_superstructure_cement_mortar_stone',\n",
        "       'has_superstructure_mud_mortar_brick',\n",
        "       'has_superstructure_cement_mortar_brick', 'has_superstructure_timber',\n",
        "       'has_superstructure_bamboo', 'has_superstructure_rc_non_engineered',\n",
        "       'has_superstructure_rc_engineered', 'has_superstructure_other',\n",
        "       'legal_ownership_status', 'count_families', 'has_secondary_use',\n",
        "       'has_secondary_use_agriculture', 'has_secondary_use_hotel',\n",
        "       'has_secondary_use_rental', 'has_secondary_use_institution',\n",
        "       'has_secondary_use_school', 'has_secondary_use_industry',\n",
        "       'has_secondary_use_health_post', 'has_secondary_use_gov_office',\n",
        "       'has_secondary_use_use_police', 'has_secondary_use_other']]"
      ],
      "execution_count": null,
      "outputs": []
    },
    {
      "cell_type": "code",
      "metadata": {
        "id": "sNP4TWaxmsLa",
        "colab_type": "code",
        "colab": {
          "base_uri": "https://localhost:8080/",
          "height": 34
        },
        "outputId": "1b9b93ef-b64e-48aa-b718-804153034fec"
      },
      "source": [
        "df.shape"
      ],
      "execution_count": null,
      "outputs": [
        {
          "output_type": "execute_result",
          "data": {
            "text/plain": [
              "(260601, 39)"
            ]
          },
          "metadata": {
            "tags": []
          },
          "execution_count": 34
        }
      ]
    },
    {
      "cell_type": "code",
      "metadata": {
        "id": "GN3Nx2uLmnLf",
        "colab_type": "code",
        "colab": {
          "base_uri": "https://localhost:8080/",
          "height": 34
        },
        "outputId": "164d03d8-c415-43eb-92ab-a2ee1b96bdfa"
      },
      "source": [
        "df4.shape"
      ],
      "execution_count": null,
      "outputs": [
        {
          "output_type": "execute_result",
          "data": {
            "text/plain": [
              "(86868, 35)"
            ]
          },
          "metadata": {
            "tags": []
          },
          "execution_count": 35
        }
      ]
    },
    {
      "cell_type": "code",
      "metadata": {
        "trusted": true,
        "id": "aYS630qhNfUI",
        "colab_type": "code",
        "colab": {
          "base_uri": "https://localhost:8080/",
          "height": 34
        },
        "outputId": "3521fd5b-8ef9-4433-c051-deb39cb776a5"
      },
      "source": [
        "X1 = pd.DataFrame(df1)\n",
        "X1=X1.append(df4)\n",
        "X1.shape"
      ],
      "execution_count": null,
      "outputs": [
        {
          "output_type": "execute_result",
          "data": {
            "text/plain": [
              "(347469, 35)"
            ]
          },
          "metadata": {
            "tags": []
          },
          "execution_count": 36
        }
      ]
    },
    {
      "cell_type": "code",
      "metadata": {
        "trusted": true,
        "id": "Ga6b6EZRNfUk",
        "colab_type": "code",
        "colab": {}
      },
      "source": [
        "X1 = pd.get_dummies(X1,drop_first=True)"
      ],
      "execution_count": null,
      "outputs": []
    },
    {
      "cell_type": "markdown",
      "metadata": {
        "id": "AaOmrPRNNfUw",
        "colab_type": "text"
      },
      "source": [
        "> # GENERATE MODEL REPORT"
      ]
    },
    {
      "cell_type": "code",
      "metadata": {
        "trusted": true,
        "id": "XFdjzgPvNfU2",
        "colab_type": "code",
        "colab": {}
      },
      "source": [
        "\n",
        "\n",
        "def generate_model_report(y_actual, y_predicted):\n",
        "    print(\"Accuracy = \" , accuracy_score(y_actual, y_predicted))\n",
        "    print(\"Precision = \" ,precision_score(y_actual, y_predicted,average=\"micro\"))\n",
        "    print(\"Recall = \" ,recall_score(y_actual, y_predicted,average=\"micro\"))\n",
        "    print(\"F1 Score = \" ,f1_score(y_actual, y_predicted,average=\"micro\"))\n",
        "    print(\"Cohen Kappa score= \",cohen_kappa_score(y_actual,y_predicted))\n",
        "    print(\"Hamming Loss = \",hamming_loss(y_actual,y_predicted))\n",
        "    print(\"Jaccard Score = \",jaccard_score(y_actual, y_predicted,average=\"micro\"))\n",
        "#     print(\"Log Loss = \",log_loss(y_actual, y_predicted))\n",
        "    print(\"Matthews correlation coefficient = \", matthews_corrcoef(y_actual, y_predicted))\n",
        "    print(\"Zero one loss = \",zero_one_loss(y_actual, y_predicted))\n",
        "#     print(\"brier_score_loss  = \",brier_score_loss(y_actual, y_predicted))\n",
        "    print(\"Balanced accuracy = \",balanced_accuracy_score(y_actual, y_predicted))"
      ],
      "execution_count": null,
      "outputs": []
    },
    {
      "cell_type": "markdown",
      "metadata": {
        "id": "10pAlIH2NfVC",
        "colab_type": "text"
      },
      "source": [
        "> # Generate auc roc curve"
      ]
    },
    {
      "cell_type": "code",
      "metadata": {
        "trusted": true,
        "id": "15nybX3gNfVE",
        "colab_type": "code",
        "colab": {}
      },
      "source": [
        "def generate_auc_roc_curve(clf, X_test):\n",
        "    y_pred_proba = clf.predict_proba(X_test)[:, 1]\n",
        "    fpr, tpr, thresholds = roc_curve(y_test,  y_pred_proba)\n",
        "    auc = roc_auc_score(y_test, y_pred_proba)\n",
        "    plt.plot(fpr,tpr,label=\"AUC ROC Curve with Area Under the curve =\"+str(auc))\n",
        "    plt.legend(loc=4)\n",
        "    plt.show()\n",
        "    pass"
      ],
      "execution_count": null,
      "outputs": []
    },
    {
      "cell_type": "markdown",
      "metadata": {
        "id": "V5KNWJEwNfVM",
        "colab_type": "text"
      },
      "source": [
        "> # Normalization"
      ]
    },
    {
      "cell_type": "code",
      "metadata": {
        "trusted": true,
        "id": "iwQYqu8UNfVP",
        "colab_type": "code",
        "colab": {}
      },
      "source": [
        "from sklearn import preprocessing\n",
        "# from sklearn.preprocessing import Normalizer\n",
        "X1 = preprocessing.normalize(X1, norm='l2')"
      ],
      "execution_count": null,
      "outputs": []
    },
    {
      "cell_type": "code",
      "metadata": {
        "trusted": true,
        "id": "EOkt7Ls-NfVi",
        "colab_type": "code",
        "colab": {
          "base_uri": "https://localhost:8080/",
          "height": 34
        },
        "outputId": "6baa9eb3-c560-4b47-9a06-157761242c56"
      },
      "source": [
        "X1.shape"
      ],
      "execution_count": null,
      "outputs": [
        {
          "output_type": "execute_result",
          "data": {
            "text/plain": [
              "(347469, 57)"
            ]
          },
          "metadata": {
            "tags": []
          },
          "execution_count": 41
        }
      ]
    },
    {
      "cell_type": "code",
      "metadata": {
        "id": "4YpoRDqnkcGL",
        "colab_type": "code",
        "colab": {
          "base_uri": "https://localhost:8080/",
          "height": 34
        },
        "outputId": "32d28e83-a00d-4bd6-9678-5586a52bec4c"
      },
      "source": [
        "df3.shape"
      ],
      "execution_count": null,
      "outputs": [
        {
          "output_type": "execute_result",
          "data": {
            "text/plain": [
              "(86868, 39)"
            ]
          },
          "metadata": {
            "tags": []
          },
          "execution_count": 42
        }
      ]
    },
    {
      "cell_type": "code",
      "metadata": {
        "id": "D_KrYfakkhkJ",
        "colab_type": "code",
        "colab": {
          "base_uri": "https://localhost:8080/",
          "height": 34
        },
        "outputId": "de82cf52-c4bf-4e96-80e6-5cef62319993"
      },
      "source": [
        "df.shape"
      ],
      "execution_count": null,
      "outputs": [
        {
          "output_type": "execute_result",
          "data": {
            "text/plain": [
              "(260601, 39)"
            ]
          },
          "metadata": {
            "tags": []
          },
          "execution_count": 43
        }
      ]
    },
    {
      "cell_type": "code",
      "metadata": {
        "id": "9FaPhsO5ks78",
        "colab_type": "code",
        "colab": {
          "base_uri": "https://localhost:8080/",
          "height": 34
        },
        "outputId": "0e7bee51-13c1-42bd-eb33-2cd47dcd9c8a"
      },
      "source": [
        "test = X1[260601:]\n",
        "test.shape"
      ],
      "execution_count": null,
      "outputs": [
        {
          "output_type": "execute_result",
          "data": {
            "text/plain": [
              "(86868, 57)"
            ]
          },
          "metadata": {
            "tags": []
          },
          "execution_count": 44
        }
      ]
    },
    {
      "cell_type": "code",
      "metadata": {
        "trusted": true,
        "id": "3-6hz7vfNfVp",
        "colab_type": "code",
        "colab": {
          "base_uri": "https://localhost:8080/",
          "height": 34
        },
        "outputId": "0960c2f4-7881-47d8-fec8-6eb7b90f423b"
      },
      "source": [
        "\n",
        "X = X1[:260601]\n",
        "X.shape"
      ],
      "execution_count": null,
      "outputs": [
        {
          "output_type": "execute_result",
          "data": {
            "text/plain": [
              "(260601, 57)"
            ]
          },
          "metadata": {
            "tags": []
          },
          "execution_count": 45
        }
      ]
    },
    {
      "cell_type": "code",
      "metadata": {
        "id": "tY-dkrWdlGS1",
        "colab_type": "code",
        "colab": {
          "base_uri": "https://localhost:8080/",
          "height": 34
        },
        "outputId": "12580784-df30-4cc2-a29b-be16bbd50aeb"
      },
      "source": [
        "y.shape"
      ],
      "execution_count": null,
      "outputs": [
        {
          "output_type": "execute_result",
          "data": {
            "text/plain": [
              "(260601,)"
            ]
          },
          "metadata": {
            "tags": []
          },
          "execution_count": 46
        }
      ]
    },
    {
      "cell_type": "markdown",
      "metadata": {
        "id": "ynVbXv3BNfV4",
        "colab_type": "text"
      },
      "source": [
        "> # Train test split"
      ]
    },
    {
      "cell_type": "code",
      "metadata": {
        "trusted": true,
        "id": "W7aRYjLwNfV8",
        "colab_type": "code",
        "colab": {}
      },
      "source": [
        "from sklearn.model_selection import train_test_split\n",
        "X_train, X_test, y_train, y_test = train_test_split(X, y, test_size = 0.10, random_state = 0)"
      ],
      "execution_count": null,
      "outputs": []
    },
    {
      "cell_type": "code",
      "metadata": {
        "trusted": true,
        "id": "7OOuSMjaNfWJ",
        "colab_type": "code",
        "colab": {
          "base_uri": "https://localhost:8080/",
          "height": 34
        },
        "outputId": "fd4df678-b034-4c0d-8a8a-4531ff0f7217"
      },
      "source": [
        "y_train\n",
        "len(X_train)"
      ],
      "execution_count": null,
      "outputs": [
        {
          "output_type": "execute_result",
          "data": {
            "text/plain": [
              "234540"
            ]
          },
          "metadata": {
            "tags": []
          },
          "execution_count": 48
        }
      ]
    },
    {
      "cell_type": "markdown",
      "metadata": {
        "id": "FbjMw4BLNfWV",
        "colab_type": "text"
      },
      "source": [
        "> # Generate auc_roc_curve"
      ]
    },
    {
      "cell_type": "code",
      "metadata": {
        "trusted": true,
        "id": "lpLdsUrvNfWX",
        "colab_type": "code",
        "colab": {}
      },
      "source": [
        "def generate_auc_roc_curve(clf, X_test):\n",
        "    y_pred_proba = clf.predict_proba(X_test)[:, 1]\n",
        "    fpr, tpr, thresholds = roc_curve(y_test,  y_pred_proba)\n",
        "    auc = roc_auc_score(y_test, y_pred_proba,multi_class = \"ovr\",average = \"macro\")\n",
        "    plt.plot(fpr,tpr,label=\"AUC ROC Curve with Area Under the curve =\"+str(auc))\n",
        "    plt.legend(loc=4)\n",
        "    plt.show()\n",
        "    pass\n",
        "\n"
      ],
      "execution_count": null,
      "outputs": []
    },
    {
      "cell_type": "markdown",
      "metadata": {
        "id": "8gy-xAMMNfWv",
        "colab_type": "text"
      },
      "source": [
        "> # LOGISTIC REGRESSION"
      ]
    },
    {
      "cell_type": "code",
      "metadata": {
        "id": "RnxrQq_lwP05",
        "colab_type": "code",
        "colab": {}
      },
      "source": [
        "from sklearn.linear_model import LogisticRegression"
      ],
      "execution_count": null,
      "outputs": []
    },
    {
      "cell_type": "code",
      "metadata": {
        "id": "qHeKYVlSvV9n",
        "colab_type": "code",
        "colab": {}
      },
      "source": [
        "from sklearn.model_selection import GridSearchCV\n",
        "grid={\"C\":np.logspace(-3,0,3,5,7),\"max_iter\":[100,200,300,400,500],\"solver\":[ \"saga\"]}# l1 lasso l2 ridge\n",
        "lr1 = LogisticRegression()\n",
        "grid_cv=GridSearchCV(lr1,grid,cv=10,verbose=0)\n",
        "grid_cv.fit(X_train,y_train)\n",
        "params = grid_cv.best_params_\n",
        "lr1.set_params(**params)\n",
        "lr1.fit(X_train,y_train)\n",
        "y_lr1 = lr1.predict(X_test)"
      ],
      "execution_count": null,
      "outputs": []
    },
    {
      "cell_type": "code",
      "metadata": {
        "id": "JkT589fJHKs2",
        "colab_type": "code",
        "colab": {
          "base_uri": "https://localhost:8080/",
          "height": 34
        },
        "outputId": "5696d97d-e2eb-4641-eece-a1d0ba8523fc"
      },
      "source": [
        "params"
      ],
      "execution_count": null,
      "outputs": [
        {
          "output_type": "execute_result",
          "data": {
            "text/plain": [
              "{'C': 1.0, 'max_iter': 500, 'solver': 'saga'}"
            ]
          },
          "metadata": {
            "tags": []
          },
          "execution_count": 131
        }
      ]
    },
    {
      "cell_type": "code",
      "metadata": {
        "id": "WA88ASt8wkFE",
        "colab_type": "code",
        "colab": {
          "base_uri": "https://localhost:8080/",
          "height": 34
        },
        "outputId": "5364ba46-994f-4895-b41e-2bcbd7603ee5"
      },
      "source": [
        "lr1.score(X_train,y_train)"
      ],
      "execution_count": null,
      "outputs": [
        {
          "output_type": "execute_result",
          "data": {
            "text/plain": [
              "0.5729086722947045"
            ]
          },
          "metadata": {
            "tags": []
          },
          "execution_count": 128
        }
      ]
    },
    {
      "cell_type": "code",
      "metadata": {
        "id": "FwW5mA8Xwn24",
        "colab_type": "code",
        "colab": {
          "base_uri": "https://localhost:8080/",
          "height": 34
        },
        "outputId": "7a36e70c-6913-4bef-f3e5-f96de4f5e115"
      },
      "source": [
        "lr1.score(X_test,y_test)"
      ],
      "execution_count": null,
      "outputs": [
        {
          "output_type": "execute_result",
          "data": {
            "text/plain": [
              "0.573218931550794"
            ]
          },
          "metadata": {
            "tags": []
          },
          "execution_count": 130
        }
      ]
    },
    {
      "cell_type": "code",
      "metadata": {
        "id": "yBbZNsVpwr6a",
        "colab_type": "code",
        "colab": {
          "base_uri": "https://localhost:8080/",
          "height": 187
        },
        "outputId": "fd3044a8-3114-4180-e1f4-d0102fafeeb1"
      },
      "source": [
        "generate_model_report(y_test,y_lr1)"
      ],
      "execution_count": null,
      "outputs": [
        {
          "output_type": "stream",
          "text": [
            "Accuracy =  0.573218931550794\n",
            "Precision =  0.573218931550794\n",
            "Recall =  0.573218931550794\n",
            "F1 Score =  0.573218931550794\n",
            "Cohen Kappa score=  0.047860570290036764\n",
            "Hamming Loss =  0.42678106844920605\n",
            "Jaccard Score =  0.40175675457611437\n",
            "Matthews correlation coefficient =  0.09328145231812845\n",
            "Zero one loss =  0.42678106844920605\n",
            "Balanced accuracy =  0.37583056071935156\n"
          ],
          "name": "stdout"
        }
      ]
    },
    {
      "cell_type": "code",
      "metadata": {
        "id": "Zo8cmRHLwwwV",
        "colab_type": "code",
        "colab": {
          "base_uri": "https://localhost:8080/",
          "height": 187
        },
        "outputId": "51284beb-e838-4d37-9d6a-935414728287"
      },
      "source": [
        "from sklearn.metrics import classification_report\n",
        "print(classification_report(y_test, y_lr1, labels=['Low_Damage', 'Medium_Damage', 'High_Damage']))"
      ],
      "execution_count": null,
      "outputs": [
        {
          "output_type": "stream",
          "text": [
            "               precision    recall  f1-score   support\n",
            "\n",
            "   Low_Damage       0.51      0.13      0.20     12625\n",
            "Medium_Damage       0.58      0.96      0.72     74156\n",
            "  High_Damage       0.50      0.04      0.07     43520\n",
            "\n",
            "     accuracy                           0.57    130301\n",
            "    macro avg       0.53      0.38      0.33    130301\n",
            " weighted avg       0.55      0.57      0.45    130301\n",
            "\n"
          ],
          "name": "stdout"
        }
      ]
    },
    {
      "cell_type": "code",
      "metadata": {
        "id": "_gEZn_RDw6ap",
        "colab_type": "code",
        "colab": {
          "base_uri": "https://localhost:8080/",
          "height": 393
        },
        "outputId": "b60bb544-677b-466f-9c48-890a0df35839"
      },
      "source": [
        "from yellowbrick.classifier.rocauc import roc_auc\n",
        "roc_auc(lr1, X_train, y_train, X_test=X_test, y_test=y_test, classes=[\"Low_damage\",\"Medium_damage\",\"High_damage\"])"
      ],
      "execution_count": null,
      "outputs": [
        {
          "output_type": "execute_result",
          "data": {
            "text/plain": [
              "<matplotlib.axes._subplots.AxesSubplot at 0x7f8a4dc228d0>"
            ]
          },
          "metadata": {
            "tags": []
          },
          "execution_count": 134
        },
        {
          "output_type": "display_data",
          "data": {
            "image/png": "[encoded data removed]",
            "text/plain": [
              "<Figure size 576x396 with 1 Axes>"
            ]
          },
          "metadata": {
            "tags": []
          }
        }
      ]
    },
    {
      "cell_type": "code",
      "metadata": {
        "trusted": true,
        "id": "IFzBVvo8NfWz",
        "colab_type": "code",
        "colab": {}
      },
      "source": [
        "from sklearn.linear_model import LogisticRegression\n",
        "lr = LogisticRegression(random_state = 0, multi_class = \"multinomial\", solver=\"newton-cg\",C=1000)\n",
        "lr.get_params()"
      ],
      "execution_count": null,
      "outputs": []
    },
    {
      "cell_type": "code",
      "metadata": {
        "trusted": true,
        "id": "NpfCEhQJNfXP",
        "colab_type": "code",
        "colab": {
          "base_uri": "https://localhost:8080/",
          "height": 102
        },
        "outputId": "a1fc49df-131f-4b43-e718-19c61b302e6a"
      },
      "source": [
        "lr.fit(X_train,y_train)"
      ],
      "execution_count": null,
      "outputs": [
        {
          "output_type": "execute_result",
          "data": {
            "text/plain": [
              "LogisticRegression(C=1000, class_weight=None, dual=False, fit_intercept=True,\n",
              "                   intercept_scaling=1, l1_ratio=None, max_iter=100,\n",
              "                   multi_class='multinomial', n_jobs=None, penalty='l2',\n",
              "                   random_state=0, solver='newton-cg', tol=0.0001, verbose=0,\n",
              "                   warm_start=False)"
            ]
          },
          "metadata": {
            "tags": []
          },
          "execution_count": 106
        }
      ]
    },
    {
      "cell_type": "code",
      "metadata": {
        "trusted": true,
        "id": "xoMJPqZMNfXb",
        "colab_type": "code",
        "colab": {}
      },
      "source": [
        "y_lr = lr.predict(X_test)\n"
      ],
      "execution_count": null,
      "outputs": []
    },
    {
      "cell_type": "code",
      "metadata": {
        "trusted": true,
        "id": "XU35i0CkNfXt",
        "colab_type": "code",
        "colab": {
          "base_uri": "https://localhost:8080/",
          "height": 187
        },
        "outputId": "acb6c709-37d9-42d7-ebe5-ad8f3260b590"
      },
      "source": [
        "generate_model_report(y_test, y_lr)"
      ],
      "execution_count": null,
      "outputs": [
        {
          "output_type": "stream",
          "text": [
            "Accuracy =  0.5735412621545498\n",
            "Precision =  0.5735412621545498\n",
            "Recall =  0.5735412621545498\n",
            "F1 Score =  0.5735412621545498\n",
            "Cohen Kappa score=  0.054859751883745034\n",
            "Hamming Loss =  0.42645873784545013\n",
            "Jaccard Score =  0.4020735033814138\n",
            "Matthews correlation coefficient =  0.09832077432011575\n",
            "Zero one loss =  0.4264587378454502\n",
            "Balanced accuracy =  0.3805972359256888\n"
          ],
          "name": "stdout"
        }
      ]
    },
    {
      "cell_type": "code",
      "metadata": {
        "trusted": true,
        "id": "28gD9BvnNfYB",
        "colab_type": "code",
        "colab": {
          "base_uri": "https://localhost:8080/",
          "height": 136
        },
        "outputId": "c0343bfb-ec2e-44f4-a2f9-3cb0f90da022"
      },
      "source": [
        "y_prob = lr.predict_proba(X_test)\n",
        "y_prob"
      ],
      "execution_count": null,
      "outputs": [
        {
          "output_type": "execute_result",
          "data": {
            "text/plain": [
              "array([[0.35189195, 0.08266325, 0.5654448 ],\n",
              "       [0.4844873 , 0.04708491, 0.46842779],\n",
              "       [0.41615609, 0.04463939, 0.53920452],\n",
              "       ...,\n",
              "       [0.23045889, 0.22813972, 0.54140138],\n",
              "       [0.39632422, 0.03769904, 0.56597674],\n",
              "       [0.39786033, 0.0630494 , 0.53909026]])"
            ]
          },
          "metadata": {
            "tags": []
          },
          "execution_count": 109
        }
      ]
    },
    {
      "cell_type": "code",
      "metadata": {
        "id": "YWWlU_2p0i8U",
        "colab_type": "code",
        "colab": {
          "base_uri": "https://localhost:8080/",
          "height": 34
        },
        "outputId": "97e4febf-177e-469e-9f3d-8bd57ed9aece"
      },
      "source": [
        "lr.score(X_train,y_train)\n",
        "#It meand very low bias which means underfitting."
      ],
      "execution_count": null,
      "outputs": [
        {
          "output_type": "execute_result",
          "data": {
            "text/plain": [
              "0.5730851880276285"
            ]
          },
          "metadata": {
            "tags": []
          },
          "execution_count": 119
        }
      ]
    },
    {
      "cell_type": "code",
      "metadata": {
        "id": "m_6_Icn_ustr",
        "colab_type": "code",
        "colab": {
          "base_uri": "https://localhost:8080/",
          "height": 34
        },
        "outputId": "113c559d-8263-4c4b-d1ff-3dbae2e3ea0b"
      },
      "source": [
        "lr.score(X_test,y_test)"
      ],
      "execution_count": null,
      "outputs": [
        {
          "output_type": "execute_result",
          "data": {
            "text/plain": [
              "0.5734721913108879"
            ]
          },
          "metadata": {
            "tags": []
          },
          "execution_count": 120
        }
      ]
    },
    {
      "cell_type": "code",
      "metadata": {
        "trusted": true,
        "id": "H00pRu8INfYc",
        "colab_type": "code",
        "colab": {
          "base_uri": "https://localhost:8080/",
          "height": 119
        },
        "outputId": "5dc86221-a9e6-464a-cdb9-8a528e4dd90f"
      },
      "source": [
        "macro_roc_auc_ovo = roc_auc_score(y_test, y_prob, multi_class=\"ovo\",\n",
        "                                  average=\"macro\")\n",
        "weighted_roc_auc_ovo = roc_auc_score(y_test, y_prob, multi_class=\"ovo\",\n",
        "                                     average=\"weighted\")\n",
        "macro_roc_auc_ovr = roc_auc_score(y_test, y_prob, multi_class=\"ovr\",\n",
        "                                  average=\"macro\")\n",
        "weighted_roc_auc_ovr = roc_auc_score(y_test, y_prob, multi_class=\"ovr\",\n",
        "                                     average=\"weighted\")\n",
        "print(\"One-vs-One ROC AUC scores:\\n{:.6f} (macro),\\n{:.6f} \"\n",
        "      \"(weighted by prevalence)\"\n",
        "      .format(macro_roc_auc_ovo, weighted_roc_auc_ovo))\n",
        "print(\"One-vs-Rest ROC AUC scores:\\n{:.6f} (macro),\\n{:.6f} \"\n",
        "      \"(weighted by prevalence)\"\n",
        "      .format(macro_roc_auc_ovr, weighted_roc_auc_ovr))"
      ],
      "execution_count": null,
      "outputs": [
        {
          "output_type": "stream",
          "text": [
            "One-vs-One ROC AUC scores:\n",
            "0.677755 (macro),\n",
            "0.654612 (weighted by prevalence)\n",
            "One-vs-Rest ROC AUC scores:\n",
            "0.654047 (macro),\n",
            "0.612470 (weighted by prevalence)\n"
          ],
          "name": "stdout"
        }
      ]
    },
    {
      "cell_type": "code",
      "metadata": {
        "id": "eY0N-3GguQ1n",
        "colab_type": "code",
        "colab": {}
      },
      "source": [
        ""
      ],
      "execution_count": null,
      "outputs": []
    },
    {
      "cell_type": "code",
      "metadata": {
        "trusted": true,
        "id": "gIn2I9WQNfYn",
        "colab_type": "code",
        "colab": {
          "base_uri": "https://localhost:8080/",
          "height": 393
        },
        "outputId": "4f67247b-4368-4e91-8dce-1312a2e8d218"
      },
      "source": [
        "from yellowbrick.classifier.rocauc import roc_auc\n",
        "roc_auc(lr, X_train, y_train, X_test=X_test, y_test=y_test, classes=[\"Low_damage\",\"Medium_damage\",\"High_damage\"])\n"
      ],
      "execution_count": null,
      "outputs": [
        {
          "output_type": "execute_result",
          "data": {
            "text/plain": [
              "<matplotlib.axes._subplots.AxesSubplot at 0x7f8a587c3c18>"
            ]
          },
          "metadata": {
            "tags": []
          },
          "execution_count": 111
        },
        {
          "output_type": "display_data",
          "data": {
            "image/png": "[encoded data removed]",
            "text/plain": [
              "<Figure size 576x396 with 1 Axes>"
            ]
          },
          "metadata": {
            "tags": []
          }
        }
      ]
    },
    {
      "cell_type": "code",
      "metadata": {
        "id": "7bRFMi7pudME",
        "colab_type": "code",
        "colab": {
          "base_uri": "https://localhost:8080/",
          "height": 34
        },
        "outputId": "3e0ca748-ddd8-4470-c74d-1d62a2a0959a"
      },
      "source": [
        "f1_score(y_test,y_lr,average = \"micro\")"
      ],
      "execution_count": null,
      "outputs": [
        {
          "output_type": "execute_result",
          "data": {
            "text/plain": [
              "0.5735412621545498"
            ]
          },
          "metadata": {
            "tags": []
          },
          "execution_count": 112
        }
      ]
    },
    {
      "cell_type": "code",
      "metadata": {
        "id": "HdCSJqIt04Sv",
        "colab_type": "code",
        "colab": {
          "base_uri": "https://localhost:8080/",
          "height": 34
        },
        "outputId": "ee64705a-873a-414e-8b80-7a006ec2787f"
      },
      "source": [
        "f1_score(y_test,y_lr,average = \"macro\")"
      ],
      "execution_count": null,
      "outputs": [
        {
          "output_type": "execute_result",
          "data": {
            "text/plain": [
              "0.3420233193443914"
            ]
          },
          "metadata": {
            "tags": []
          },
          "execution_count": 113
        }
      ]
    },
    {
      "cell_type": "code",
      "metadata": {
        "id": "4VWywsJt05Vd",
        "colab_type": "code",
        "colab": {
          "base_uri": "https://localhost:8080/",
          "height": 34
        },
        "outputId": "dfd06343-81f2-41ff-b5de-e2b11d861568"
      },
      "source": [
        "f1_score(y_test,y_lr,average = \"weighted\")"
      ],
      "execution_count": null,
      "outputs": [
        {
          "output_type": "execute_result",
          "data": {
            "text/plain": [
              "0.46119811235559044"
            ]
          },
          "metadata": {
            "tags": []
          },
          "execution_count": 114
        }
      ]
    },
    {
      "cell_type": "code",
      "metadata": {
        "id": "ZDe6IXNDwOYS",
        "colab_type": "code",
        "colab": {
          "base_uri": "https://localhost:8080/",
          "height": 187
        },
        "outputId": "ecea4858-b79d-40f8-eba9-b96fbbe8546a"
      },
      "source": [
        "from sklearn.metrics import classification_report\n",
        "print(classification_report(y_test, y_lr, labels=['Low_Damage', 'Medium_Damage', 'High_Damage']))"
      ],
      "execution_count": null,
      "outputs": [
        {
          "output_type": "stream",
          "text": [
            "               precision    recall  f1-score   support\n",
            "\n",
            "   Low_Damage       0.50      0.14      0.21     12625\n",
            "Medium_Damage       0.58      0.96      0.72     74156\n",
            "  High_Damage       0.50      0.05      0.09     43520\n",
            "\n",
            "     accuracy                           0.57    130301\n",
            "    macro avg       0.53      0.38      0.34    130301\n",
            " weighted avg       0.55      0.57      0.46    130301\n",
            "\n"
          ],
          "name": "stdout"
        }
      ]
    },
    {
      "cell_type": "code",
      "metadata": {
        "id": "vOjGBj2sxLK6",
        "colab_type": "code",
        "colab": {
          "base_uri": "https://localhost:8080/",
          "height": 68
        },
        "outputId": "bb525467-a439-43e7-9deb-183e4fee1f12"
      },
      "source": [
        "from sklearn.metrics import confusion_matrix\n",
        "confusion_matrix(y_test, y_lr, labels=['Low_Damage', 'Medium_Damage', 'High_Damage'])\n"
      ],
      "execution_count": null,
      "outputs": [
        {
          "output_type": "execute_result",
          "data": {
            "text/plain": [
              "array([[ 1723, 10700,   202],\n",
              "       [ 1381, 70822,  1953],\n",
              "       [  342, 40990,  2188]])"
            ]
          },
          "metadata": {
            "tags": []
          },
          "execution_count": 116
        }
      ]
    },
    {
      "cell_type": "markdown",
      "metadata": {
        "id": "2NbcZhibU4Jm",
        "colab_type": "text"
      },
      "source": [
        "\n",
        "\n",
        "\n",
        "# > **KNN**\n",
        "\n",
        "\n",
        "\n",
        "\n"
      ]
    },
    {
      "cell_type": "code",
      "metadata": {
        "id": "Y8IOpLQ1R953",
        "colab_type": "code",
        "colab": {
          "base_uri": "https://localhost:8080/",
          "height": 68
        },
        "outputId": "64cc2db0-fcde-43e3-fb25-0152ca84a547"
      },
      "source": [
        "from sklearn.neighbors import KNeighborsClassifier\n",
        "knn = KNeighborsClassifier(n_neighbors=25, weights = 'distance')\n",
        "knn.fit(X_train,y_train)"
      ],
      "execution_count": null,
      "outputs": [
        {
          "output_type": "execute_result",
          "data": {
            "text/plain": [
              "KNeighborsClassifier(algorithm='auto', leaf_size=30, metric='minkowski',\n",
              "                     metric_params=None, n_jobs=None, n_neighbors=5, p=2,\n",
              "                     weights='distance')"
            ]
          },
          "metadata": {
            "tags": []
          },
          "execution_count": 135
        }
      ]
    },
    {
      "cell_type": "code",
      "metadata": {
        "id": "vQNYTfUfR-kS",
        "colab_type": "code",
        "colab": {
          "base_uri": "https://localhost:8080/",
          "height": 306
        },
        "outputId": "80cab436-b2a8-4412-a8d0-f3e77d07ddb3"
      },
      "source": [
        "y_knn = knn.predict(X_test)"
      ],
      "execution_count": null,
      "outputs": [
        {
          "output_type": "error",
          "ename": "KeyboardInterrupt",
          "evalue": "ignored",
          "traceback": [
            "\u001b[0;31m---------------------------------------------------------------------------\u001b[0m",
            "\u001b[0;31mKeyboardInterrupt\u001b[0m                         Traceback (most recent call last)",
            "\u001b[0;32m<ipython-input-136-7ba4005b30c3>\u001b[0m in \u001b[0;36m<module>\u001b[0;34m()\u001b[0m\n\u001b[0;32m----> 1\u001b[0;31m \u001b[0my_knn\u001b[0m \u001b[0;34m=\u001b[0m \u001b[0mknn\u001b[0m\u001b[0;34m.\u001b[0m\u001b[0mpredict\u001b[0m\u001b[0;34m(\u001b[0m\u001b[0mX_test\u001b[0m\u001b[0;34m)\u001b[0m\u001b[0;34m\u001b[0m\u001b[0;34m\u001b[0m\u001b[0m\n\u001b[0m",
            "\u001b[0;32m/usr/local/lib/python3.6/dist-packages/sklearn/neighbors/_classification.py\u001b[0m in \u001b[0;36mpredict\u001b[0;34m(self, X)\u001b[0m\n\u001b[1;32m    171\u001b[0m         \u001b[0mX\u001b[0m \u001b[0;34m=\u001b[0m \u001b[0mcheck_array\u001b[0m\u001b[0;34m(\u001b[0m\u001b[0mX\u001b[0m\u001b[0;34m,\u001b[0m \u001b[0maccept_sparse\u001b[0m\u001b[0;34m=\u001b[0m\u001b[0;34m'csr'\u001b[0m\u001b[0;34m)\u001b[0m\u001b[0;34m\u001b[0m\u001b[0;34m\u001b[0m\u001b[0m\n\u001b[1;32m    172\u001b[0m \u001b[0;34m\u001b[0m\u001b[0m\n\u001b[0;32m--> 173\u001b[0;31m         \u001b[0mneigh_dist\u001b[0m\u001b[0;34m,\u001b[0m \u001b[0mneigh_ind\u001b[0m \u001b[0;34m=\u001b[0m \u001b[0mself\u001b[0m\u001b[0;34m.\u001b[0m\u001b[0mkneighbors\u001b[0m\u001b[0;34m(\u001b[0m\u001b[0mX\u001b[0m\u001b[0;34m)\u001b[0m\u001b[0;34m\u001b[0m\u001b[0;34m\u001b[0m\u001b[0m\n\u001b[0m\u001b[1;32m    174\u001b[0m         \u001b[0mclasses_\u001b[0m \u001b[0;34m=\u001b[0m \u001b[0mself\u001b[0m\u001b[0;34m.\u001b[0m\u001b[0mclasses_\u001b[0m\u001b[0;34m\u001b[0m\u001b[0;34m\u001b[0m\u001b[0m\n\u001b[1;32m    175\u001b[0m         \u001b[0m_y\u001b[0m \u001b[0;34m=\u001b[0m \u001b[0mself\u001b[0m\u001b[0;34m.\u001b[0m\u001b[0m_y\u001b[0m\u001b[0;34m\u001b[0m\u001b[0;34m\u001b[0m\u001b[0m\n",
            "\u001b[0;32m/usr/local/lib/python3.6/dist-packages/sklearn/neighbors/_base.py\u001b[0m in \u001b[0;36mkneighbors\u001b[0;34m(self, X, n_neighbors, return_distance)\u001b[0m\n\u001b[1;32m    662\u001b[0m                 delayed_query(\n\u001b[1;32m    663\u001b[0m                     self._tree, X[s], n_neighbors, return_distance)\n\u001b[0;32m--> 664\u001b[0;31m                 \u001b[0;32mfor\u001b[0m \u001b[0ms\u001b[0m \u001b[0;32min\u001b[0m \u001b[0mgen_even_slices\u001b[0m\u001b[0;34m(\u001b[0m\u001b[0mX\u001b[0m\u001b[0;34m.\u001b[0m\u001b[0mshape\u001b[0m\u001b[0;34m[\u001b[0m\u001b[0;36m0\u001b[0m\u001b[0;34m]\u001b[0m\u001b[0;34m,\u001b[0m \u001b[0mn_jobs\u001b[0m\u001b[0;34m)\u001b[0m\u001b[0;34m\u001b[0m\u001b[0;34m\u001b[0m\u001b[0m\n\u001b[0m\u001b[1;32m    665\u001b[0m             )\n\u001b[1;32m    666\u001b[0m         \u001b[0;32melse\u001b[0m\u001b[0;34m:\u001b[0m\u001b[0;34m\u001b[0m\u001b[0;34m\u001b[0m\u001b[0m\n",
            "\u001b[0;32m/usr/local/lib/python3.6/dist-packages/joblib/parallel.py\u001b[0m in \u001b[0;36m__call__\u001b[0;34m(self, iterable)\u001b[0m\n\u001b[1;32m   1027\u001b[0m             \u001b[0;31m# remaining jobs.\u001b[0m\u001b[0;34m\u001b[0m\u001b[0;34m\u001b[0m\u001b[0;34m\u001b[0m\u001b[0m\n\u001b[1;32m   1028\u001b[0m             \u001b[0mself\u001b[0m\u001b[0;34m.\u001b[0m\u001b[0m_iterating\u001b[0m \u001b[0;34m=\u001b[0m \u001b[0;32mFalse\u001b[0m\u001b[0;34m\u001b[0m\u001b[0;34m\u001b[0m\u001b[0m\n\u001b[0;32m-> 1029\u001b[0;31m             \u001b[0;32mif\u001b[0m \u001b[0mself\u001b[0m\u001b[0;34m.\u001b[0m\u001b[0mdispatch_one_batch\u001b[0m\u001b[0;34m(\u001b[0m\u001b[0miterator\u001b[0m\u001b[0;34m)\u001b[0m\u001b[0;34m:\u001b[0m\u001b[0;34m\u001b[0m\u001b[0;34m\u001b[0m\u001b[0m\n\u001b[0m\u001b[1;32m   1030\u001b[0m                 \u001b[0mself\u001b[0m\u001b[0;34m.\u001b[0m\u001b[0m_iterating\u001b[0m \u001b[0;34m=\u001b[0m \u001b[0mself\u001b[0m\u001b[0;34m.\u001b[0m\u001b[0m_original_iterator\u001b[0m \u001b[0;32mis\u001b[0m \u001b[0;32mnot\u001b[0m \u001b[0;32mNone\u001b[0m\u001b[0;34m\u001b[0m\u001b[0;34m\u001b[0m\u001b[0m\n\u001b[1;32m   1031\u001b[0m \u001b[0;34m\u001b[0m\u001b[0m\n",
            "\u001b[0;32m/usr/local/lib/python3.6/dist-packages/joblib/parallel.py\u001b[0m in \u001b[0;36mdispatch_one_batch\u001b[0;34m(self, iterator)\u001b[0m\n\u001b[1;32m    845\u001b[0m                 \u001b[0;32mreturn\u001b[0m \u001b[0;32mFalse\u001b[0m\u001b[0;34m\u001b[0m\u001b[0;34m\u001b[0m\u001b[0m\n\u001b[1;32m    846\u001b[0m             \u001b[0;32melse\u001b[0m\u001b[0;34m:\u001b[0m\u001b[0;34m\u001b[0m\u001b[0;34m\u001b[0m\u001b[0m\n\u001b[0;32m--> 847\u001b[0;31m                 \u001b[0mself\u001b[0m\u001b[0;34m.\u001b[0m\u001b[0m_dispatch\u001b[0m\u001b[0;34m(\u001b[0m\u001b[0mtasks\u001b[0m\u001b[0;34m)\u001b[0m\u001b[0;34m\u001b[0m\u001b[0;34m\u001b[0m\u001b[0m\n\u001b[0m\u001b[1;32m    848\u001b[0m                 \u001b[0;32mreturn\u001b[0m \u001b[0;32mTrue\u001b[0m\u001b[0;34m\u001b[0m\u001b[0;34m\u001b[0m\u001b[0m\n\u001b[1;32m    849\u001b[0m \u001b[0;34m\u001b[0m\u001b[0m\n",
            "\u001b[0;32m/usr/local/lib/python3.6/dist-packages/joblib/parallel.py\u001b[0m in \u001b[0;36m_dispatch\u001b[0;34m(self, batch)\u001b[0m\n\u001b[1;32m    763\u001b[0m         \u001b[0;32mwith\u001b[0m \u001b[0mself\u001b[0m\u001b[0;34m.\u001b[0m\u001b[0m_lock\u001b[0m\u001b[0;34m:\u001b[0m\u001b[0;34m\u001b[0m\u001b[0;34m\u001b[0m\u001b[0m\n\u001b[1;32m    764\u001b[0m             \u001b[0mjob_idx\u001b[0m \u001b[0;34m=\u001b[0m \u001b[0mlen\u001b[0m\u001b[0;34m(\u001b[0m\u001b[0mself\u001b[0m\u001b[0;34m.\u001b[0m\u001b[0m_jobs\u001b[0m\u001b[0;34m)\u001b[0m\u001b[0;34m\u001b[0m\u001b[0;34m\u001b[0m\u001b[0m\n\u001b[0;32m--> 765\u001b[0;31m             \u001b[0mjob\u001b[0m \u001b[0;34m=\u001b[0m \u001b[0mself\u001b[0m\u001b[0;34m.\u001b[0m\u001b[0m_backend\u001b[0m\u001b[0;34m.\u001b[0m\u001b[0mapply_async\u001b[0m\u001b[0;34m(\u001b[0m\u001b[0mbatch\u001b[0m\u001b[0;34m,\u001b[0m \u001b[0mcallback\u001b[0m\u001b[0;34m=\u001b[0m\u001b[0mcb\u001b[0m\u001b[0;34m)\u001b[0m\u001b[0;34m\u001b[0m\u001b[0;34m\u001b[0m\u001b[0m\n\u001b[0m\u001b[1;32m    766\u001b[0m             \u001b[0;31m# A job can complete so quickly than its callback is\u001b[0m\u001b[0;34m\u001b[0m\u001b[0;34m\u001b[0m\u001b[0;34m\u001b[0m\u001b[0m\n\u001b[1;32m    767\u001b[0m             \u001b[0;31m# called before we get here, causing self._jobs to\u001b[0m\u001b[0;34m\u001b[0m\u001b[0;34m\u001b[0m\u001b[0;34m\u001b[0m\u001b[0m\n",
            "\u001b[0;32m/usr/local/lib/python3.6/dist-packages/joblib/_parallel_backends.py\u001b[0m in \u001b[0;36mapply_async\u001b[0;34m(self, func, callback)\u001b[0m\n\u001b[1;32m    206\u001b[0m     \u001b[0;32mdef\u001b[0m \u001b[0mapply_async\u001b[0m\u001b[0;34m(\u001b[0m\u001b[0mself\u001b[0m\u001b[0;34m,\u001b[0m \u001b[0mfunc\u001b[0m\u001b[0;34m,\u001b[0m \u001b[0mcallback\u001b[0m\u001b[0;34m=\u001b[0m\u001b[0;32mNone\u001b[0m\u001b[0;34m)\u001b[0m\u001b[0;34m:\u001b[0m\u001b[0;34m\u001b[0m\u001b[0;34m\u001b[0m\u001b[0m\n\u001b[1;32m    207\u001b[0m         \u001b[0;34m\"\"\"Schedule a func to be run\"\"\"\u001b[0m\u001b[0;34m\u001b[0m\u001b[0;34m\u001b[0m\u001b[0m\n\u001b[0;32m--> 208\u001b[0;31m         \u001b[0mresult\u001b[0m \u001b[0;34m=\u001b[0m \u001b[0mImmediateResult\u001b[0m\u001b[0;34m(\u001b[0m\u001b[0mfunc\u001b[0m\u001b[0;34m)\u001b[0m\u001b[0;34m\u001b[0m\u001b[0;34m\u001b[0m\u001b[0m\n\u001b[0m\u001b[1;32m    209\u001b[0m         \u001b[0;32mif\u001b[0m \u001b[0mcallback\u001b[0m\u001b[0;34m:\u001b[0m\u001b[0;34m\u001b[0m\u001b[0;34m\u001b[0m\u001b[0m\n\u001b[1;32m    210\u001b[0m             \u001b[0mcallback\u001b[0m\u001b[0;34m(\u001b[0m\u001b[0mresult\u001b[0m\u001b[0;34m)\u001b[0m\u001b[0;34m\u001b[0m\u001b[0;34m\u001b[0m\u001b[0m\n",
            "\u001b[0;32m/usr/local/lib/python3.6/dist-packages/joblib/_parallel_backends.py\u001b[0m in \u001b[0;36m__init__\u001b[0;34m(self, batch)\u001b[0m\n\u001b[1;32m    570\u001b[0m         \u001b[0;31m# Don't delay the application, to avoid keeping the input\u001b[0m\u001b[0;34m\u001b[0m\u001b[0;34m\u001b[0m\u001b[0;34m\u001b[0m\u001b[0m\n\u001b[1;32m    571\u001b[0m         \u001b[0;31m# arguments in memory\u001b[0m\u001b[0;34m\u001b[0m\u001b[0;34m\u001b[0m\u001b[0;34m\u001b[0m\u001b[0m\n\u001b[0;32m--> 572\u001b[0;31m         \u001b[0mself\u001b[0m\u001b[0;34m.\u001b[0m\u001b[0mresults\u001b[0m \u001b[0;34m=\u001b[0m \u001b[0mbatch\u001b[0m\u001b[0;34m(\u001b[0m\u001b[0;34m)\u001b[0m\u001b[0;34m\u001b[0m\u001b[0;34m\u001b[0m\u001b[0m\n\u001b[0m\u001b[1;32m    573\u001b[0m \u001b[0;34m\u001b[0m\u001b[0m\n\u001b[1;32m    574\u001b[0m     \u001b[0;32mdef\u001b[0m \u001b[0mget\u001b[0m\u001b[0;34m(\u001b[0m\u001b[0mself\u001b[0m\u001b[0;34m)\u001b[0m\u001b[0;34m:\u001b[0m\u001b[0;34m\u001b[0m\u001b[0;34m\u001b[0m\u001b[0m\n",
            "\u001b[0;32m/usr/local/lib/python3.6/dist-packages/joblib/parallel.py\u001b[0m in \u001b[0;36m__call__\u001b[0;34m(self)\u001b[0m\n\u001b[1;32m    251\u001b[0m         \u001b[0;32mwith\u001b[0m \u001b[0mparallel_backend\u001b[0m\u001b[0;34m(\u001b[0m\u001b[0mself\u001b[0m\u001b[0;34m.\u001b[0m\u001b[0m_backend\u001b[0m\u001b[0;34m,\u001b[0m \u001b[0mn_jobs\u001b[0m\u001b[0;34m=\u001b[0m\u001b[0mself\u001b[0m\u001b[0;34m.\u001b[0m\u001b[0m_n_jobs\u001b[0m\u001b[0;34m)\u001b[0m\u001b[0;34m:\u001b[0m\u001b[0;34m\u001b[0m\u001b[0;34m\u001b[0m\u001b[0m\n\u001b[1;32m    252\u001b[0m             return [func(*args, **kwargs)\n\u001b[0;32m--> 253\u001b[0;31m                     for func, args, kwargs in self.items]\n\u001b[0m\u001b[1;32m    254\u001b[0m \u001b[0;34m\u001b[0m\u001b[0m\n\u001b[1;32m    255\u001b[0m     \u001b[0;32mdef\u001b[0m \u001b[0m__reduce__\u001b[0m\u001b[0;34m(\u001b[0m\u001b[0mself\u001b[0m\u001b[0;34m)\u001b[0m\u001b[0;34m:\u001b[0m\u001b[0;34m\u001b[0m\u001b[0;34m\u001b[0m\u001b[0m\n",
            "\u001b[0;32m/usr/local/lib/python3.6/dist-packages/joblib/parallel.py\u001b[0m in \u001b[0;36m<listcomp>\u001b[0;34m(.0)\u001b[0m\n\u001b[1;32m    251\u001b[0m         \u001b[0;32mwith\u001b[0m \u001b[0mparallel_backend\u001b[0m\u001b[0;34m(\u001b[0m\u001b[0mself\u001b[0m\u001b[0;34m.\u001b[0m\u001b[0m_backend\u001b[0m\u001b[0;34m,\u001b[0m \u001b[0mn_jobs\u001b[0m\u001b[0;34m=\u001b[0m\u001b[0mself\u001b[0m\u001b[0;34m.\u001b[0m\u001b[0m_n_jobs\u001b[0m\u001b[0;34m)\u001b[0m\u001b[0;34m:\u001b[0m\u001b[0;34m\u001b[0m\u001b[0;34m\u001b[0m\u001b[0m\n\u001b[1;32m    252\u001b[0m             return [func(*args, **kwargs)\n\u001b[0;32m--> 253\u001b[0;31m                     for func, args, kwargs in self.items]\n\u001b[0m\u001b[1;32m    254\u001b[0m \u001b[0;34m\u001b[0m\u001b[0m\n\u001b[1;32m    255\u001b[0m     \u001b[0;32mdef\u001b[0m \u001b[0m__reduce__\u001b[0m\u001b[0;34m(\u001b[0m\u001b[0mself\u001b[0m\u001b[0;34m)\u001b[0m\u001b[0;34m:\u001b[0m\u001b[0;34m\u001b[0m\u001b[0;34m\u001b[0m\u001b[0m\n",
            "\u001b[0;32m/usr/local/lib/python3.6/dist-packages/sklearn/neighbors/_base.py\u001b[0m in \u001b[0;36m_tree_query_parallel_helper\u001b[0;34m(tree, *args, **kwargs)\u001b[0m\n\u001b[1;32m    489\u001b[0m     \u001b[0munder\u001b[0m \u001b[0mPyPy\u001b[0m\u001b[0;34m.\u001b[0m\u001b[0;34m\u001b[0m\u001b[0;34m\u001b[0m\u001b[0m\n\u001b[1;32m    490\u001b[0m     \"\"\"\n\u001b[0;32m--> 491\u001b[0;31m     \u001b[0;32mreturn\u001b[0m \u001b[0mtree\u001b[0m\u001b[0;34m.\u001b[0m\u001b[0mquery\u001b[0m\u001b[0;34m(\u001b[0m\u001b[0;34m*\u001b[0m\u001b[0margs\u001b[0m\u001b[0;34m,\u001b[0m \u001b[0;34m**\u001b[0m\u001b[0mkwargs\u001b[0m\u001b[0;34m)\u001b[0m\u001b[0;34m\u001b[0m\u001b[0;34m\u001b[0m\u001b[0m\n\u001b[0m\u001b[1;32m    492\u001b[0m \u001b[0;34m\u001b[0m\u001b[0m\n\u001b[1;32m    493\u001b[0m \u001b[0;34m\u001b[0m\u001b[0m\n",
            "\u001b[0;31mKeyboardInterrupt\u001b[0m: "
          ]
        }
      ]
    },
    {
      "cell_type": "code",
      "metadata": {
        "id": "t9rKNv3eR_MR",
        "colab_type": "code",
        "colab": {}
      },
      "source": [
        "generate_model_report(y_test,y_knn)"
      ],
      "execution_count": null,
      "outputs": []
    },
    {
      "cell_type": "code",
      "metadata": {
        "id": "2uyVDOLVR_gO",
        "colab_type": "code",
        "colab": {}
      },
      "source": [
        "from yellowbrick.classifier.rocauc import roc_auc\n",
        "roc_auc(knn, X_train, y_train, X_test=X_test, y_test=y_test, classes=[\"Low_damage\",\"Medium_damage\",\"High_damage\"])\n"
      ],
      "execution_count": null,
      "outputs": []
    },
    {
      "cell_type": "code",
      "metadata": {
        "id": "2Y3OyxuGR-rT",
        "colab_type": "code",
        "colab": {}
      },
      "source": [
        "from sklearn.metrics import classification_report\n",
        "print(classification_report(y_test, y_knn, labels=['Low_Damage', 'Medium_Damage', 'High_Damage']))"
      ],
      "execution_count": null,
      "outputs": []
    },
    {
      "cell_type": "code",
      "metadata": {
        "id": "kqlRumBMR-JT",
        "colab_type": "code",
        "colab": {}
      },
      "source": [
        "f1_score(y_test,y_knn,average = \"micro\")"
      ],
      "execution_count": null,
      "outputs": []
    },
    {
      "cell_type": "code",
      "metadata": {
        "id": "H6p0oKMMR-DV",
        "colab_type": "code",
        "colab": {}
      },
      "source": [
        "f1_score(y_test,y_knn,average = \"macro\")"
      ],
      "execution_count": null,
      "outputs": []
    },
    {
      "cell_type": "code",
      "metadata": {
        "id": "YtMxL-MRW8v0",
        "colab_type": "code",
        "colab": {}
      },
      "source": [
        "f1_score(y_test,y_knn,average = \"weighted\")"
      ],
      "execution_count": null,
      "outputs": []
    },
    {
      "cell_type": "code",
      "metadata": {
        "id": "9K1EjokTXu3K",
        "colab_type": "code",
        "colab": {}
      },
      "source": [
        "y_knn_prob = knn.predict_proba(X_test)\n",
        "# brier_score_loss(y_test,y_knn_prob[:,1])"
      ],
      "execution_count": null,
      "outputs": []
    },
    {
      "cell_type": "code",
      "metadata": {
        "id": "98lqF-52Xvfw",
        "colab_type": "code",
        "colab": {}
      },
      "source": [
        "y_knn_prob"
      ],
      "execution_count": null,
      "outputs": []
    },
    {
      "cell_type": "code",
      "metadata": {
        "id": "aXSaJK-EZXwm",
        "colab_type": "code",
        "colab": {}
      },
      "source": [
        "y"
      ],
      "execution_count": null,
      "outputs": []
    },
    {
      "cell_type": "code",
      "metadata": {
        "id": "t42DJwnsXv97",
        "colab_type": "code",
        "colab": {}
      },
      "source": [
        "scoring = make_scorer(f1_score, average = 'micro')\n",
        "\n",
        "from sklearn.model_selection import GridSearchCV\n",
        "parameters={'weights':['distance','uniform'], 'n_neighbors':[3,5,7,9,12,15,20,25]}\n",
        "kn = GridSearchCV(knn, parameters,scoring=scoring, cv=5)\n",
        "kn.fit(X_train,y_train)\n",
        "params = kn.best_params_\n",
        "kn_grid = KNeighborsClassifier()\n",
        "kn_grid.set_params(**params)\n",
        "kn_grid.fit(X_train,y_train)\n",
        "y_grid = kn_grid.predict(X_test)\n"
      ],
      "execution_count": null,
      "outputs": []
    },
    {
      "cell_type": "code",
      "metadata": {
        "id": "u0ZHYytDo3RI",
        "colab_type": "code",
        "colab": {}
      },
      "source": [
        "params"
      ],
      "execution_count": null,
      "outputs": []
    },
    {
      "cell_type": "code",
      "metadata": {
        "id": "VqsB8mL3Xwp-",
        "colab_type": "code",
        "colab": {}
      },
      "source": [
        "generate_model_report(y_test,y_grid)"
      ],
      "execution_count": null,
      "outputs": []
    },
    {
      "cell_type": "code",
      "metadata": {
        "id": "f5a8ug8nXw0J",
        "colab_type": "code",
        "colab": {}
      },
      "source": [
        "from yellowbrick.classifier.rocauc import roc_auc\n",
        "roc_auc(kn_grid, X_train, y_train, X_test=X_test, y_test=y_test, classes=[\"Low_damage\",\"Medium_damage\",\"High_damage\"])\n"
      ],
      "execution_count": null,
      "outputs": []
    },
    {
      "cell_type": "code",
      "metadata": {
        "id": "XvSzrb7-Xww5",
        "colab_type": "code",
        "colab": {
          "base_uri": "https://localhost:8080/",
          "height": 187
        },
        "outputId": "b91a5237-8b07-42a4-e10d-007509f8e39d"
      },
      "source": [
        "from sklearn.metrics import classification_report\n",
        "print(classification_report(y_test, y_grid, labels=['Low_Damage', 'Medium_Damage', 'High_Damage']))"
      ],
      "execution_count": null,
      "outputs": [
        {
          "output_type": "stream",
          "text": [
            "               precision    recall  f1-score   support\n",
            "\n",
            "   Low_Damage       0.58      0.32      0.42     12625\n",
            "Medium_Damage       0.61      0.78      0.68     74156\n",
            "  High_Damage       0.48      0.32      0.38     43520\n",
            "\n",
            "     accuracy                           0.58    130301\n",
            "    macro avg       0.56      0.47      0.49    130301\n",
            " weighted avg       0.56      0.58      0.56    130301\n",
            "\n"
          ],
          "name": "stdout"
        }
      ]
    },
    {
      "cell_type": "markdown",
      "metadata": {
        "id": "IB44j3tREaBo",
        "colab_type": "text"
      },
      "source": [
        "\n",
        "\n",
        "# > **Naive Bayes**\n",
        "\n",
        "\n",
        "\n"
      ]
    },
    {
      "cell_type": "code",
      "metadata": {
        "id": "zNTWmUtvXwSX",
        "colab_type": "code",
        "colab": {
          "base_uri": "https://localhost:8080/",
          "height": 34
        },
        "outputId": "d4d234b4-2833-4ba7-e043-1f81a0f9b0c1"
      },
      "source": [
        "from sklearn.naive_bayes import GaussianNB\n",
        "nb = GaussianNB()\n",
        "nb.fit(X_train,y_train)"
      ],
      "execution_count": null,
      "outputs": [
        {
          "output_type": "execute_result",
          "data": {
            "text/plain": [
              "GaussianNB(priors=None, var_smoothing=1e-09)"
            ]
          },
          "metadata": {
            "tags": []
          },
          "execution_count": 358
        }
      ]
    },
    {
      "cell_type": "code",
      "metadata": {
        "id": "p54qzrcZXwLY",
        "colab_type": "code",
        "colab": {}
      },
      "source": [
        "y_nb = nb.predict(X_test)"
      ],
      "execution_count": null,
      "outputs": []
    },
    {
      "cell_type": "code",
      "metadata": {
        "id": "SQiR3TKeXvmu",
        "colab_type": "code",
        "colab": {
          "base_uri": "https://localhost:8080/",
          "height": 187
        },
        "outputId": "30fde580-8d57-46a0-fc1a-7f2e8a285527"
      },
      "source": [
        "from sklearn.metrics import classification_report\n",
        "print(classification_report(y_test, y_nb, labels=['Low_Damage', 'Medium_Damage', 'High_Damage']))"
      ],
      "execution_count": null,
      "outputs": [
        {
          "output_type": "stream",
          "text": [
            "               precision    recall  f1-score   support\n",
            "\n",
            "   Low_Damage       0.38      0.51      0.44     12625\n",
            "Medium_Damage       0.67      0.08      0.14     74156\n",
            "  High_Damage       0.39      0.93      0.55     43520\n",
            "\n",
            "     accuracy                           0.41    130301\n",
            "    macro avg       0.48      0.51      0.37    130301\n",
            " weighted avg       0.55      0.41      0.31    130301\n",
            "\n"
          ],
          "name": "stdout"
        }
      ]
    },
    {
      "cell_type": "code",
      "metadata": {
        "id": "shCo-UU8XvFH",
        "colab_type": "code",
        "colab": {
          "base_uri": "https://localhost:8080/",
          "height": 393
        },
        "outputId": "4837cbfe-99da-4c89-b58c-a32bb54c5db9"
      },
      "source": [
        "from yellowbrick.classifier.rocauc import roc_auc\n",
        "roc_auc(kn_grid, X_train, y_train, X_test=X_test, y_test=y_test, classes=[\"Low_damage\",\"Medium_damage\",\"High_damage\"])\n"
      ],
      "execution_count": null,
      "outputs": [
        {
          "output_type": "execute_result",
          "data": {
            "text/plain": [
              "<matplotlib.axes._subplots.AxesSubplot at 0x7f01bb9a70f0>"
            ]
          },
          "metadata": {
            "tags": []
          },
          "execution_count": 361
        },
        {
          "output_type": "display_data",
          "data": {
            "image/png": "[encoded data removed]",
            "text/plain": [
              "<Figure size 576x396 with 1 Axes>"
            ]
          },
          "metadata": {
            "tags": []
          }
        }
      ]
    },
    {
      "cell_type": "code",
      "metadata": {
        "id": "1xqCd-hoXu__",
        "colab_type": "code",
        "colab": {
          "base_uri": "https://localhost:8080/",
          "height": 187
        },
        "outputId": "7e613535-66bb-44f2-b50a-8053ad96202e"
      },
      "source": [
        "generate_model_report(y_test,y_nb)"
      ],
      "execution_count": null,
      "outputs": [
        {
          "output_type": "stream",
          "text": [
            "Accuracy =  0.40506212538660485\n",
            "Precision =  0.40506212538660485\n",
            "Recall =  0.40506212538660485\n",
            "F1 Score =  0.4050621253866048\n",
            "Cohen Kappa score=  0.1260720229548492\n",
            "Hamming Loss =  0.5949378746133951\n",
            "Jaccard Score =  0.25396733743299554\n",
            "Matthews correlation coefficient =  0.20021494326095735\n",
            "Zero one loss =  0.5949378746133951\n",
            "Balanced accuracy =  0.5061358962103849\n"
          ],
          "name": "stdout"
        }
      ]
    },
    {
      "cell_type": "code",
      "metadata": {
        "id": "BP4uX80fXuFL",
        "colab_type": "code",
        "colab": {}
      },
      "source": [
        ""
      ],
      "execution_count": null,
      "outputs": []
    },
    {
      "cell_type": "code",
      "metadata": {
        "id": "7tiwJJVRXtu2",
        "colab_type": "code",
        "colab": {}
      },
      "source": [
        ""
      ],
      "execution_count": null,
      "outputs": []
    },
    {
      "cell_type": "markdown",
      "metadata": {
        "id": "9skGUHLsFbdo",
        "colab_type": "text"
      },
      "source": [
        "\n",
        "\n",
        "#> **SVM**\n",
        "\n"
      ]
    },
    {
      "cell_type": "code",
      "metadata": {
        "id": "Il4USczOFlWM",
        "colab_type": "code",
        "colab": {}
      },
      "source": [
        "from sklearn import svm\n",
        "svm = svm.SVC(C=1000)"
      ],
      "execution_count": null,
      "outputs": []
    },
    {
      "cell_type": "code",
      "metadata": {
        "id": "f5LHcncfN_h9",
        "colab_type": "code",
        "colab": {
          "base_uri": "https://localhost:8080/",
          "height": 85
        },
        "outputId": "108eaf4b-e8a6-494b-bc38-ff644e1ae9f7"
      },
      "source": [
        "svm.get_params"
      ],
      "execution_count": null,
      "outputs": [
        {
          "output_type": "execute_result",
          "data": {
            "text/plain": [
              "<bound method BaseEstimator.get_params of SVC(C=1.0, break_ties=False, cache_size=200, class_weight=None, coef0=0.0,\n",
              "    decision_function_shape='ovr', degree=3, gamma='scale', kernel='rbf',\n",
              "    max_iter=-1, probability=False, random_state=None, shrinking=True,\n",
              "    tol=0.001, verbose=False)>"
            ]
          },
          "metadata": {
            "tags": []
          },
          "execution_count": 138
        }
      ]
    },
    {
      "cell_type": "code",
      "metadata": {
        "id": "d0aJMtDTFkZv",
        "colab_type": "code",
        "colab": {}
      },
      "source": [
        "svm.fit(X_train,y_train)\n",
        "y_svm = svm.predict(X_test)"
      ],
      "execution_count": null,
      "outputs": []
    },
    {
      "cell_type": "code",
      "metadata": {
        "id": "CiiPd7nnOpX6",
        "colab_type": "code",
        "colab": {}
      },
      "source": [
        "svm.score(X_train,y_train)"
      ],
      "execution_count": null,
      "outputs": []
    },
    {
      "cell_type": "code",
      "metadata": {
        "id": "VqqlOH8OOttm",
        "colab_type": "code",
        "colab": {}
      },
      "source": [
        "svm.score(X_test,y_test)"
      ],
      "execution_count": null,
      "outputs": []
    },
    {
      "cell_type": "code",
      "metadata": {
        "id": "Rxq5MwkcJohS",
        "colab_type": "code",
        "colab": {}
      },
      "source": [
        "generate_model_report(y_test,y_svm)"
      ],
      "execution_count": null,
      "outputs": []
    },
    {
      "cell_type": "code",
      "metadata": {
        "id": "YF2WPanRJ0gP",
        "colab_type": "code",
        "colab": {
          "base_uri": "https://localhost:8080/",
          "height": 234
        },
        "outputId": "c9f35cc5-bf17-4579-800f-56b1ef8621eb"
      },
      "source": [
        "from yellowbrick.classifier.rocauc import roc_auc\n",
        "roc_auc(svm, X_train, y_train, X_test=X_test, y_test=y_test, classes=[\"Low_damage\",\"Medium_damage\",\"High_damage\"])"
      ],
      "execution_count": null,
      "outputs": [
        {
          "output_type": "stream",
          "text": [
            "/usr/local/lib/python3.6/dist-packages/sklearn/utils/deprecation.py:144: FutureWarning: The sklearn.metrics.classification module is  deprecated in version 0.22 and will be removed in version 0.24. The corresponding classes / functions should instead be imported from sklearn.metrics. Anything that cannot be imported from sklearn.metrics is now part of the private API.\n",
            "  warnings.warn(message, FutureWarning)\n"
          ],
          "name": "stderr"
        },
        {
          "output_type": "error",
          "ename": "NameError",
          "evalue": "ignored",
          "traceback": [
            "\u001b[0;31m---------------------------------------------------------------------------\u001b[0m",
            "\u001b[0;31mNameError\u001b[0m                                 Traceback (most recent call last)",
            "\u001b[0;32m<ipython-input-2-455ab9df1592>\u001b[0m in \u001b[0;36m<module>\u001b[0;34m()\u001b[0m\n\u001b[1;32m      1\u001b[0m \u001b[0;32mfrom\u001b[0m \u001b[0myellowbrick\u001b[0m\u001b[0;34m.\u001b[0m\u001b[0mclassifier\u001b[0m\u001b[0;34m.\u001b[0m\u001b[0mrocauc\u001b[0m \u001b[0;32mimport\u001b[0m \u001b[0mroc_auc\u001b[0m\u001b[0;34m\u001b[0m\u001b[0;34m\u001b[0m\u001b[0m\n\u001b[0;32m----> 2\u001b[0;31m \u001b[0mroc_auc\u001b[0m\u001b[0;34m(\u001b[0m\u001b[0msvm\u001b[0m\u001b[0;34m,\u001b[0m \u001b[0mX_train\u001b[0m\u001b[0;34m,\u001b[0m \u001b[0my_train\u001b[0m\u001b[0;34m,\u001b[0m \u001b[0mX_test\u001b[0m\u001b[0;34m=\u001b[0m\u001b[0mX_test\u001b[0m\u001b[0;34m,\u001b[0m \u001b[0my_test\u001b[0m\u001b[0;34m=\u001b[0m\u001b[0my_test\u001b[0m\u001b[0;34m,\u001b[0m \u001b[0mclasses\u001b[0m\u001b[0;34m=\u001b[0m\u001b[0;34m[\u001b[0m\u001b[0;34m\"Low_damage\"\u001b[0m\u001b[0;34m,\u001b[0m\u001b[0;34m\"Medium_damage\"\u001b[0m\u001b[0;34m,\u001b[0m\u001b[0;34m\"High_damage\"\u001b[0m\u001b[0;34m]\u001b[0m\u001b[0;34m)\u001b[0m\u001b[0;34m\u001b[0m\u001b[0;34m\u001b[0m\u001b[0m\n\u001b[0m",
            "\u001b[0;31mNameError\u001b[0m: name 'svm' is not defined"
          ]
        }
      ]
    },
    {
      "cell_type": "code",
      "metadata": {
        "id": "pTbrggk1Fkpl",
        "colab_type": "code",
        "colab": {}
      },
      "source": [
        "# from sklearn.model_selection import GridSearchCV\n",
        "# parameters={\"C\":[1,10,100,500,1000],'gamma':['auto','scale']}\n",
        "# sv = GridSearchCV(svm, parameters,scoring= 'f1',\n",
        "#  cv=5)\n",
        "# sv.fit(X_train,y_train)\n",
        "# params = sv.best_params_\n",
        "# svm2 = svm.SVC()\n",
        "# svm2.set_params(**params)\n",
        "# svm2.fit(X_train,y_train)\n",
        "# y_grid = svm2.predict(X_test)"
      ],
      "execution_count": null,
      "outputs": []
    },
    {
      "cell_type": "code",
      "metadata": {
        "id": "wC8p3STFFkjz",
        "colab_type": "code",
        "colab": {
          "base_uri": "https://localhost:8080/",
          "height": 163
        },
        "outputId": "ad3f286f-bf6d-45e8-8bec-4d79e2291d9f"
      },
      "source": [
        "# generate_model_report(y_test,y_grid)"
      ],
      "execution_count": null,
      "outputs": [
        {
          "output_type": "error",
          "ename": "NameError",
          "evalue": "ignored",
          "traceback": [
            "\u001b[0;31m---------------------------------------------------------------------------\u001b[0m",
            "\u001b[0;31mNameError\u001b[0m                                 Traceback (most recent call last)",
            "\u001b[0;32m<ipython-input-1-b6e5d8ca5ea0>\u001b[0m in \u001b[0;36m<module>\u001b[0;34m()\u001b[0m\n\u001b[0;32m----> 1\u001b[0;31m \u001b[0mgenerate_model_report\u001b[0m\u001b[0;34m(\u001b[0m\u001b[0my_test\u001b[0m\u001b[0;34m,\u001b[0m\u001b[0my_grid\u001b[0m\u001b[0;34m)\u001b[0m\u001b[0;34m\u001b[0m\u001b[0;34m\u001b[0m\u001b[0m\n\u001b[0m",
            "\u001b[0;31mNameError\u001b[0m: name 'generate_model_report' is not defined"
          ]
        }
      ]
    },
    {
      "cell_type": "code",
      "metadata": {
        "id": "36_NjmHWJrQk",
        "colab_type": "code",
        "colab": {}
      },
      "source": [
        "from yellowbrick.classifier.rocauc import roc_auc\n",
        "# roc_auc(svm2, X_train, y_train, X_test=X_test, y_test=y_test, classes=[\"Low_damage\",\"Medium_damage\",\"High_damage\"])"
      ],
      "execution_count": null,
      "outputs": []
    },
    {
      "cell_type": "markdown",
      "metadata": {
        "id": "gNTkvqImShBn",
        "colab_type": "text"
      },
      "source": [
        "\n",
        "\n",
        "\n",
        "# > **Decision Tree**\n",
        "\n",
        "\n"
      ]
    },
    {
      "cell_type": "code",
      "metadata": {
        "id": "hHLe5zx_QI_N",
        "colab_type": "code",
        "colab": {}
      },
      "source": [
        "from sklearn.tree import DecisionTreeClassifier\n",
        "tree1 = DecisionTreeClassifier(class_weight=\"balanced\")"
      ],
      "execution_count": null,
      "outputs": []
    },
    {
      "cell_type": "code",
      "metadata": {
        "id": "K8JM1S01RDP3",
        "colab_type": "code",
        "colab": {
          "base_uri": "https://localhost:8080/",
          "height": 119
        },
        "outputId": "8b2efad9-5e20-47c9-9bfd-c1189cc44cef"
      },
      "source": [
        "tree1.get_params"
      ],
      "execution_count": null,
      "outputs": [
        {
          "output_type": "execute_result",
          "data": {
            "text/plain": [
              "<bound method BaseEstimator.get_params of DecisionTreeClassifier(ccp_alpha=0.0, class_weight='balanced', criterion='gini',\n",
              "                       max_depth=None, max_features=None, max_leaf_nodes=None,\n",
              "                       min_impurity_decrease=0.0, min_impurity_split=None,\n",
              "                       min_samples_leaf=1, min_samples_split=2,\n",
              "                       min_weight_fraction_leaf=0.0, presort='deprecated',\n",
              "                       random_state=None, splitter='best')>"
            ]
          },
          "metadata": {
            "tags": []
          },
          "execution_count": 62
        }
      ]
    },
    {
      "cell_type": "code",
      "metadata": {
        "id": "G1d901MnQJsx",
        "colab_type": "code",
        "colab": {
          "base_uri": "https://localhost:8080/",
          "height": 119
        },
        "outputId": "1f3ab2c4-b8e3-4d74-ec72-a9d60067b38c"
      },
      "source": [
        "tree1.fit(X_train,y_train)"
      ],
      "execution_count": null,
      "outputs": [
        {
          "output_type": "execute_result",
          "data": {
            "text/plain": [
              "DecisionTreeClassifier(ccp_alpha=0.0, class_weight='balanced', criterion='gini',\n",
              "                       max_depth=None, max_features=None, max_leaf_nodes=None,\n",
              "                       min_impurity_decrease=0.0, min_impurity_split=None,\n",
              "                       min_samples_leaf=1, min_samples_split=2,\n",
              "                       min_weight_fraction_leaf=0.0, presort='deprecated',\n",
              "                       random_state=None, splitter='best')"
            ]
          },
          "metadata": {
            "tags": []
          },
          "execution_count": 63
        }
      ]
    },
    {
      "cell_type": "code",
      "metadata": {
        "id": "HzW17KrxQJ5-",
        "colab_type": "code",
        "colab": {}
      },
      "source": [
        "y_t1 = tree1.predict(X_test)"
      ],
      "execution_count": null,
      "outputs": []
    },
    {
      "cell_type": "code",
      "metadata": {
        "id": "_N0OOnzjQJ1o",
        "colab_type": "code",
        "colab": {
          "base_uri": "https://localhost:8080/",
          "height": 34
        },
        "outputId": "45e8ab29-5ba8-4a62-ec48-46464352d6cd"
      },
      "source": [
        "tree1.score(X_train,y_train)"
      ],
      "execution_count": null,
      "outputs": [
        {
          "output_type": "execute_result",
          "data": {
            "text/plain": [
              "0.823783576362241"
            ]
          },
          "metadata": {
            "tags": []
          },
          "execution_count": 65
        }
      ]
    },
    {
      "cell_type": "code",
      "metadata": {
        "id": "_kttCkKnQJNT",
        "colab_type": "code",
        "colab": {
          "base_uri": "https://localhost:8080/",
          "height": 34
        },
        "outputId": "ed0efeec-0df7-4768-c60b-c7df9d2b8078"
      },
      "source": [
        "tree1.score(X_test,y_test)\n",
        "#POOR Performance"
      ],
      "execution_count": null,
      "outputs": [
        {
          "output_type": "execute_result",
          "data": {
            "text/plain": [
              "0.5044397203398285"
            ]
          },
          "metadata": {
            "tags": []
          },
          "execution_count": 66
        }
      ]
    },
    {
      "cell_type": "code",
      "metadata": {
        "id": "g7ljHDJBQJHn",
        "colab_type": "code",
        "colab": {
          "base_uri": "https://localhost:8080/",
          "height": 68
        },
        "outputId": "2f2870b3-1dfe-4857-fe40-a48eb3b1897d"
      },
      "source": [
        "from sklearn.metrics import confusion_matrix \n",
        "cm = confusion_matrix(y_test, y_t1) \n",
        "cm"
      ],
      "execution_count": null,
      "outputs": [
        {
          "output_type": "execute_result",
          "data": {
            "text/plain": [
              "array([[21878,  2935, 18707],\n",
              "       [ 1948,  5139,  5538],\n",
              "       [26705,  8739, 38712]])"
            ]
          },
          "metadata": {
            "tags": []
          },
          "execution_count": 67
        }
      ]
    },
    {
      "cell_type": "code",
      "metadata": {
        "id": "egGuQF5RQJE4",
        "colab_type": "code",
        "colab": {
          "base_uri": "https://localhost:8080/",
          "height": 187
        },
        "outputId": "58bd5e8e-2606-43de-d5e1-ebd06c8998b7"
      },
      "source": [
        "generate_model_report(y_test,y_t1)"
      ],
      "execution_count": null,
      "outputs": [
        {
          "output_type": "stream",
          "text": [
            "Accuracy =  0.5044397203398285\n",
            "Precision =  0.5044397203398285\n",
            "Recall =  0.5044397203398285\n",
            "F1 Score =  0.5044397203398285\n",
            "Cohen Kappa score=  0.14997890377165846\n",
            "Hamming Loss =  0.49556027966017147\n",
            "Jaccard Score =  0.3372914667501398\n",
            "Matthews correlation coefficient =  0.15156038658546653\n",
            "Zero one loss =  0.49556027966017147\n",
            "Balanced accuracy =  0.4772651772362903\n"
          ],
          "name": "stdout"
        }
      ]
    },
    {
      "cell_type": "code",
      "metadata": {
        "id": "GsLIu7_jQI6C",
        "colab_type": "code",
        "colab": {
          "base_uri": "https://localhost:8080/",
          "height": 393
        },
        "outputId": "ce7f2084-ce7a-4ecc-b5ba-be95aa1c0e9b"
      },
      "source": [
        "from yellowbrick.classifier.rocauc import roc_auc\n",
        "roc_auc(tree1, X_train, y_train, X_test=X_test, y_test=y_test, classes=[\"Low_damage\",\"Medium_damage\",\"High_damage\"])"
      ],
      "execution_count": null,
      "outputs": [
        {
          "output_type": "execute_result",
          "data": {
            "text/plain": [
              "<matplotlib.axes._subplots.AxesSubplot at 0x7fe1efd58f60>"
            ]
          },
          "metadata": {
            "tags": []
          },
          "execution_count": 69
        },
        {
          "output_type": "display_data",
          "data": {
            "image/png": "[encoded data removed]",
            "text/plain": [
              "<Figure size 576x396 with 1 Axes>"
            ]
          },
          "metadata": {
            "tags": []
          }
        }
      ]
    },
    {
      "cell_type": "code",
      "metadata": {
        "id": "QsrKWQy4SyCA",
        "colab_type": "code",
        "colab": {}
      },
      "source": [
        "#class weight balanced didn't improve it!"
      ],
      "execution_count": null,
      "outputs": []
    },
    {
      "cell_type": "code",
      "metadata": {
        "id": "6LIW99uRTRU5",
        "colab_type": "code",
        "colab": {}
      },
      "source": [
        "from sklearn.model_selection import permutation_test_score\n",
        "score, permutation_scores, pvalue = permutation_test_score(\n",
        "    tree1, X_train, y_train, scoring=\"accuracy\", cv=5, n_permutations=20, n_jobs=1)\n",
        "print(\"Classification score %s (pvalue : %s)\" % (score, pvalue))\n"
      ],
      "execution_count": null,
      "outputs": []
    },
    {
      "cell_type": "code",
      "metadata": {
        "id": "DzzbgjwMUBpZ",
        "colab_type": "code",
        "colab": {}
      },
      "source": [
        "scoring = make_scorer(f1_score, average = 'micro')\n"
      ],
      "execution_count": null,
      "outputs": []
    },
    {
      "cell_type": "code",
      "metadata": {
        "id": "iWDUkDFxTdzS",
        "colab_type": "code",
        "colab": {}
      },
      "source": [
        "from yellowbrick.model_selection import LearningCurve\n",
        "visualizer = LearningCurve(\n",
        "    tree1, cv=10, scoring=scoring,verbose = 0\n",
        ")\n",
        "\n",
        "visualizer.fit(X_train, y_train)        # Fit the data to the visualizer\n",
        "visualizer.show()"
      ],
      "execution_count": null,
      "outputs": []
    },
    {
      "cell_type": "markdown",
      "metadata": {
        "id": "qVOUvYLGTEXS",
        "colab_type": "text"
      },
      "source": [
        "\n",
        "\n",
        "# > **Random Forest**\n",
        "\n"
      ]
    },
    {
      "cell_type": "code",
      "metadata": {
        "id": "eXd1YR4STDHT",
        "colab_type": "code",
        "colab": {}
      },
      "source": [
        "from sklearn.ensemble import RandomForestClassifier\n",
        "clf = RandomForestClassifier(oob_score = True,n_estimators=250)"
      ],
      "execution_count": null,
      "outputs": []
    },
    {
      "cell_type": "code",
      "metadata": {
        "id": "C1g3gSTfmb8I",
        "colab_type": "code",
        "colab": {
          "base_uri": "https://localhost:8080/",
          "height": 153
        },
        "outputId": "83ca2a7f-8dd4-4918-c696-37644f9f1c55"
      },
      "source": [
        "clf.get_params"
      ],
      "execution_count": null,
      "outputs": [
        {
          "output_type": "execute_result",
          "data": {
            "text/plain": [
              "<bound method BaseEstimator.get_params of RandomForestClassifier(bootstrap=True, ccp_alpha=0.0, class_weight=None,\n",
              "                       criterion='gini', max_depth=None, max_features='auto',\n",
              "                       max_leaf_nodes=None, max_samples=None,\n",
              "                       min_impurity_decrease=0.0, min_impurity_split=None,\n",
              "                       min_samples_leaf=1, min_samples_split=2,\n",
              "                       min_weight_fraction_leaf=0.0, n_estimators=250,\n",
              "                       n_jobs=None, oob_score=True, random_state=None,\n",
              "                       verbose=0, warm_start=False)>"
            ]
          },
          "metadata": {
            "tags": []
          },
          "execution_count": 69
        }
      ]
    },
    {
      "cell_type": "code",
      "metadata": {
        "id": "9dfpTF_mSyko",
        "colab_type": "code",
        "colab": {}
      },
      "source": [
        "clf.fit(X_train,y_train)\n",
        "y_clf = clf.predict(X_test)\n"
      ],
      "execution_count": null,
      "outputs": []
    },
    {
      "cell_type": "code",
      "metadata": {
        "id": "Ho20S6QbSy2h",
        "colab_type": "code",
        "colab": {
          "base_uri": "https://localhost:8080/",
          "height": 34
        },
        "outputId": "cb9a93fc-49f4-4109-9721-da3773deba5f"
      },
      "source": [
        "clf.score(X_test,y_test)"
      ],
      "execution_count": null,
      "outputs": [
        {
          "output_type": "execute_result",
          "data": {
            "text/plain": [
              "0.5854399778974997"
            ]
          },
          "metadata": {
            "tags": []
          },
          "execution_count": 71
        }
      ]
    },
    {
      "cell_type": "code",
      "metadata": {
        "id": "jenXBRH4Syym",
        "colab_type": "code",
        "colab": {
          "base_uri": "https://localhost:8080/",
          "height": 34
        },
        "outputId": "37648e2f-6d1f-4391-f467-ead2ec316bf4"
      },
      "source": [
        "clf.score(X_train,y_train)"
      ],
      "execution_count": null,
      "outputs": [
        {
          "output_type": "execute_result",
          "data": {
            "text/plain": [
              "0.8348938347403428"
            ]
          },
          "metadata": {
            "tags": []
          },
          "execution_count": 72
        }
      ]
    },
    {
      "cell_type": "code",
      "metadata": {
        "id": "a25AC3xhSyuq",
        "colab_type": "code",
        "colab": {
          "base_uri": "https://localhost:8080/",
          "height": 187
        },
        "outputId": "a2ffd86a-909c-4f91-ab71-185a59d6527b"
      },
      "source": [
        "generate_model_report(y_test,y_clf)"
      ],
      "execution_count": null,
      "outputs": [
        {
          "output_type": "stream",
          "text": [
            "Accuracy =  0.5854399778974997\n",
            "Precision =  0.5854399778974997\n",
            "Recall =  0.5854399778974997\n",
            "F1 Score =  0.5854399778974997\n",
            "Cohen Kappa score=  0.2001095991310582\n",
            "Hamming Loss =  0.41456002210250037\n",
            "Jaccard Score =  0.4138671875\n",
            "Matthews correlation coefficient =  0.20635310359576614\n",
            "Zero one loss =  0.4145600221025003\n",
            "Balanced accuracy =  0.4914613358408039\n"
          ],
          "name": "stdout"
        }
      ]
    },
    {
      "cell_type": "code",
      "metadata": {
        "id": "rxSQ-0O2SyNr",
        "colab_type": "code",
        "colab": {
          "base_uri": "https://localhost:8080/",
          "height": 34
        },
        "outputId": "1023b303-c1e8-44b9-c139-894c5e632c24"
      },
      "source": [
        "clf.oob_score_"
      ],
      "execution_count": null,
      "outputs": [
        {
          "output_type": "execute_result",
          "data": {
            "text/plain": [
              "0.5806088513686365"
            ]
          },
          "metadata": {
            "tags": []
          },
          "execution_count": 74
        }
      ]
    },
    {
      "cell_type": "code",
      "metadata": {
        "id": "4s3yC1AYU5B_",
        "colab_type": "code",
        "colab": {
          "base_uri": "https://localhost:8080/",
          "height": 447
        },
        "outputId": "398f1304-7fb5-4e3a-9efd-55d8890963cf"
      },
      "source": [
        "from yellowbrick.classifier.rocauc import roc_auc\n",
        "roc_auc(clf, X_train, y_train, X_test=X_test, y_test=y_test, classes=[\"Low_damage\",\"Medium_damage\",\"High_damage\"])"
      ],
      "execution_count": null,
      "outputs": [
        {
          "output_type": "stream",
          "text": [
            "/usr/local/lib/python3.6/dist-packages/sklearn/utils/deprecation.py:144: FutureWarning: The sklearn.metrics.classification module is  deprecated in version 0.22 and will be removed in version 0.24. The corresponding classes / functions should instead be imported from sklearn.metrics. Anything that cannot be imported from sklearn.metrics is now part of the private API.\n",
            "  warnings.warn(message, FutureWarning)\n"
          ],
          "name": "stderr"
        },
        {
          "output_type": "execute_result",
          "data": {
            "text/plain": [
              "<matplotlib.axes._subplots.AxesSubplot at 0x7f23b9f16048>"
            ]
          },
          "metadata": {
            "tags": []
          },
          "execution_count": 59
        },
        {
          "output_type": "display_data",
          "data": {
            "image/png": "[encoded data removed]",
            "text/plain": [
              "<Figure size 576x396 with 1 Axes>"
            ]
          },
          "metadata": {
            "tags": []
          }
        }
      ]
    },
    {
      "cell_type": "code",
      "metadata": {
        "id": "SxhOCbl0SyIl",
        "colab_type": "code",
        "colab": {}
      },
      "source": [
        "# from sklearn.model_selection import permutation_test_score\n",
        "# score, permutation_scores, pvalue = permutation_test_score(\n",
        "#     clf, X_train, y_train, scoring=\"accuracy\", cv=2, n_permutations=10, n_jobs=1)\n",
        "# print(\"Classification score %s (pvalue : %s)\" % (score, pvalue))"
      ],
      "execution_count": null,
      "outputs": []
    },
    {
      "cell_type": "code",
      "metadata": {
        "id": "JqUMXw51fNnU",
        "colab_type": "code",
        "colab": {}
      },
      "source": [
        "scoring = make_scorer(f1_score,average='micro')"
      ],
      "execution_count": null,
      "outputs": []
    },
    {
      "cell_type": "code",
      "metadata": {
        "id": "mF9NyITSQI22",
        "colab_type": "code",
        "colab": {
          "base_uri": "https://localhost:8080/",
          "height": 666
        },
        "outputId": "008edee3-c825-4ce0-8b89-1f03c0036b60"
      },
      "source": [
        "from yellowbrick.model_selection import LearningCurve\n",
        "visualizer = LearningCurve( clf, cv=10, scoring=scoring,verbose = 0 ) \n",
        "visualizer.fit(X_train, y_train)        # Fit the data to the visualizer \n",
        "visualizer.show()\n"
      ],
      "execution_count": null,
      "outputs": [
        {
          "output_type": "stream",
          "text": [
            "/usr/local/lib/python3.6/dist-packages/sklearn/base.py:197: FutureWarning: From version 0.24, get_params will raise an AttributeError if a parameter cannot be retrieved as an instance attribute. Previously it would return None.\n",
            "  FutureWarning)\n"
          ],
          "name": "stderr"
        },
        {
          "output_type": "error",
          "ename": "AttributeError",
          "evalue": "ignored",
          "traceback": [
            "\u001b[0;31m---------------------------------------------------------------------------\u001b[0m",
            "\u001b[0;31mAttributeError\u001b[0m                            Traceback (most recent call last)",
            "\u001b[0;32m<ipython-input-64-2e33c2ebc8f8>\u001b[0m in \u001b[0;36m<module>\u001b[0;34m()\u001b[0m\n\u001b[1;32m      2\u001b[0m \u001b[0mvisualizer\u001b[0m \u001b[0;34m=\u001b[0m \u001b[0mLearningCurve\u001b[0m\u001b[0;34m(\u001b[0m \u001b[0mclf\u001b[0m\u001b[0;34m,\u001b[0m \u001b[0mcv\u001b[0m\u001b[0;34m=\u001b[0m\u001b[0;36m10\u001b[0m\u001b[0;34m,\u001b[0m \u001b[0mscoring\u001b[0m\u001b[0;34m=\u001b[0m\u001b[0mscoring\u001b[0m\u001b[0;34m,\u001b[0m\u001b[0mverbose\u001b[0m \u001b[0;34m=\u001b[0m \u001b[0;36m0\u001b[0m \u001b[0;34m)\u001b[0m\u001b[0;34m\u001b[0m\u001b[0;34m\u001b[0m\u001b[0m\n\u001b[1;32m      3\u001b[0m \u001b[0mvisualizer\u001b[0m\u001b[0;34m.\u001b[0m\u001b[0mfit\u001b[0m\u001b[0;34m(\u001b[0m\u001b[0mX_train\u001b[0m\u001b[0;34m,\u001b[0m \u001b[0my_train\u001b[0m\u001b[0;34m)\u001b[0m        \u001b[0;31m# Fit the data to the visualizer\u001b[0m\u001b[0;34m\u001b[0m\u001b[0;34m\u001b[0m\u001b[0m\n\u001b[0;32m----> 4\u001b[0;31m \u001b[0mvisualizer\u001b[0m\u001b[0;34m.\u001b[0m\u001b[0mshow\u001b[0m\u001b[0;34m(\u001b[0m\u001b[0;34m)\u001b[0m\u001b[0;34m\u001b[0m\u001b[0;34m\u001b[0m\u001b[0m\n\u001b[0m",
            "\u001b[0;32m/usr/local/lib/python3.6/dist-packages/yellowbrick/utils/wrapper.py\u001b[0m in \u001b[0;36m__getattr__\u001b[0;34m(self, attr)\u001b[0m\n\u001b[1;32m     40\u001b[0m     \u001b[0;32mdef\u001b[0m \u001b[0m__getattr__\u001b[0m\u001b[0;34m(\u001b[0m\u001b[0mself\u001b[0m\u001b[0;34m,\u001b[0m \u001b[0mattr\u001b[0m\u001b[0;34m)\u001b[0m\u001b[0;34m:\u001b[0m\u001b[0;34m\u001b[0m\u001b[0;34m\u001b[0m\u001b[0m\n\u001b[1;32m     41\u001b[0m         \u001b[0;31m# proxy to the wrapped object\u001b[0m\u001b[0;34m\u001b[0m\u001b[0;34m\u001b[0m\u001b[0;34m\u001b[0m\u001b[0m\n\u001b[0;32m---> 42\u001b[0;31m         \u001b[0;32mreturn\u001b[0m \u001b[0mgetattr\u001b[0m\u001b[0;34m(\u001b[0m\u001b[0mself\u001b[0m\u001b[0;34m.\u001b[0m\u001b[0m_wrapped\u001b[0m\u001b[0;34m,\u001b[0m \u001b[0mattr\u001b[0m\u001b[0;34m)\u001b[0m\u001b[0;34m\u001b[0m\u001b[0;34m\u001b[0m\u001b[0m\n\u001b[0m",
            "\u001b[0;31mAttributeError\u001b[0m: 'RandomForestClassifier' object has no attribute 'show'"
          ]
        },
        {
          "output_type": "display_data",
          "data": {
            "image/png": "[encoded data removed]",
            "text/plain": [
              "<Figure size 576x396 with 1 Axes>"
            ]
          },
          "metadata": {
            "tags": []
          }
        }
      ]
    },
    {
      "cell_type": "code",
      "metadata": {
        "id": "e1vijlmYQI0M",
        "colab_type": "code",
        "colab": {
          "base_uri": "https://localhost:8080/",
          "height": 361
        },
        "outputId": "0d2f0ac2-ebe1-4c1c-f816-50c9803be384"
      },
      "source": [
        "from sklearn.metrics import plot_confusion_matrix\n",
        "plot_confusion_matrix(clf, X_test, y_test)  # doctest: +SKIP\n",
        "plt.show()  # doctest: +SKIP"
      ],
      "execution_count": null,
      "outputs": [
        {
          "output_type": "display_data",
          "data": {
            "image/png": "[encoded data removed]",
            "text/plain": [
              "<Figure size 576x396 with 2 Axes>"
            ]
          },
          "metadata": {
            "tags": []
          }
        }
      ]
    },
    {
      "cell_type": "code",
      "metadata": {
        "id": "XXMgzYWmUyly",
        "colab_type": "code",
        "colab": {
          "base_uri": "https://localhost:8080/",
          "height": 187
        },
        "outputId": "893ef7ca-e98c-4937-c029-85f6fac328de"
      },
      "source": [
        "from sklearn.metrics import classification_report\n",
        "print(classification_report(y_test, y_clf, labels=['Low_Damage', 'Medium_Damage', 'High_Damage']))"
      ],
      "execution_count": null,
      "outputs": [
        {
          "output_type": "stream",
          "text": [
            "               precision    recall  f1-score   support\n",
            "\n",
            "   Low_Damage       0.53      0.36      0.43      6246\n",
            "Medium_Damage       0.62      0.75      0.68     36968\n",
            "  High_Damage       0.50      0.36      0.42     21937\n",
            "\n",
            "     accuracy                           0.58     65151\n",
            "    macro avg       0.55      0.49      0.51     65151\n",
            " weighted avg       0.57      0.58      0.57     65151\n",
            "\n"
          ],
          "name": "stdout"
        }
      ]
    },
    {
      "cell_type": "code",
      "metadata": {
        "id": "jAtDphFdUyrY",
        "colab_type": "code",
        "colab": {
          "base_uri": "https://localhost:8080/",
          "height": 221
        },
        "outputId": "b6967a59-7724-49ac-ae0c-9c55dc603395"
      },
      "source": [
        "y"
      ],
      "execution_count": null,
      "outputs": [
        {
          "output_type": "execute_result",
          "data": {
            "text/plain": [
              "0           High_Damage\n",
              "1         Medium_Damage\n",
              "2           High_Damage\n",
              "3         Medium_Damage\n",
              "4           High_Damage\n",
              "              ...      \n",
              "260596    Medium_Damage\n",
              "260597      High_Damage\n",
              "260598      High_Damage\n",
              "260599    Medium_Damage\n",
              "260600      High_Damage\n",
              "Name: damage_grade, Length: 260601, dtype: object"
            ]
          },
          "metadata": {
            "tags": []
          },
          "execution_count": 86
        }
      ]
    },
    {
      "cell_type": "code",
      "metadata": {
        "id": "5SFgCO4FUyfX",
        "colab_type": "code",
        "colab": {}
      },
      "source": [
        ""
      ],
      "execution_count": null,
      "outputs": []
    },
    {
      "cell_type": "markdown",
      "metadata": {
        "id": "rl3rQ_62VSKR",
        "colab_type": "text"
      },
      "source": [
        "\n",
        "\n",
        "# > **XGBOOST CLASSIFIER**\n",
        "\n"
      ]
    },
    {
      "cell_type": "code",
      "metadata": {
        "id": "xUMriL4WUzt8",
        "colab_type": "code",
        "colab": {}
      },
      "source": [
        "from xgboost import XGBClassifier\n",
        "xgb = XGBClassifier(tree_method = 'hist', min_child_weight = 3, n_estimators =250 , learning_rate=0.05,max_depth=15, reg_lambda=0, class_weight=\"balanced\",num_parallel_tree=3,grow_policy = \"lossguide\" )"
      ],
      "execution_count": null,
      "outputs": []
    },
    {
      "cell_type": "code",
      "metadata": {
        "id": "tU0rADrExUrK",
        "colab_type": "code",
        "colab": {}
      },
      "source": [
        "# parameters = {'learning_rate': [0.05,0.1,0.3], #so called `eta` value\n",
        "#               'max_depth': [10,15,20],\n",
        "#               'min_child_weight': [1,5],              \n",
        "          \n",
        "#               'n_estimators': [150,200,250,300],\n",
        "#                }"
      ],
      "execution_count": null,
      "outputs": []
    },
    {
      "cell_type": "code",
      "metadata": {
        "id": "U-05dqSTtjC_",
        "colab_type": "code",
        "colab": {}
      },
      "source": [
        "# from sklearn.utils import class_weight\n",
        "# class_weights = list(class_weight.compute_class_weight('balanced',\n",
        "#                                              np.unique(y_train),\n",
        "#                                              y_train))\n",
        "\n",
        "# w_array = np.ones(y_train.shape[0], dtype = 'float')\n",
        "# for i, val in enumerate(y_train):\n",
        "#     w_array[i] = class_weights[val-1]\n",
        "\n",
        "# xgb.fit(X_train, y_train, sample_weight=w_array)\n",
        "\n",
        "\n",
        "# sample_weight=compute_sample_weight(\"balanced\", y)"
      ],
      "execution_count": null,
      "outputs": []
    },
    {
      "cell_type": "code",
      "metadata": {
        "id": "IUhmmXRycNkk",
        "colab_type": "code",
        "colab": {}
      },
      "source": [
        ""
      ],
      "execution_count": null,
      "outputs": []
    },
    {
      "cell_type": "code",
      "metadata": {
        "id": "fRseZlC9Uz6_",
        "colab_type": "code",
        "colab": {
          "base_uri": "https://localhost:8080/",
          "height": 153
        },
        "outputId": "21b03fc9-56e5-4515-da4a-11190db813d6"
      },
      "source": [
        "xgb.fit(X_train,y_train)"
      ],
      "execution_count": null,
      "outputs": [
        {
          "output_type": "execute_result",
          "data": {
            "text/plain": [
              "XGBClassifier(base_score=0.5, booster='gbtree', class_weight='balanced',\n",
              "              colsample_bylevel=1, colsample_bynode=1, colsample_bytree=1,\n",
              "              gamma=0, grow_policy='lossguide', learning_rate=0.05,\n",
              "              max_delta_step=0, max_depth=15, min_child_weight=3, missing=None,\n",
              "              n_estimators=250, n_jobs=1, nthread=None, num_parallel_tree=3,\n",
              "              objective='multi:softprob', random_state=0, reg_alpha=0,\n",
              "              reg_lambda=0, scale_pos_weight=1, seed=None, silent=None,\n",
              "              subsample=1, tree_method='hist', verbosity=1)"
            ]
          },
          "metadata": {
            "tags": []
          },
          "execution_count": 123
        }
      ]
    },
    {
      "cell_type": "code",
      "metadata": {
        "id": "kxor2y92Uz1m",
        "colab_type": "code",
        "colab": {}
      },
      "source": [
        "y_xgb = xgb.predict(X_test)"
      ],
      "execution_count": null,
      "outputs": []
    },
    {
      "cell_type": "code",
      "metadata": {
        "id": "EELkWFnOUzlI",
        "colab_type": "code",
        "colab": {
          "base_uri": "https://localhost:8080/",
          "height": 34
        },
        "outputId": "bc369352-d645-49e5-9aaf-610cda3e5a42"
      },
      "source": [
        "xgb.score(X_test,y_test)"
      ],
      "execution_count": null,
      "outputs": [
        {
          "output_type": "execute_result",
          "data": {
            "text/plain": [
              "0.6112198303979126"
            ]
          },
          "metadata": {
            "tags": []
          },
          "execution_count": 125
        }
      ]
    },
    {
      "cell_type": "code",
      "metadata": {
        "id": "xrQLyEUDUycU",
        "colab_type": "code",
        "colab": {
          "base_uri": "https://localhost:8080/",
          "height": 34
        },
        "outputId": "87bf9976-6f60-4782-9d1e-d3eec12a6fcc"
      },
      "source": [
        "xgb.score(X_train,y_train)"
      ],
      "execution_count": null,
      "outputs": [
        {
          "output_type": "execute_result",
          "data": {
            "text/plain": [
              "0.7204826468832608"
            ]
          },
          "metadata": {
            "tags": []
          },
          "execution_count": 126
        }
      ]
    },
    {
      "cell_type": "code",
      "metadata": {
        "id": "qsya9T6fVnGX",
        "colab_type": "code",
        "colab": {
          "base_uri": "https://localhost:8080/",
          "height": 187
        },
        "outputId": "d2da984f-b7b9-4c38-f489-4b3918f969a9"
      },
      "source": [
        "generate_model_report(y_test,y_xgb)"
      ],
      "execution_count": null,
      "outputs": [
        {
          "output_type": "stream",
          "text": [
            "Accuracy =  0.6112198303979126\n",
            "Precision =  0.6112198303979126\n",
            "Recall =  0.6112198303979126\n",
            "F1 Score =  0.6112198303979126\n",
            "Cohen Kappa score=  0.22283132913134696\n",
            "Hamming Loss =  0.3887801696020874\n",
            "Jaccard Score =  0.4401127289807421\n",
            "Matthews correlation coefficient =  0.24282738732519954\n",
            "Zero one loss =  0.3887801696020874\n",
            "Balanced accuracy =  0.49823781956443486\n"
          ],
          "name": "stdout"
        }
      ]
    },
    {
      "cell_type": "code",
      "metadata": {
        "id": "zw2SWX3iVnym",
        "colab_type": "code",
        "colab": {
          "base_uri": "https://localhost:8080/",
          "height": 280
        },
        "outputId": "765a430b-9135-4712-9d87-a08a6738339e"
      },
      "source": [
        "from sklearn.metrics import plot_confusion_matrix\n",
        "plot_confusion_matrix(xgb, X_test, y_test)  # doctest: +SKIP\n",
        "plt.show()  # doctest: +SKIP"
      ],
      "execution_count": null,
      "outputs": [
        {
          "output_type": "display_data",
          "data": {
            "image/png": "[encoded data removed]",
            "text/plain": [
              "<Figure size 432x288 with 2 Axes>"
            ]
          },
          "metadata": {
            "tags": [],
            "needs_background": "light"
          }
        }
      ]
    },
    {
      "cell_type": "code",
      "metadata": {
        "id": "IcBuSaDmVn2j",
        "colab_type": "code",
        "colab": {
          "base_uri": "https://localhost:8080/",
          "height": 34
        },
        "outputId": "f0aef6c7-72bb-422f-d975-fa8a42ac2cab"
      },
      "source": [
        "f1_score(y_test,y_xgb,average=\"micro\")"
      ],
      "execution_count": null,
      "outputs": [
        {
          "output_type": "execute_result",
          "data": {
            "text/plain": [
              "0.6112198303979126"
            ]
          },
          "metadata": {
            "tags": []
          },
          "execution_count": 129
        }
      ]
    },
    {
      "cell_type": "code",
      "metadata": {
        "trusted": true,
        "id": "mOxy5FXUNfY3",
        "colab_type": "code",
        "colab": {
          "base_uri": "https://localhost:8080/",
          "height": 224
        },
        "outputId": "bbb6a964-a1bc-4800-8730-dcd2b1205582"
      },
      "source": [
        "df3.head()"
      ],
      "execution_count": null,
      "outputs": [
        {
          "output_type": "execute_result",
          "data": {
            "text/html": [
              "<div>\n",
              "<style scoped>\n",
              "    .dataframe tbody tr th:only-of-type {\n",
              "        vertical-align: middle;\n",
              "    }\n",
              "\n",
              "    .dataframe tbody tr th {\n",
              "        vertical-align: top;\n",
              "    }\n",
              "\n",
              "    .dataframe thead th {\n",
              "        text-align: right;\n",
              "    }\n",
              "</style>\n",
              "<table border=\"1\" class=\"dataframe\">\n",
              "  <thead>\n",
              "    <tr style=\"text-align: right;\">\n",
              "      <th></th>\n",
              "      <th>building_id</th>\n",
              "      <th>geo_level_1_id</th>\n",
              "      <th>geo_level_2_id</th>\n",
              "      <th>geo_level_3_id</th>\n",
              "      <th>count_floors_pre_eq</th>\n",
              "      <th>age</th>\n",
              "      <th>area_percentage</th>\n",
              "      <th>height_percentage</th>\n",
              "      <th>land_surface_condition</th>\n",
              "      <th>foundation_type</th>\n",
              "      <th>roof_type</th>\n",
              "      <th>ground_floor_type</th>\n",
              "      <th>other_floor_type</th>\n",
              "      <th>position</th>\n",
              "      <th>plan_configuration</th>\n",
              "      <th>has_superstructure_adobe_mud</th>\n",
              "      <th>has_superstructure_mud_mortar_stone</th>\n",
              "      <th>has_superstructure_stone_flag</th>\n",
              "      <th>has_superstructure_cement_mortar_stone</th>\n",
              "      <th>has_superstructure_mud_mortar_brick</th>\n",
              "      <th>has_superstructure_cement_mortar_brick</th>\n",
              "      <th>has_superstructure_timber</th>\n",
              "      <th>has_superstructure_bamboo</th>\n",
              "      <th>has_superstructure_rc_non_engineered</th>\n",
              "      <th>has_superstructure_rc_engineered</th>\n",
              "      <th>has_superstructure_other</th>\n",
              "      <th>legal_ownership_status</th>\n",
              "      <th>count_families</th>\n",
              "      <th>has_secondary_use</th>\n",
              "      <th>has_secondary_use_agriculture</th>\n",
              "      <th>has_secondary_use_hotel</th>\n",
              "      <th>has_secondary_use_rental</th>\n",
              "      <th>has_secondary_use_institution</th>\n",
              "      <th>has_secondary_use_school</th>\n",
              "      <th>has_secondary_use_industry</th>\n",
              "      <th>has_secondary_use_health_post</th>\n",
              "      <th>has_secondary_use_gov_office</th>\n",
              "      <th>has_secondary_use_use_police</th>\n",
              "      <th>has_secondary_use_other</th>\n",
              "    </tr>\n",
              "  </thead>\n",
              "  <tbody>\n",
              "    <tr>\n",
              "      <th>0</th>\n",
              "      <td>300051</td>\n",
              "      <td>17</td>\n",
              "      <td>596</td>\n",
              "      <td>11307</td>\n",
              "      <td>3</td>\n",
              "      <td>20</td>\n",
              "      <td>7</td>\n",
              "      <td>6</td>\n",
              "      <td>t</td>\n",
              "      <td>r</td>\n",
              "      <td>n</td>\n",
              "      <td>f</td>\n",
              "      <td>q</td>\n",
              "      <td>s</td>\n",
              "      <td>d</td>\n",
              "      <td>0</td>\n",
              "      <td>1</td>\n",
              "      <td>0</td>\n",
              "      <td>0</td>\n",
              "      <td>0</td>\n",
              "      <td>0</td>\n",
              "      <td>0</td>\n",
              "      <td>0</td>\n",
              "      <td>0</td>\n",
              "      <td>0</td>\n",
              "      <td>0</td>\n",
              "      <td>v</td>\n",
              "      <td>1</td>\n",
              "      <td>0</td>\n",
              "      <td>0</td>\n",
              "      <td>0</td>\n",
              "      <td>0</td>\n",
              "      <td>0</td>\n",
              "      <td>0</td>\n",
              "      <td>0</td>\n",
              "      <td>0</td>\n",
              "      <td>0</td>\n",
              "      <td>0</td>\n",
              "      <td>0</td>\n",
              "    </tr>\n",
              "    <tr>\n",
              "      <th>1</th>\n",
              "      <td>99355</td>\n",
              "      <td>6</td>\n",
              "      <td>141</td>\n",
              "      <td>11987</td>\n",
              "      <td>2</td>\n",
              "      <td>25</td>\n",
              "      <td>13</td>\n",
              "      <td>5</td>\n",
              "      <td>t</td>\n",
              "      <td>r</td>\n",
              "      <td>n</td>\n",
              "      <td>f</td>\n",
              "      <td>q</td>\n",
              "      <td>s</td>\n",
              "      <td>d</td>\n",
              "      <td>0</td>\n",
              "      <td>1</td>\n",
              "      <td>0</td>\n",
              "      <td>0</td>\n",
              "      <td>0</td>\n",
              "      <td>0</td>\n",
              "      <td>0</td>\n",
              "      <td>0</td>\n",
              "      <td>0</td>\n",
              "      <td>0</td>\n",
              "      <td>0</td>\n",
              "      <td>v</td>\n",
              "      <td>1</td>\n",
              "      <td>1</td>\n",
              "      <td>1</td>\n",
              "      <td>0</td>\n",
              "      <td>0</td>\n",
              "      <td>0</td>\n",
              "      <td>0</td>\n",
              "      <td>0</td>\n",
              "      <td>0</td>\n",
              "      <td>0</td>\n",
              "      <td>0</td>\n",
              "      <td>0</td>\n",
              "    </tr>\n",
              "    <tr>\n",
              "      <th>2</th>\n",
              "      <td>890251</td>\n",
              "      <td>22</td>\n",
              "      <td>19</td>\n",
              "      <td>10044</td>\n",
              "      <td>2</td>\n",
              "      <td>5</td>\n",
              "      <td>4</td>\n",
              "      <td>5</td>\n",
              "      <td>t</td>\n",
              "      <td>r</td>\n",
              "      <td>n</td>\n",
              "      <td>f</td>\n",
              "      <td>q</td>\n",
              "      <td>s</td>\n",
              "      <td>d</td>\n",
              "      <td>0</td>\n",
              "      <td>1</td>\n",
              "      <td>0</td>\n",
              "      <td>0</td>\n",
              "      <td>0</td>\n",
              "      <td>0</td>\n",
              "      <td>0</td>\n",
              "      <td>0</td>\n",
              "      <td>0</td>\n",
              "      <td>0</td>\n",
              "      <td>0</td>\n",
              "      <td>v</td>\n",
              "      <td>1</td>\n",
              "      <td>0</td>\n",
              "      <td>0</td>\n",
              "      <td>0</td>\n",
              "      <td>0</td>\n",
              "      <td>0</td>\n",
              "      <td>0</td>\n",
              "      <td>0</td>\n",
              "      <td>0</td>\n",
              "      <td>0</td>\n",
              "      <td>0</td>\n",
              "      <td>0</td>\n",
              "    </tr>\n",
              "    <tr>\n",
              "      <th>3</th>\n",
              "      <td>745817</td>\n",
              "      <td>26</td>\n",
              "      <td>39</td>\n",
              "      <td>633</td>\n",
              "      <td>1</td>\n",
              "      <td>0</td>\n",
              "      <td>19</td>\n",
              "      <td>3</td>\n",
              "      <td>t</td>\n",
              "      <td>r</td>\n",
              "      <td>x</td>\n",
              "      <td>v</td>\n",
              "      <td>j</td>\n",
              "      <td>t</td>\n",
              "      <td>d</td>\n",
              "      <td>0</td>\n",
              "      <td>0</td>\n",
              "      <td>0</td>\n",
              "      <td>0</td>\n",
              "      <td>0</td>\n",
              "      <td>1</td>\n",
              "      <td>0</td>\n",
              "      <td>0</td>\n",
              "      <td>0</td>\n",
              "      <td>0</td>\n",
              "      <td>0</td>\n",
              "      <td>v</td>\n",
              "      <td>2</td>\n",
              "      <td>1</td>\n",
              "      <td>0</td>\n",
              "      <td>0</td>\n",
              "      <td>1</td>\n",
              "      <td>0</td>\n",
              "      <td>0</td>\n",
              "      <td>0</td>\n",
              "      <td>0</td>\n",
              "      <td>0</td>\n",
              "      <td>0</td>\n",
              "      <td>0</td>\n",
              "    </tr>\n",
              "    <tr>\n",
              "      <th>4</th>\n",
              "      <td>421793</td>\n",
              "      <td>17</td>\n",
              "      <td>289</td>\n",
              "      <td>7970</td>\n",
              "      <td>3</td>\n",
              "      <td>15</td>\n",
              "      <td>8</td>\n",
              "      <td>7</td>\n",
              "      <td>t</td>\n",
              "      <td>r</td>\n",
              "      <td>q</td>\n",
              "      <td>f</td>\n",
              "      <td>q</td>\n",
              "      <td>t</td>\n",
              "      <td>d</td>\n",
              "      <td>0</td>\n",
              "      <td>1</td>\n",
              "      <td>0</td>\n",
              "      <td>0</td>\n",
              "      <td>0</td>\n",
              "      <td>0</td>\n",
              "      <td>0</td>\n",
              "      <td>0</td>\n",
              "      <td>0</td>\n",
              "      <td>0</td>\n",
              "      <td>0</td>\n",
              "      <td>v</td>\n",
              "      <td>1</td>\n",
              "      <td>0</td>\n",
              "      <td>0</td>\n",
              "      <td>0</td>\n",
              "      <td>0</td>\n",
              "      <td>0</td>\n",
              "      <td>0</td>\n",
              "      <td>0</td>\n",
              "      <td>0</td>\n",
              "      <td>0</td>\n",
              "      <td>0</td>\n",
              "      <td>0</td>\n",
              "    </tr>\n",
              "  </tbody>\n",
              "</table>\n",
              "</div>"
            ],
            "text/plain": [
              "   building_id  ...  has_secondary_use_other\n",
              "0       300051  ...                        0\n",
              "1        99355  ...                        0\n",
              "2       890251  ...                        0\n",
              "3       745817  ...                        0\n",
              "4       421793  ...                        0\n",
              "\n",
              "[5 rows x 39 columns]"
            ]
          },
          "metadata": {
            "tags": []
          },
          "execution_count": 130
        }
      ]
    },
    {
      "cell_type": "code",
      "metadata": {
        "id": "vQggtt24oMNK",
        "colab_type": "code",
        "colab": {}
      },
      "source": [
        "y_ans = xgb.predict(test)"
      ],
      "execution_count": null,
      "outputs": []
    },
    {
      "cell_type": "code",
      "metadata": {
        "id": "wcIoG8AtlSiI",
        "colab_type": "code",
        "colab": {}
      },
      "source": [
        "df5 = pd.DataFrame()\n",
        "df5['building_id'] = df3['building_id']\n"
      ],
      "execution_count": null,
      "outputs": []
    },
    {
      "cell_type": "code",
      "metadata": {
        "id": "XwNDopOUllAD",
        "colab_type": "code",
        "colab": {
          "base_uri": "https://localhost:8080/",
          "height": 419
        },
        "outputId": "93f2305d-260f-4ec9-97d7-2fa2bfce4615"
      },
      "source": [
        "df5['damage_grade'] = y_ans\n",
        "df5"
      ],
      "execution_count": null,
      "outputs": [
        {
          "output_type": "execute_result",
          "data": {
            "text/html": [
              "<div>\n",
              "<style scoped>\n",
              "    .dataframe tbody tr th:only-of-type {\n",
              "        vertical-align: middle;\n",
              "    }\n",
              "\n",
              "    .dataframe tbody tr th {\n",
              "        vertical-align: top;\n",
              "    }\n",
              "\n",
              "    .dataframe thead th {\n",
              "        text-align: right;\n",
              "    }\n",
              "</style>\n",
              "<table border=\"1\" class=\"dataframe\">\n",
              "  <thead>\n",
              "    <tr style=\"text-align: right;\">\n",
              "      <th></th>\n",
              "      <th>building_id</th>\n",
              "      <th>damage_grade</th>\n",
              "    </tr>\n",
              "  </thead>\n",
              "  <tbody>\n",
              "    <tr>\n",
              "      <th>0</th>\n",
              "      <td>300051</td>\n",
              "      <td>High_Damage</td>\n",
              "    </tr>\n",
              "    <tr>\n",
              "      <th>1</th>\n",
              "      <td>99355</td>\n",
              "      <td>Medium_Damage</td>\n",
              "    </tr>\n",
              "    <tr>\n",
              "      <th>2</th>\n",
              "      <td>890251</td>\n",
              "      <td>Medium_Damage</td>\n",
              "    </tr>\n",
              "    <tr>\n",
              "      <th>3</th>\n",
              "      <td>745817</td>\n",
              "      <td>Medium_Damage</td>\n",
              "    </tr>\n",
              "    <tr>\n",
              "      <th>4</th>\n",
              "      <td>421793</td>\n",
              "      <td>High_Damage</td>\n",
              "    </tr>\n",
              "    <tr>\n",
              "      <th>...</th>\n",
              "      <td>...</td>\n",
              "      <td>...</td>\n",
              "    </tr>\n",
              "    <tr>\n",
              "      <th>86863</th>\n",
              "      <td>310028</td>\n",
              "      <td>High_Damage</td>\n",
              "    </tr>\n",
              "    <tr>\n",
              "      <th>86864</th>\n",
              "      <td>663567</td>\n",
              "      <td>Medium_Damage</td>\n",
              "    </tr>\n",
              "    <tr>\n",
              "      <th>86865</th>\n",
              "      <td>1049160</td>\n",
              "      <td>Medium_Damage</td>\n",
              "    </tr>\n",
              "    <tr>\n",
              "      <th>86866</th>\n",
              "      <td>442785</td>\n",
              "      <td>Medium_Damage</td>\n",
              "    </tr>\n",
              "    <tr>\n",
              "      <th>86867</th>\n",
              "      <td>501372</td>\n",
              "      <td>Medium_Damage</td>\n",
              "    </tr>\n",
              "  </tbody>\n",
              "</table>\n",
              "<p>86868 rows × 2 columns</p>\n",
              "</div>"
            ],
            "text/plain": [
              "       building_id   damage_grade\n",
              "0           300051    High_Damage\n",
              "1            99355  Medium_Damage\n",
              "2           890251  Medium_Damage\n",
              "3           745817  Medium_Damage\n",
              "4           421793    High_Damage\n",
              "...            ...            ...\n",
              "86863       310028    High_Damage\n",
              "86864       663567  Medium_Damage\n",
              "86865      1049160  Medium_Damage\n",
              "86866       442785  Medium_Damage\n",
              "86867       501372  Medium_Damage\n",
              "\n",
              "[86868 rows x 2 columns]"
            ]
          },
          "metadata": {
            "tags": []
          },
          "execution_count": 133
        }
      ]
    },
    {
      "cell_type": "code",
      "metadata": {
        "id": "sNeIBJVJlodJ",
        "colab_type": "code",
        "colab": {}
      },
      "source": [
        "df5[df5['damage_grade']==\"Low_Damage\"]=1\n",
        "df5[df5['damage_grade']==\"Medium_Damage\"]=2\n",
        "df5[df5['damage_grade']==\"High_Damage\"]=3\n",
        "df5['building_id'] = df3['building_id']"
      ],
      "execution_count": null,
      "outputs": []
    },
    {
      "cell_type": "code",
      "metadata": {
        "id": "sDHi-l7HluQS",
        "colab_type": "code",
        "colab": {
          "base_uri": "https://localhost:8080/",
          "height": 419
        },
        "outputId": "ee349bbe-477b-4bb3-a359-4d3579c1ec41"
      },
      "source": [
        "df5"
      ],
      "execution_count": null,
      "outputs": [
        {
          "output_type": "execute_result",
          "data": {
            "text/html": [
              "<div>\n",
              "<style scoped>\n",
              "    .dataframe tbody tr th:only-of-type {\n",
              "        vertical-align: middle;\n",
              "    }\n",
              "\n",
              "    .dataframe tbody tr th {\n",
              "        vertical-align: top;\n",
              "    }\n",
              "\n",
              "    .dataframe thead th {\n",
              "        text-align: right;\n",
              "    }\n",
              "</style>\n",
              "<table border=\"1\" class=\"dataframe\">\n",
              "  <thead>\n",
              "    <tr style=\"text-align: right;\">\n",
              "      <th></th>\n",
              "      <th>building_id</th>\n",
              "      <th>damage_grade</th>\n",
              "    </tr>\n",
              "  </thead>\n",
              "  <tbody>\n",
              "    <tr>\n",
              "      <th>0</th>\n",
              "      <td>300051</td>\n",
              "      <td>3</td>\n",
              "    </tr>\n",
              "    <tr>\n",
              "      <th>1</th>\n",
              "      <td>99355</td>\n",
              "      <td>2</td>\n",
              "    </tr>\n",
              "    <tr>\n",
              "      <th>2</th>\n",
              "      <td>890251</td>\n",
              "      <td>2</td>\n",
              "    </tr>\n",
              "    <tr>\n",
              "      <th>3</th>\n",
              "      <td>745817</td>\n",
              "      <td>2</td>\n",
              "    </tr>\n",
              "    <tr>\n",
              "      <th>4</th>\n",
              "      <td>421793</td>\n",
              "      <td>3</td>\n",
              "    </tr>\n",
              "    <tr>\n",
              "      <th>...</th>\n",
              "      <td>...</td>\n",
              "      <td>...</td>\n",
              "    </tr>\n",
              "    <tr>\n",
              "      <th>86863</th>\n",
              "      <td>310028</td>\n",
              "      <td>3</td>\n",
              "    </tr>\n",
              "    <tr>\n",
              "      <th>86864</th>\n",
              "      <td>663567</td>\n",
              "      <td>2</td>\n",
              "    </tr>\n",
              "    <tr>\n",
              "      <th>86865</th>\n",
              "      <td>1049160</td>\n",
              "      <td>2</td>\n",
              "    </tr>\n",
              "    <tr>\n",
              "      <th>86866</th>\n",
              "      <td>442785</td>\n",
              "      <td>2</td>\n",
              "    </tr>\n",
              "    <tr>\n",
              "      <th>86867</th>\n",
              "      <td>501372</td>\n",
              "      <td>2</td>\n",
              "    </tr>\n",
              "  </tbody>\n",
              "</table>\n",
              "<p>86868 rows × 2 columns</p>\n",
              "</div>"
            ],
            "text/plain": [
              "       building_id damage_grade\n",
              "0           300051            3\n",
              "1            99355            2\n",
              "2           890251            2\n",
              "3           745817            2\n",
              "4           421793            3\n",
              "...            ...          ...\n",
              "86863       310028            3\n",
              "86864       663567            2\n",
              "86865      1049160            2\n",
              "86866       442785            2\n",
              "86867       501372            2\n",
              "\n",
              "[86868 rows x 2 columns]"
            ]
          },
          "metadata": {
            "tags": []
          },
          "execution_count": 135
        }
      ]
    },
    {
      "cell_type": "code",
      "metadata": {
        "id": "8LGCZaf3nEQx",
        "colab_type": "code",
        "colab": {}
      },
      "source": [
        "df5.index = df5['building_id']"
      ],
      "execution_count": null,
      "outputs": []
    },
    {
      "cell_type": "code",
      "metadata": {
        "id": "EaKvhbk8nOpv",
        "colab_type": "code",
        "colab": {
          "base_uri": "https://localhost:8080/",
          "height": 450
        },
        "outputId": "e725489d-b8d9-43c7-907c-486bb4cd7209"
      },
      "source": [
        "df5"
      ],
      "execution_count": null,
      "outputs": [
        {
          "output_type": "execute_result",
          "data": {
            "text/html": [
              "<div>\n",
              "<style scoped>\n",
              "    .dataframe tbody tr th:only-of-type {\n",
              "        vertical-align: middle;\n",
              "    }\n",
              "\n",
              "    .dataframe tbody tr th {\n",
              "        vertical-align: top;\n",
              "    }\n",
              "\n",
              "    .dataframe thead th {\n",
              "        text-align: right;\n",
              "    }\n",
              "</style>\n",
              "<table border=\"1\" class=\"dataframe\">\n",
              "  <thead>\n",
              "    <tr style=\"text-align: right;\">\n",
              "      <th></th>\n",
              "      <th>building_id</th>\n",
              "      <th>damage_grade</th>\n",
              "    </tr>\n",
              "    <tr>\n",
              "      <th>building_id</th>\n",
              "      <th></th>\n",
              "      <th></th>\n",
              "    </tr>\n",
              "  </thead>\n",
              "  <tbody>\n",
              "    <tr>\n",
              "      <th>300051</th>\n",
              "      <td>300051</td>\n",
              "      <td>3</td>\n",
              "    </tr>\n",
              "    <tr>\n",
              "      <th>99355</th>\n",
              "      <td>99355</td>\n",
              "      <td>2</td>\n",
              "    </tr>\n",
              "    <tr>\n",
              "      <th>890251</th>\n",
              "      <td>890251</td>\n",
              "      <td>2</td>\n",
              "    </tr>\n",
              "    <tr>\n",
              "      <th>745817</th>\n",
              "      <td>745817</td>\n",
              "      <td>2</td>\n",
              "    </tr>\n",
              "    <tr>\n",
              "      <th>421793</th>\n",
              "      <td>421793</td>\n",
              "      <td>3</td>\n",
              "    </tr>\n",
              "    <tr>\n",
              "      <th>...</th>\n",
              "      <td>...</td>\n",
              "      <td>...</td>\n",
              "    </tr>\n",
              "    <tr>\n",
              "      <th>310028</th>\n",
              "      <td>310028</td>\n",
              "      <td>3</td>\n",
              "    </tr>\n",
              "    <tr>\n",
              "      <th>663567</th>\n",
              "      <td>663567</td>\n",
              "      <td>2</td>\n",
              "    </tr>\n",
              "    <tr>\n",
              "      <th>1049160</th>\n",
              "      <td>1049160</td>\n",
              "      <td>2</td>\n",
              "    </tr>\n",
              "    <tr>\n",
              "      <th>442785</th>\n",
              "      <td>442785</td>\n",
              "      <td>2</td>\n",
              "    </tr>\n",
              "    <tr>\n",
              "      <th>501372</th>\n",
              "      <td>501372</td>\n",
              "      <td>2</td>\n",
              "    </tr>\n",
              "  </tbody>\n",
              "</table>\n",
              "<p>86868 rows × 2 columns</p>\n",
              "</div>"
            ],
            "text/plain": [
              "             building_id damage_grade\n",
              "building_id                          \n",
              "300051            300051            3\n",
              "99355              99355            2\n",
              "890251            890251            2\n",
              "745817            745817            2\n",
              "421793            421793            3\n",
              "...                  ...          ...\n",
              "310028            310028            3\n",
              "663567            663567            2\n",
              "1049160          1049160            2\n",
              "442785            442785            2\n",
              "501372            501372            2\n",
              "\n",
              "[86868 rows x 2 columns]"
            ]
          },
          "metadata": {
            "tags": []
          },
          "execution_count": 137
        }
      ]
    },
    {
      "cell_type": "code",
      "metadata": {
        "id": "e3z6E8_1nRQV",
        "colab_type": "code",
        "colab": {}
      },
      "source": [
        "df5 = df5.drop(columns = 'building_id')"
      ],
      "execution_count": null,
      "outputs": []
    },
    {
      "cell_type": "code",
      "metadata": {
        "id": "iXoXgIORnWtO",
        "colab_type": "code",
        "colab": {
          "base_uri": "https://localhost:8080/",
          "height": 450
        },
        "outputId": "ecba59a0-9ced-482f-bd58-37f81bf31c66"
      },
      "source": [
        "df5"
      ],
      "execution_count": null,
      "outputs": [
        {
          "output_type": "execute_result",
          "data": {
            "text/html": [
              "<div>\n",
              "<style scoped>\n",
              "    .dataframe tbody tr th:only-of-type {\n",
              "        vertical-align: middle;\n",
              "    }\n",
              "\n",
              "    .dataframe tbody tr th {\n",
              "        vertical-align: top;\n",
              "    }\n",
              "\n",
              "    .dataframe thead th {\n",
              "        text-align: right;\n",
              "    }\n",
              "</style>\n",
              "<table border=\"1\" class=\"dataframe\">\n",
              "  <thead>\n",
              "    <tr style=\"text-align: right;\">\n",
              "      <th></th>\n",
              "      <th>damage_grade</th>\n",
              "    </tr>\n",
              "    <tr>\n",
              "      <th>building_id</th>\n",
              "      <th></th>\n",
              "    </tr>\n",
              "  </thead>\n",
              "  <tbody>\n",
              "    <tr>\n",
              "      <th>300051</th>\n",
              "      <td>3</td>\n",
              "    </tr>\n",
              "    <tr>\n",
              "      <th>99355</th>\n",
              "      <td>2</td>\n",
              "    </tr>\n",
              "    <tr>\n",
              "      <th>890251</th>\n",
              "      <td>2</td>\n",
              "    </tr>\n",
              "    <tr>\n",
              "      <th>745817</th>\n",
              "      <td>2</td>\n",
              "    </tr>\n",
              "    <tr>\n",
              "      <th>421793</th>\n",
              "      <td>3</td>\n",
              "    </tr>\n",
              "    <tr>\n",
              "      <th>...</th>\n",
              "      <td>...</td>\n",
              "    </tr>\n",
              "    <tr>\n",
              "      <th>310028</th>\n",
              "      <td>3</td>\n",
              "    </tr>\n",
              "    <tr>\n",
              "      <th>663567</th>\n",
              "      <td>2</td>\n",
              "    </tr>\n",
              "    <tr>\n",
              "      <th>1049160</th>\n",
              "      <td>2</td>\n",
              "    </tr>\n",
              "    <tr>\n",
              "      <th>442785</th>\n",
              "      <td>2</td>\n",
              "    </tr>\n",
              "    <tr>\n",
              "      <th>501372</th>\n",
              "      <td>2</td>\n",
              "    </tr>\n",
              "  </tbody>\n",
              "</table>\n",
              "<p>86868 rows × 1 columns</p>\n",
              "</div>"
            ],
            "text/plain": [
              "            damage_grade\n",
              "building_id             \n",
              "300051                 3\n",
              "99355                  2\n",
              "890251                 2\n",
              "745817                 2\n",
              "421793                 3\n",
              "...                  ...\n",
              "310028                 3\n",
              "663567                 2\n",
              "1049160                2\n",
              "442785                 2\n",
              "501372                 2\n",
              "\n",
              "[86868 rows x 1 columns]"
            ]
          },
          "metadata": {
            "tags": []
          },
          "execution_count": 139
        }
      ]
    },
    {
      "cell_type": "code",
      "metadata": {
        "id": "aGUnCankl0NR",
        "colab_type": "code",
        "colab": {}
      },
      "source": [
        "df5.to_csv(\"submit2.csv\")"
      ],
      "execution_count": null,
      "outputs": []
    },
    {
      "cell_type": "code",
      "metadata": {
        "id": "oTf44OVKnXjX",
        "colab_type": "code",
        "colab": {}
      },
      "source": [
        ""
      ],
      "execution_count": null,
      "outputs": []
    }
  ]
}